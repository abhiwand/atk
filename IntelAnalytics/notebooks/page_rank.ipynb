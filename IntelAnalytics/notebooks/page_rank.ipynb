{
 "metadata": {
  "name": ""
 },
 "nbformat": 3,
 "nbformat_minor": 0,
 "worksheets": [
  {
   "cells": [
    {
     "cell_type": "heading",
     "level": 2,
     "metadata": {},
     "source": [
      "Import Raw Data"
     ]
    },
    {
     "cell_type": "code",
     "collapsed": false,
     "input": [
      "import time\n",
      "start_time = time.time()\n",
      "from intel_analytics.table.bigdataframe import get_frame_builder\n",
      "fb = get_frame_builder()\n",
      "csvfile = '/user/hadoop/netflix.csv'\n",
      "frame = fb.build_from_csv('prframe',\n",
      "                          csvfile,\n",
      "                          schema='user:long,vertex_type:chararray,movie:long,rating:long,splits:chararray',\n",
      "                          overwrite=True)"
     ],
     "language": "python",
     "metadata": {},
     "outputs": [
      {
       "html": [
        "\n",
        "            <div id=\"fabe457d-d657-4a05-9e4e-c8d1e2e96a75\" class='status'>\n",
        "                <span class=\"label span2\">Initialization</span>\n",
        "                <span class=\"span7 progress\">\n",
        "                      <div class=\"bar\" style= \"width:0%\">&nbsp;</div>\n",
        "                </span>\n",
        "            </div>\n",
        "            "
       ],
       "metadata": {},
       "output_type": "display_data",
       "text": [
        "<IPython.core.display.HTML at 0x35b6a50>"
       ]
      },
      {
       "javascript": [
        "$('#fabe457d-d657-4a05-9e4e-c8d1e2e96a75 span').last().addClass(\"progress-striped active\")"
       ],
       "metadata": {},
       "output_type": "display_data",
       "text": [
        "<IPython.core.display.Javascript at 0x35b6a50>"
       ]
      },
      {
       "javascript": [
        "$('#fabe457d-d657-4a05-9e4e-c8d1e2e96a75 div').first().width('100%')"
       ],
       "metadata": {},
       "output_type": "display_data",
       "text": [
        "<IPython.core.display.Javascript at 0x35b6a50>"
       ]
      },
      {
       "javascript": [
        "$('#fabe457d-d657-4a05-9e4e-c8d1e2e96a75 span').last().removeClass(\"progress-striped active\")"
       ],
       "metadata": {},
       "output_type": "display_data",
       "text": [
        "<IPython.core.display.Javascript at 0x35b6fd0>"
       ]
      },
      {
       "javascript": [
        "$('#fabe457d-d657-4a05-9e4e-c8d1e2e96a75 span').first().text('Initialization completed')"
       ],
       "metadata": {},
       "output_type": "display_data",
       "text": [
        "<IPython.core.display.Javascript at 0x35c7050>"
       ]
      },
      {
       "html": [
        "\n",
        "            <div id=\"604acdc4-c495-4a13-b603-dba63f3a69bb\" class='status'>\n",
        "                <span class=\"label span2\">Progress</span>\n",
        "                <span class=\"span7 progress\">\n",
        "                      <div class=\"bar\" style= \"width:0%\">&nbsp;</div>\n",
        "                </span>\n",
        "            </div>\n",
        "            "
       ],
       "metadata": {},
       "output_type": "display_data",
       "text": [
        "<IPython.core.display.HTML at 0x35c8050>"
       ]
      },
      {
       "javascript": [
        "$('#604acdc4-c495-4a13-b603-dba63f3a69bb div').first().width('25%')"
       ],
       "metadata": {},
       "output_type": "display_data",
       "text": [
        "<IPython.core.display.Javascript at 0x35c8050>"
       ]
      },
      {
       "javascript": [
        "$('#604acdc4-c495-4a13-b603-dba63f3a69bb div').first().width('50%')"
       ],
       "metadata": {},
       "output_type": "display_data",
       "text": [
        "<IPython.core.display.Javascript at 0x35c8050>"
       ]
      },
      {
       "javascript": [
        "$('#604acdc4-c495-4a13-b603-dba63f3a69bb div').first().width('61%')"
       ],
       "metadata": {},
       "output_type": "display_data",
       "text": [
        "<IPython.core.display.Javascript at 0x35c9050>"
       ]
      },
      {
       "javascript": [
        "$('#604acdc4-c495-4a13-b603-dba63f3a69bb div').first().width('69%')"
       ],
       "metadata": {},
       "output_type": "display_data",
       "text": [
        "<IPython.core.display.Javascript at 0x35c9050>"
       ]
      },
      {
       "javascript": [
        "$('#604acdc4-c495-4a13-b603-dba63f3a69bb div').first().width('75%')"
       ],
       "metadata": {},
       "output_type": "display_data",
       "text": [
        "<IPython.core.display.Javascript at 0x35c9050>"
       ]
      },
      {
       "javascript": [
        "$('#604acdc4-c495-4a13-b603-dba63f3a69bb div').first().width('100%')"
       ],
       "metadata": {},
       "output_type": "display_data",
       "text": [
        "<IPython.core.display.Javascript at 0x35c9050>"
       ]
      },
      {
       "javascript": [
        "$('#604acdc4-c495-4a13-b603-dba63f3a69bb span').first().text('Execution completed')"
       ],
       "metadata": {},
       "output_type": "display_data",
       "text": [
        "<IPython.core.display.Javascript at 0x35c9050>"
       ]
      }
     ],
     "prompt_number": 1
    },
    {
     "cell_type": "code",
     "collapsed": false,
     "input": [
      "frame.get_schema()\n"
     ],
     "language": "python",
     "metadata": {},
     "outputs": [
      {
       "metadata": {},
       "output_type": "pyout",
       "prompt_number": 2,
       "text": [
        "{'movie': 'long',\n",
        " 'rating': 'long',\n",
        " 'splits': 'chararray',\n",
        " 'user': 'long',\n",
        " 'vertex_type': 'chararray'}"
       ]
      }
     ],
     "prompt_number": 2
    },
    {
     "cell_type": "code",
     "collapsed": false,
     "input": [
      "frame.source_file"
     ],
     "language": "python",
     "metadata": {},
     "outputs": [
      {
       "metadata": {},
       "output_type": "pyout",
       "prompt_number": 3,
       "text": [
        "'/user/hadoop/netflix.csv'"
       ]
      }
     ],
     "prompt_number": 3
    },
    {
     "cell_type": "code",
     "collapsed": false,
     "input": [
      "frame.name"
     ],
     "language": "python",
     "metadata": {},
     "outputs": [
      {
       "metadata": {},
       "output_type": "pyout",
       "prompt_number": 4,
       "text": [
        "'prframe'"
       ]
      }
     ],
     "prompt_number": 4
    },
    {
     "cell_type": "code",
     "collapsed": false,
     "input": [
      "from IPython.display import display\n",
      "from IPython.display import HTML\n",
      "%pylab inline --no-import-all\n",
      "HTML(frame.inspect_as_html())"
     ],
     "language": "python",
     "metadata": {},
     "outputs": [
      {
       "output_type": "stream",
       "stream": "stdout",
       "text": [
        "Populating the interactive namespace from numpy and matplotlib\n"
       ]
      },
      {
       "html": [
        "<table border=\"1\"><tr><th>movie</th><th>vertex_type</th><th>splits</th><th>user</th><th>rating</th></tr><tr><td>-123</td><td>L</td><td>tr</td><td>1</td><td>3</td></tr><tr><td>-357</td><td>L</td><td>tr</td><td>1</td><td>1</td></tr><tr><td>-389</td><td>L</td><td>tr</td><td>4</td><td>1</td></tr><tr><td>-388</td><td>L</td><td>tr</td><td>30</td><td>5</td></tr><tr><td>-239</td><td>L</td><td>tr</td><td>435</td><td>4</td></tr><tr><td>-316</td><td>L</td><td>tr</td><td>6661</td><td>2</td></tr><tr><td>-329</td><td>L</td><td>tr</td><td>6661</td><td>5</td></tr><tr><td>-332</td><td>L</td><td>tr</td><td>6661</td><td>5</td></tr><tr><td>-336</td><td>L</td><td>tr</td><td>6661</td><td>2</td></tr><tr><td>-338</td><td>L</td><td>tr</td><td>6661</td><td>5</td></tr></table>"
       ],
       "metadata": {},
       "output_type": "pyout",
       "prompt_number": 5,
       "text": [
        "<IPython.core.display.HTML at 0x333dfd0>"
       ]
      }
     ],
     "prompt_number": 5
    },
    {
     "cell_type": "heading",
     "level": 2,
     "metadata": {},
     "source": [
      "Graph Construction and Load to Graph Database"
     ]
    },
    {
     "cell_type": "code",
     "collapsed": false,
     "input": [
      "from intel_analytics.graph.biggraph import get_graph_builder, GraphTypes\n",
      "gb = get_graph_builder(GraphTypes.Property, frame)\n",
      "gb.register_vertex('user',['vertex_type'])\n",
      "gb.register_vertex('movie')\n",
      "gb.register_edge(('user', 'movie', 'rates'), ['splits','rating'])"
     ],
     "language": "python",
     "metadata": {},
     "outputs": [],
     "prompt_number": 6
    },
    {
     "cell_type": "code",
     "collapsed": false,
     "input": [
      "graph = gb.build(\"prgraph\", overwrite=True)"
     ],
     "language": "python",
     "metadata": {},
     "outputs": [
      {
       "html": [
        "\n",
        "            <div id=\"28f4bf8d-7e79-4e73-a0fc-921492c9fa33\" class='status'>\n",
        "                <span class=\"label span2\">Initialization</span>\n",
        "                <span class=\"span7 progress\">\n",
        "                      <div class=\"bar\" style= \"width:0%\">&nbsp;</div>\n",
        "                </span>\n",
        "            </div>\n",
        "            "
       ],
       "metadata": {},
       "output_type": "display_data",
       "text": [
        "<IPython.core.display.HTML at 0x333dc50>"
       ]
      },
      {
       "javascript": [
        "$('#28f4bf8d-7e79-4e73-a0fc-921492c9fa33 span').last().addClass(\"progress-striped active\")"
       ],
       "metadata": {},
       "output_type": "display_data",
       "text": [
        "<IPython.core.display.Javascript at 0x333dc50>"
       ]
      },
      {
       "javascript": [
        "$('#28f4bf8d-7e79-4e73-a0fc-921492c9fa33 div').first().width('100%')"
       ],
       "metadata": {},
       "output_type": "display_data",
       "text": [
        "<IPython.core.display.Javascript at 0x333dc50>"
       ]
      },
      {
       "javascript": [
        "$('#28f4bf8d-7e79-4e73-a0fc-921492c9fa33 span').last().removeClass(\"progress-striped active\")"
       ],
       "metadata": {},
       "output_type": "display_data",
       "text": [
        "<IPython.core.display.Javascript at 0x42f5350>"
       ]
      },
      {
       "javascript": [
        "$('#28f4bf8d-7e79-4e73-a0fc-921492c9fa33 span').first().text('Initialization completed')"
       ],
       "metadata": {},
       "output_type": "display_data",
       "text": [
        "<IPython.core.display.Javascript at 0x42f52d0>"
       ]
      },
      {
       "html": [
        "\n",
        "            <div id=\"cc79ff2f-346f-4cd0-89dc-9e1d8543215d\" class='status'>\n",
        "                <span class=\"label span2\">Step 1</span>\n",
        "                <span class=\"span7 progress\">\n",
        "                      <div class=\"bar\" style= \"width:0%\">&nbsp;</div>\n",
        "                </span>\n",
        "            </div>\n",
        "            "
       ],
       "metadata": {},
       "output_type": "display_data",
       "text": [
        "<IPython.core.display.HTML at 0x42f52d0>"
       ]
      },
      {
       "javascript": [
        "$('#cc79ff2f-346f-4cd0-89dc-9e1d8543215d div').first().width('0%')"
       ],
       "metadata": {},
       "output_type": "display_data",
       "text": [
        "<IPython.core.display.Javascript at 0x42f52d0>"
       ]
      },
      {
       "javascript": [
        "$('#cc79ff2f-346f-4cd0-89dc-9e1d8543215d div').first().width('50%')"
       ],
       "metadata": {},
       "output_type": "display_data",
       "text": [
        "<IPython.core.display.Javascript at 0x42f5390>"
       ]
      },
      {
       "javascript": [
        "$('#cc79ff2f-346f-4cd0-89dc-9e1d8543215d div').first().width('62%')"
       ],
       "metadata": {},
       "output_type": "display_data",
       "text": [
        "<IPython.core.display.Javascript at 0x42f5390>"
       ]
      },
      {
       "javascript": [
        "$('#cc79ff2f-346f-4cd0-89dc-9e1d8543215d div').first().width('71%')"
       ],
       "metadata": {},
       "output_type": "display_data",
       "text": [
        "<IPython.core.display.Javascript at 0x42f5390>"
       ]
      },
      {
       "javascript": [
        "$('#cc79ff2f-346f-4cd0-89dc-9e1d8543215d div').first().width('84%')"
       ],
       "metadata": {},
       "output_type": "display_data",
       "text": [
        "<IPython.core.display.Javascript at 0x42f5390>"
       ]
      },
      {
       "javascript": [
        "$('#cc79ff2f-346f-4cd0-89dc-9e1d8543215d div').first().width('86%')"
       ],
       "metadata": {},
       "output_type": "display_data",
       "text": [
        "<IPython.core.display.Javascript at 0x42f5390>"
       ]
      },
      {
       "javascript": [
        "$('#cc79ff2f-346f-4cd0-89dc-9e1d8543215d div').first().width('93%')"
       ],
       "metadata": {},
       "output_type": "display_data",
       "text": [
        "<IPython.core.display.Javascript at 0x42f5390>"
       ]
      },
      {
       "javascript": [
        "$('#cc79ff2f-346f-4cd0-89dc-9e1d8543215d div').first().width('95%')"
       ],
       "metadata": {},
       "output_type": "display_data",
       "text": [
        "<IPython.core.display.Javascript at 0x42f5390>"
       ]
      },
      {
       "javascript": [
        "$('#cc79ff2f-346f-4cd0-89dc-9e1d8543215d div').first().width('100%')"
       ],
       "metadata": {},
       "output_type": "display_data",
       "text": [
        "<IPython.core.display.Javascript at 0x42f5390>"
       ]
      },
      {
       "javascript": [
        "$('#cc79ff2f-346f-4cd0-89dc-9e1d8543215d span').first().text('Step 1 completed')"
       ],
       "metadata": {},
       "output_type": "display_data",
       "text": [
        "<IPython.core.display.Javascript at 0x42f5390>"
       ]
      },
      {
       "html": [
        "\n",
        "            <div id=\"2a4efd7d-7b26-4f93-a015-8346d1f18b3e\" class='status'>\n",
        "                <span class=\"label span2\">Step 2</span>\n",
        "                <span class=\"span7 progress\">\n",
        "                      <div class=\"bar\" style= \"width:0%\">&nbsp;</div>\n",
        "                </span>\n",
        "            </div>\n",
        "            "
       ],
       "metadata": {},
       "output_type": "display_data",
       "text": [
        "<IPython.core.display.HTML at 0x42f5390>"
       ]
      },
      {
       "javascript": [
        "$('#2a4efd7d-7b26-4f93-a015-8346d1f18b3e div').first().width('0%')"
       ],
       "metadata": {},
       "output_type": "display_data",
       "text": [
        "<IPython.core.display.Javascript at 0x42f5390>"
       ]
      },
      {
       "javascript": [
        "$('#2a4efd7d-7b26-4f93-a015-8346d1f18b3e div').first().width('50%')"
       ],
       "metadata": {},
       "output_type": "display_data",
       "text": [
        "<IPython.core.display.Javascript at 0x42f5310>"
       ]
      },
      {
       "javascript": [
        "$('#2a4efd7d-7b26-4f93-a015-8346d1f18b3e div').first().width('54%')"
       ],
       "metadata": {},
       "output_type": "display_data",
       "text": [
        "<IPython.core.display.Javascript at 0x42f5310>"
       ]
      },
      {
       "javascript": [
        "$('#2a4efd7d-7b26-4f93-a015-8346d1f18b3e div').first().width('62%')"
       ],
       "metadata": {},
       "output_type": "display_data",
       "text": [
        "<IPython.core.display.Javascript at 0x42f5310>"
       ]
      },
      {
       "javascript": [
        "$('#2a4efd7d-7b26-4f93-a015-8346d1f18b3e div').first().width('66%')"
       ],
       "metadata": {},
       "output_type": "display_data",
       "text": [
        "<IPython.core.display.Javascript at 0x42f5310>"
       ]
      },
      {
       "javascript": [
        "$('#2a4efd7d-7b26-4f93-a015-8346d1f18b3e div').first().width('75%')"
       ],
       "metadata": {},
       "output_type": "display_data",
       "text": [
        "<IPython.core.display.Javascript at 0x42f5310>"
       ]
      },
      {
       "javascript": [
        "$('#2a4efd7d-7b26-4f93-a015-8346d1f18b3e div').first().width('79%')"
       ],
       "metadata": {},
       "output_type": "display_data",
       "text": [
        "<IPython.core.display.Javascript at 0x42f5310>"
       ]
      },
      {
       "javascript": [
        "$('#2a4efd7d-7b26-4f93-a015-8346d1f18b3e div').first().width('83%')"
       ],
       "metadata": {},
       "output_type": "display_data",
       "text": [
        "<IPython.core.display.Javascript at 0x42f5310>"
       ]
      },
      {
       "javascript": [
        "$('#2a4efd7d-7b26-4f93-a015-8346d1f18b3e div').first().width('92%')"
       ],
       "metadata": {},
       "output_type": "display_data",
       "text": [
        "<IPython.core.display.Javascript at 0x42f5310>"
       ]
      },
      {
       "javascript": [
        "$('#2a4efd7d-7b26-4f93-a015-8346d1f18b3e div').first().width('96%')"
       ],
       "metadata": {},
       "output_type": "display_data",
       "text": [
        "<IPython.core.display.Javascript at 0x42f5310>"
       ]
      },
      {
       "javascript": [
        "$('#2a4efd7d-7b26-4f93-a015-8346d1f18b3e div').first().width('100%')"
       ],
       "metadata": {},
       "output_type": "display_data",
       "text": [
        "<IPython.core.display.Javascript at 0x42f5310>"
       ]
      },
      {
       "javascript": [
        "$('#2a4efd7d-7b26-4f93-a015-8346d1f18b3e span').first().text('Step 2 completed')"
       ],
       "metadata": {},
       "output_type": "display_data",
       "text": [
        "<IPython.core.display.Javascript at 0x42f5310>"
       ]
      }
     ],
     "prompt_number": 7
    },
    {
     "cell_type": "heading",
     "level": 2,
     "metadata": {},
     "source": [
      "Read From Graph Database and Run Machine Learning Algorithms"
     ]
    },
    {
     "cell_type": "code",
     "collapsed": false,
     "input": [
      "report0 = graph.ml.page_rank(\n",
      "       input_edge_label=\"rates\",\n",
      "       output_vertex_property_list=\"pr\",\n",
      "       mapper_memory='8g',\n",
      "       num_worker='3'\n",
      "       )"
     ],
     "language": "python",
     "metadata": {},
     "outputs": [
      {
       "output_type": "stream",
       "stream": "stdout",
       "text": [
        "hadoop jar /home/hadoop/sprint_8/IntelAnalytics/target/IntelAnalytics-application-0.8-SNAPSHOT.jar org.apache.giraph.GiraphRunner -Dgiraph.partitionClass=org.apache.giraph.partition.ByteArrayPartition -Dmapred.tasktracker.map.tasks.maximum=4 -Dmapred.map.child.java.opts=-Xmx8g -Dgiraph.titan.input.storage.backend=hbase -Dgiraph.titan.input.storage.hostname=master -Dgiraph.titan.input.storage.port=2181 -Dgiraph.titan.input.storage.connection-timeout=100000 -Dgiraph.titan.input.storage.tablename=prgraph_prframe_2014-02-15-13-44-51_titan -Dinput.edge.label.list=rates -Doutput.vertex.property.key.list=pr com.intel.giraph.algorithms.pr.PageRankComputation -mc com.intel.giraph.algorithms.pr.PageRankComputation\\$PageRankMasterCompute -aw com.intel.giraph.algorithms.pr.PageRankComputation\\$PageRankAggregatorWriter -vif com.intel.giraph.io.titan.hbase.TitanHBaseVertexInputFormatLongDoubleNull -vof com.intel.giraph.io.titan.TitanVertexOutputFormatLongIDDoubleValue -op hdfs:///user/hadoop/giraph/prgraph_prframe_2014-02-15-13-44-51_titan/pr -w 3 -ca pr.maxSupersteps=20 -ca pr.convergenceThreshold=0.001 -ca pr.resetProbability=0.15 -ca pr.convergenceProgressOutputInterval=1\n"
       ]
      },
      {
       "html": [
        "\n",
        "            <div id=\"ae0d87e7-3261-43a1-91fb-37fe3e73f47d\" class='status'>\n",
        "                <span class=\"label span2\">Initialization</span>\n",
        "                <span class=\"span7 progress\">\n",
        "                      <div class=\"bar\" style= \"width:0%\">&nbsp;</div>\n",
        "                </span>\n",
        "            </div>\n",
        "            "
       ],
       "metadata": {},
       "output_type": "display_data",
       "text": [
        "<IPython.core.display.HTML at 0x4235f10>"
       ]
      },
      {
       "javascript": [
        "$('#ae0d87e7-3261-43a1-91fb-37fe3e73f47d span').last().addClass(\"progress-striped active\")"
       ],
       "metadata": {},
       "output_type": "display_data",
       "text": [
        "<IPython.core.display.Javascript at 0x4235f10>"
       ]
      },
      {
       "javascript": [
        "$('#ae0d87e7-3261-43a1-91fb-37fe3e73f47d div').first().width('100%')"
       ],
       "metadata": {},
       "output_type": "display_data",
       "text": [
        "<IPython.core.display.Javascript at 0x4235f10>"
       ]
      },
      {
       "javascript": [
        "$('#ae0d87e7-3261-43a1-91fb-37fe3e73f47d span').last().removeClass(\"progress-striped active\")"
       ],
       "metadata": {},
       "output_type": "display_data",
       "text": [
        "<IPython.core.display.Javascript at 0x423e190>"
       ]
      },
      {
       "javascript": [
        "$('#ae0d87e7-3261-43a1-91fb-37fe3e73f47d span').first().text('Initialization completed')"
       ],
       "metadata": {},
       "output_type": "display_data",
       "text": [
        "<IPython.core.display.Javascript at 0x423e1d0>"
       ]
      },
      {
       "html": [
        "\n",
        "            <div id=\"e8ffe0bd-a772-4fa4-8b3a-a3f1ea8f21db\" class='status'>\n",
        "                <span class=\"label span2\">Step 1</span>\n",
        "                <span class=\"span7 progress\">\n",
        "                      <div class=\"bar\" style= \"width:0%\">&nbsp;</div>\n",
        "                </span>\n",
        "            </div>\n",
        "            "
       ],
       "metadata": {},
       "output_type": "display_data",
       "text": [
        "<IPython.core.display.HTML at 0x423e210>"
       ]
      },
      {
       "javascript": [
        "$('#e8ffe0bd-a772-4fa4-8b3a-a3f1ea8f21db div').first().width('0%')"
       ],
       "metadata": {},
       "output_type": "display_data",
       "text": [
        "<IPython.core.display.Javascript at 0x423e250>"
       ]
      },
      {
       "javascript": [
        "$('#e8ffe0bd-a772-4fa4-8b3a-a3f1ea8f21db div').first().width('50%')"
       ],
       "metadata": {},
       "output_type": "display_data",
       "text": [
        "<IPython.core.display.Javascript at 0x423e250>"
       ]
      },
      {
       "javascript": [
        "$('#e8ffe0bd-a772-4fa4-8b3a-a3f1ea8f21db div').first().width('100%')"
       ],
       "metadata": {},
       "output_type": "display_data",
       "text": [
        "<IPython.core.display.Javascript at 0x423e250>"
       ]
      },
      {
       "javascript": [
        "$('#e8ffe0bd-a772-4fa4-8b3a-a3f1ea8f21db span').first().text('Step 1 completed')"
       ],
       "metadata": {},
       "output_type": "display_data",
       "text": [
        "<IPython.core.display.Javascript at 0x423e250>"
       ]
      },
      {
       "html": [
        "\n",
        "            <div id=\"16c8f8d5-5f52-4d99-8390-900622cf296d\" class='status'>\n",
        "                <span class=\"label span2\">Step 2</span>\n",
        "                <span class=\"span7 progress\">\n",
        "                      <div class=\"bar\" style= \"width:0%\">&nbsp;</div>\n",
        "                </span>\n",
        "            </div>\n",
        "            "
       ],
       "metadata": {},
       "output_type": "display_data",
       "text": [
        "<IPython.core.display.HTML at 0x423e1d0>"
       ]
      },
      {
       "javascript": [
        "$('#16c8f8d5-5f52-4d99-8390-900622cf296d span').last().addClass(\"progress-striped active\")"
       ],
       "metadata": {},
       "output_type": "display_data",
       "text": [
        "<IPython.core.display.Javascript at 0x423e1d0>"
       ]
      },
      {
       "javascript": [
        "$('#16c8f8d5-5f52-4d99-8390-900622cf296d div').first().width('100%')"
       ],
       "metadata": {},
       "output_type": "display_data",
       "text": [
        "<IPython.core.display.Javascript at 0x423e1d0>"
       ]
      },
      {
       "javascript": [
        "$('#16c8f8d5-5f52-4d99-8390-900622cf296d span').last().addClass(\"progress-striped active\")"
       ],
       "metadata": {},
       "output_type": "display_data",
       "text": [
        "<IPython.core.display.Javascript at 0x423e1d0>"
       ]
      },
      {
       "javascript": [
        "$('#16c8f8d5-5f52-4d99-8390-900622cf296d span').last().removeClass(\"progress-striped active\")"
       ],
       "metadata": {},
       "output_type": "display_data",
       "text": [
        "<IPython.core.display.Javascript at 0x423e1d0>"
       ]
      },
      {
       "javascript": [
        "$('#16c8f8d5-5f52-4d99-8390-900622cf296d span').first().text('Step 2 completed')"
       ],
       "metadata": {},
       "output_type": "display_data",
       "text": [
        "<IPython.core.display.Javascript at 0x423e1d0>"
       ]
      },
      {
       "metadata": {},
       "output_type": "display_data",
       "png": "[encoded data removed]",
       "text": [
        "<matplotlib.figure.Figure at 0x4235f50>"
       ]
      }
     ],
     "prompt_number": 8
    },
    {
     "cell_type": "code",
     "collapsed": false,
     "input": [
      "report0.convergence_progress"
     ],
     "language": "python",
     "metadata": {},
     "outputs": [
      {
       "metadata": {},
       "output_type": "pyout",
       "prompt_number": 9,
       "text": [
        "['17040.281364',\n",
        " '14260.185305',\n",
        " '12120.510638',\n",
        " '10302.461542',\n",
        " '8757.027874',\n",
        " '7443.473902',\n",
        " '6326.952994',\n",
        " '5377.910196',\n",
        " '4571.223795',\n",
        " '3885.540334',\n",
        " '3302.709377',\n",
        " '2807.303049',\n",
        " '2386.207659',\n",
        " '2028.276567',\n",
        " '1724.035130',\n",
        " '1465.429902',\n",
        " '1245.615451',\n",
        " '1058.773163',\n",
        " '899.957214',\n",
        " '764.963653']"
       ]
      }
     ],
     "prompt_number": 9
    },
    {
     "cell_type": "code",
     "collapsed": false,
     "input": [
      "report0.exec_time"
     ],
     "language": "python",
     "metadata": {},
     "outputs": [
      {
       "metadata": {},
       "output_type": "pyout",
       "prompt_number": 10,
       "text": [
        "'79.4156219959 seconds'"
       ]
      }
     ],
     "prompt_number": 10
    },
    {
     "cell_type": "code",
     "collapsed": false,
     "input": [],
     "language": "python",
     "metadata": {},
     "outputs": [],
     "prompt_number": 10
    }
   ],
   "metadata": {}
  }
 ]
}