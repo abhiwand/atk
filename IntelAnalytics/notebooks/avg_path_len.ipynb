{
 "metadata": {
  "name": ""
 },
 "nbformat": 3,
 "nbformat_minor": 0,
 "worksheets": [
  {
   "cells": [
    {
     "cell_type": "heading",
     "level": 2,
     "metadata": {},
     "source": [
      "Import Raw Data"
     ]
    },
    {
     "cell_type": "code",
     "collapsed": false,
     "input": [
      "import time\n",
      "start_time = time.time()\n",
      "from intel_analytics.table.bigdataframe import get_frame_builder\n",
      "fb = get_frame_builder()\n",
      "csvfile = '/user/hadoop/apl.csv'\n",
      "frame = fb.build_from_csv('aplframe',\n",
      "                          csvfile,\n",
      "                          schema='user:long,vertex_type:chararray,movie:long,rating:long,splits:chararray',\n",
      "                          overwrite=True)"
     ],
     "language": "python",
     "metadata": {},
     "outputs": [
      {
       "html": [
        "\n",
        "            <div id=\"7edaee1c-9f5c-447f-aed2-85e5d6c3971e\" class='status'>\n",
        "                <span class=\"label span2\">Initialization</span>\n",
        "                <span class=\"span7 progress\">\n",
        "                      <div class=\"bar\" style= \"width:0%\">&nbsp;</div>\n",
        "                </span>\n",
        "            </div>\n",
        "            "
       ],
       "metadata": {},
       "output_type": "display_data",
       "text": [
        "<IPython.core.display.HTML at 0x4322710>"
       ]
      },
      {
       "javascript": [
        "$('#7edaee1c-9f5c-447f-aed2-85e5d6c3971e span').last().addClass(\"progress-striped active\")"
       ],
       "metadata": {},
       "output_type": "display_data",
       "text": [
        "<IPython.core.display.Javascript at 0x4322710>"
       ]
      },
      {
       "javascript": [
        "$('#7edaee1c-9f5c-447f-aed2-85e5d6c3971e div').first().width('100%')"
       ],
       "metadata": {},
       "output_type": "display_data",
       "text": [
        "<IPython.core.display.Javascript at 0x4322710>"
       ]
      },
      {
       "javascript": [
        "$('#7edaee1c-9f5c-447f-aed2-85e5d6c3971e span').last().removeClass(\"progress-striped active\")"
       ],
       "metadata": {},
       "output_type": "display_data",
       "text": [
        "<IPython.core.display.Javascript at 0x4322c50>"
       ]
      },
      {
       "javascript": [
        "$('#7edaee1c-9f5c-447f-aed2-85e5d6c3971e span').first().text('Initialization completed')"
       ],
       "metadata": {},
       "output_type": "display_data",
       "text": [
        "<IPython.core.display.Javascript at 0x4322cd0>"
       ]
      },
      {
       "html": [
        "\n",
        "            <div id=\"0b115512-d7a7-4107-8b1c-40a714966062\" class='status'>\n",
        "                <span class=\"label span2\">Progress</span>\n",
        "                <span class=\"span7 progress\">\n",
        "                      <div class=\"bar\" style= \"width:0%\">&nbsp;</div>\n",
        "                </span>\n",
        "            </div>\n",
        "            "
       ],
       "metadata": {},
       "output_type": "display_data",
       "text": [
        "<IPython.core.display.HTML at 0x4322cd0>"
       ]
      },
      {
       "javascript": [
        "$('#0b115512-d7a7-4107-8b1c-40a714966062 div').first().width('25%')"
       ],
       "metadata": {},
       "output_type": "display_data",
       "text": [
        "<IPython.core.display.Javascript at 0x4322cd0>"
       ]
      },
      {
       "javascript": [
        "$('#0b115512-d7a7-4107-8b1c-40a714966062 div').first().width('50%')"
       ],
       "metadata": {},
       "output_type": "display_data",
       "text": [
        "<IPython.core.display.Javascript at 0x4322cd0>"
       ]
      },
      {
       "javascript": [
        "$('#0b115512-d7a7-4107-8b1c-40a714966062 div').first().width('75%')"
       ],
       "metadata": {},
       "output_type": "display_data",
       "text": [
        "<IPython.core.display.Javascript at 0x4322cd0>"
       ]
      },
      {
       "javascript": [
        "$('#0b115512-d7a7-4107-8b1c-40a714966062 div').first().width('100%')"
       ],
       "metadata": {},
       "output_type": "display_data",
       "text": [
        "<IPython.core.display.Javascript at 0x4322cd0>"
       ]
      },
      {
       "javascript": [
        "$('#0b115512-d7a7-4107-8b1c-40a714966062 span').first().text('Execution completed')"
       ],
       "metadata": {},
       "output_type": "display_data",
       "text": [
        "<IPython.core.display.Javascript at 0x4322cd0>"
       ]
      }
     ],
     "prompt_number": 21
    },
    {
     "cell_type": "code",
     "collapsed": false,
     "input": [
      "frame.get_schema()\n"
     ],
     "language": "python",
     "metadata": {},
     "outputs": [
      {
       "metadata": {},
       "output_type": "pyout",
       "prompt_number": 22,
       "text": [
        "{'movie': 'long',\n",
        " 'rating': 'long',\n",
        " 'splits': 'chararray',\n",
        " 'user': 'long',\n",
        " 'vertex_type': 'chararray'}"
       ]
      }
     ],
     "prompt_number": 22
    },
    {
     "cell_type": "code",
     "collapsed": false,
     "input": [
      "frame.source_file"
     ],
     "language": "python",
     "metadata": {},
     "outputs": [
      {
       "metadata": {},
       "output_type": "pyout",
       "prompt_number": 23,
       "text": [
        "'/user/hadoop/apl.csv'"
       ]
      }
     ],
     "prompt_number": 23
    },
    {
     "cell_type": "code",
     "collapsed": false,
     "input": [
      "frame.name"
     ],
     "language": "python",
     "metadata": {},
     "outputs": [
      {
       "metadata": {},
       "output_type": "pyout",
       "prompt_number": 24,
       "text": [
        "'aplframe'"
       ]
      }
     ],
     "prompt_number": 24
    },
    {
     "cell_type": "code",
     "collapsed": false,
     "input": [
      "from IPython.display import display\n",
      "from IPython.display import HTML\n",
      "%pylab inline --no-import-all\n",
      "HTML(frame.inspect_as_html())"
     ],
     "language": "python",
     "metadata": {},
     "outputs": [
      {
       "output_type": "stream",
       "stream": "stdout",
       "text": [
        "Populating the interactive namespace from numpy and matplotlib\n"
       ]
      },
      {
       "html": [
        "<table border=\"1\"><tr><th>movie</th><th>vertex_type</th><th>splits</th><th>user</th><th>rating</th></tr><tr><td>-123</td><td>L</td><td>tr</td><td>1</td><td>3</td></tr><tr><td>-357</td><td>L</td><td>tr</td><td>1</td><td>1</td></tr><tr><td>-389</td><td>L</td><td>tr</td><td>4</td><td>1</td></tr><tr><td>-388</td><td>L</td><td>tr</td><td>30</td><td>5</td></tr><tr><td>-239</td><td>L</td><td>tr</td><td>435</td><td>4</td></tr><tr><td>-245</td><td>L</td><td>tr</td><td>435</td><td>4</td></tr><tr><td>-275</td><td>L</td><td>tr</td><td>435</td><td>4</td></tr><tr><td>-280</td><td>L</td><td>tr</td><td>435</td><td>3</td></tr><tr><td>-330</td><td>L</td><td>tr</td><td>435</td><td>4</td></tr><tr><td>-352</td><td>L</td><td>tr</td><td>435</td><td>4</td></tr></table>"
       ],
       "metadata": {},
       "output_type": "pyout",
       "prompt_number": 25,
       "text": [
        "<IPython.core.display.HTML at 0x42fe890>"
       ]
      }
     ],
     "prompt_number": 25
    },
    {
     "cell_type": "heading",
     "level": 2,
     "metadata": {},
     "source": [
      "Graph Construction and Load to Graph Database"
     ]
    },
    {
     "cell_type": "code",
     "collapsed": false,
     "input": [
      "from intel_analytics.graph.biggraph import get_graph_builder, GraphTypes\n",
      "gb = get_graph_builder(GraphTypes.Property, frame)\n",
      "gb.register_vertex('user',['vertex_type'])\n",
      "gb.register_vertex('movie')\n",
      "gb.register_edge(('user', 'movie', 'rates'), ['splits','rating'])"
     ],
     "language": "python",
     "metadata": {},
     "outputs": [],
     "prompt_number": 26
    },
    {
     "cell_type": "code",
     "collapsed": false,
     "input": [
      "graph = gb.build(\"aplgraph\", overwrite=True)"
     ],
     "language": "python",
     "metadata": {},
     "outputs": [
      {
       "html": [
        "\n",
        "            <div id=\"c4ac4fa7-8085-444d-94b1-12f8429531be\" class='status'>\n",
        "                <span class=\"label span2\">Initialization</span>\n",
        "                <span class=\"span7 progress\">\n",
        "                      <div class=\"bar\" style= \"width:0%\">&nbsp;</div>\n",
        "                </span>\n",
        "            </div>\n",
        "            "
       ],
       "metadata": {},
       "output_type": "display_data",
       "text": [
        "<IPython.core.display.HTML at 0x42fe590>"
       ]
      },
      {
       "javascript": [
        "$('#c4ac4fa7-8085-444d-94b1-12f8429531be span').last().addClass(\"progress-striped active\")"
       ],
       "metadata": {},
       "output_type": "display_data",
       "text": [
        "<IPython.core.display.Javascript at 0x42fe590>"
       ]
      },
      {
       "javascript": [
        "$('#c4ac4fa7-8085-444d-94b1-12f8429531be div').first().width('100%')"
       ],
       "metadata": {},
       "output_type": "display_data",
       "text": [
        "<IPython.core.display.Javascript at 0x42fe590>"
       ]
      },
      {
       "javascript": [
        "$('#c4ac4fa7-8085-444d-94b1-12f8429531be span').last().removeClass(\"progress-striped active\")"
       ],
       "metadata": {},
       "output_type": "display_data",
       "text": [
        "<IPython.core.display.Javascript at 0x42fed50>"
       ]
      },
      {
       "javascript": [
        "$('#c4ac4fa7-8085-444d-94b1-12f8429531be span').first().text('Initialization completed')"
       ],
       "metadata": {},
       "output_type": "display_data",
       "text": [
        "<IPython.core.display.Javascript at 0x42fe790>"
       ]
      },
      {
       "html": [
        "\n",
        "            <div id=\"60e4af9b-59df-4a10-96dd-918db977a3a8\" class='status'>\n",
        "                <span class=\"label span2\">Step 1</span>\n",
        "                <span class=\"span7 progress\">\n",
        "                      <div class=\"bar\" style= \"width:0%\">&nbsp;</div>\n",
        "                </span>\n",
        "            </div>\n",
        "            "
       ],
       "metadata": {},
       "output_type": "display_data",
       "text": [
        "<IPython.core.display.HTML at 0x42fe790>"
       ]
      },
      {
       "javascript": [
        "$('#60e4af9b-59df-4a10-96dd-918db977a3a8 div').first().width('0%')"
       ],
       "metadata": {},
       "output_type": "display_data",
       "text": [
        "<IPython.core.display.Javascript at 0x42fe790>"
       ]
      },
      {
       "javascript": [
        "$('#60e4af9b-59df-4a10-96dd-918db977a3a8 div').first().width('50%')"
       ],
       "metadata": {},
       "output_type": "display_data",
       "text": [
        "<IPython.core.display.Javascript at 0x42fe850>"
       ]
      },
      {
       "javascript": [
        "$('#60e4af9b-59df-4a10-96dd-918db977a3a8 div').first().width('83%')"
       ],
       "metadata": {},
       "output_type": "display_data",
       "text": [
        "<IPython.core.display.Javascript at 0x42fe850>"
       ]
      },
      {
       "javascript": [
        "$('#60e4af9b-59df-4a10-96dd-918db977a3a8 div').first().width('100%')"
       ],
       "metadata": {},
       "output_type": "display_data",
       "text": [
        "<IPython.core.display.Javascript at 0x42fe850>"
       ]
      },
      {
       "javascript": [
        "$('#60e4af9b-59df-4a10-96dd-918db977a3a8 span').first().text('Step 1 completed')"
       ],
       "metadata": {},
       "output_type": "display_data",
       "text": [
        "<IPython.core.display.Javascript at 0x42fe850>"
       ]
      },
      {
       "html": [
        "\n",
        "            <div id=\"bb785b7a-4c7f-43f7-a0d2-4e21fe61b958\" class='status'>\n",
        "                <span class=\"label span2\">Step 2</span>\n",
        "                <span class=\"span7 progress\">\n",
        "                      <div class=\"bar\" style= \"width:0%\">&nbsp;</div>\n",
        "                </span>\n",
        "            </div>\n",
        "            "
       ],
       "metadata": {},
       "output_type": "display_data",
       "text": [
        "<IPython.core.display.HTML at 0x42fe850>"
       ]
      },
      {
       "javascript": [
        "$('#bb785b7a-4c7f-43f7-a0d2-4e21fe61b958 div').first().width('0%')"
       ],
       "metadata": {},
       "output_type": "display_data",
       "text": [
        "<IPython.core.display.Javascript at 0x42fe850>"
       ]
      },
      {
       "javascript": [
        "$('#bb785b7a-4c7f-43f7-a0d2-4e21fe61b958 div').first().width('25%')"
       ],
       "metadata": {},
       "output_type": "display_data",
       "text": [
        "<IPython.core.display.Javascript at 0x42fe9d0>"
       ]
      },
      {
       "javascript": [
        "$('#bb785b7a-4c7f-43f7-a0d2-4e21fe61b958 div').first().width('50%')"
       ],
       "metadata": {},
       "output_type": "display_data",
       "text": [
        "<IPython.core.display.Javascript at 0x42fe9d0>"
       ]
      },
      {
       "javascript": [
        "$('#bb785b7a-4c7f-43f7-a0d2-4e21fe61b958 div').first().width('62%')"
       ],
       "metadata": {},
       "output_type": "display_data",
       "text": [
        "<IPython.core.display.Javascript at 0x42fe9d0>"
       ]
      },
      {
       "javascript": [
        "$('#bb785b7a-4c7f-43f7-a0d2-4e21fe61b958 div').first().width('66%')"
       ],
       "metadata": {},
       "output_type": "display_data",
       "text": [
        "<IPython.core.display.Javascript at 0x42fe9d0>"
       ]
      },
      {
       "javascript": [
        "$('#bb785b7a-4c7f-43f7-a0d2-4e21fe61b958 div').first().width('91%')"
       ],
       "metadata": {},
       "output_type": "display_data",
       "text": [
        "<IPython.core.display.Javascript at 0x42fe9d0>"
       ]
      },
      {
       "javascript": [
        "$('#bb785b7a-4c7f-43f7-a0d2-4e21fe61b958 div').first().width('100%')"
       ],
       "metadata": {},
       "output_type": "display_data",
       "text": [
        "<IPython.core.display.Javascript at 0x42fe9d0>"
       ]
      },
      {
       "javascript": [
        "$('#bb785b7a-4c7f-43f7-a0d2-4e21fe61b958 span').first().text('Step 2 completed')"
       ],
       "metadata": {},
       "output_type": "display_data",
       "text": [
        "<IPython.core.display.Javascript at 0x42fe9d0>"
       ]
      }
     ],
     "prompt_number": 27
    },
    {
     "cell_type": "heading",
     "level": 2,
     "metadata": {},
     "source": [
      "Read From Graph Database and Run Machine Learning Algorithms"
     ]
    },
    {
     "cell_type": "code",
     "collapsed": false,
     "input": [
      "report0 = graph.ml.avg_path_len(\n",
      "       input_edge_label=\"rates\",\n",
      "       output_vertex_property_list=\"apl_num,apl_sum\",\n",
      "       num_mapper='4',\n",
      "       mapper_memory='12g',\n",
      "       num_worker='15'\n",
      "       )"
     ],
     "language": "python",
     "metadata": {},
     "outputs": [
      {
       "output_type": "stream",
       "stream": "stdout",
       "text": [
        "hadoop jar /home/hadoop/sprint_8/IntelAnalytics/target/IntelAnalytics-application-0.8-SNAPSHOT.jar org.apache.giraph.GiraphRunner -Dmapred.tasktracker.map.tasks.maximum=4 -Dmapred.map.child.java.opts=-Xmx10g -Dgiraph.titan.input.storage.backend=hbase -Dgiraph.titan.input.storage.hostname=master -Dgiraph.titan.input.storage.port=2181 -Dgiraph.titan.input.storage.connection-timeout=100000 -Dgiraph.titan.input.storage.tablename=aplgraph_aplframe_2014-02-16-09-14-27_titan -Dinput.edge.label.list=rates -Doutput.vertex.property.key.list=apl_num,apl_sum com.intel.giraph.algorithms.apl.AveragePathLengthComputation -mc com.intel.giraph.algorithms.apl.AveragePathLengthComputation\\$AveragePathLengthMasterCompute -aw com.intel.giraph.algorithms.apl.AveragePathLengthComputation\\$AveragePathLengthAggregatorWriter -vif com.intel.giraph.io.titan.hbase.TitanHBaseVertexInputFormatLongDistanceMapNull -vof com.intel.giraph.io.titan.TitanVertexOutputFormatLongIDDistanceMap -op hdfs:///user/hadoop/giraph/aplgraph_aplframe_2014-02-16-09-14-27_titan/apl -w 2 -ca apl.convergenceProgressOutputInterval=1\n"
       ]
      },
      {
       "html": [
        "\n",
        "            <div id=\"bbcdf845-2038-4ffa-abf4-978c0eb0f4c6\" class='status'>\n",
        "                <span class=\"label span2\">Initialization</span>\n",
        "                <span class=\"span7 progress\">\n",
        "                      <div class=\"bar\" style= \"width:0%\">&nbsp;</div>\n",
        "                </span>\n",
        "            </div>\n",
        "            "
       ],
       "metadata": {},
       "output_type": "display_data",
       "text": [
        "<IPython.core.display.HTML at 0x42fedd0>"
       ]
      },
      {
       "javascript": [
        "$('#bbcdf845-2038-4ffa-abf4-978c0eb0f4c6 span').last().addClass(\"progress-striped active\")"
       ],
       "metadata": {},
       "output_type": "display_data",
       "text": [
        "<IPython.core.display.Javascript at 0x42fedd0>"
       ]
      },
      {
       "javascript": [
        "$('#bbcdf845-2038-4ffa-abf4-978c0eb0f4c6 div').first().width('100%')"
       ],
       "metadata": {},
       "output_type": "display_data",
       "text": [
        "<IPython.core.display.Javascript at 0x42fedd0>"
       ]
      },
      {
       "javascript": [
        "$('#bbcdf845-2038-4ffa-abf4-978c0eb0f4c6 span').last().removeClass(\"progress-striped active\")"
       ],
       "metadata": {},
       "output_type": "display_data",
       "text": [
        "<IPython.core.display.Javascript at 0x42fea50>"
       ]
      },
      {
       "javascript": [
        "$('#bbcdf845-2038-4ffa-abf4-978c0eb0f4c6 span').first().text('Initialization completed')"
       ],
       "metadata": {},
       "output_type": "display_data",
       "text": [
        "<IPython.core.display.Javascript at 0x42fec10>"
       ]
      },
      {
       "html": [
        "\n",
        "            <div id=\"9711c3b3-f49b-4943-bcbb-372f8e4312d6\" class='status'>\n",
        "                <span class=\"label span2\">Step 1</span>\n",
        "                <span class=\"span7 progress\">\n",
        "                      <div class=\"bar\" style= \"width:0%\">&nbsp;</div>\n",
        "                </span>\n",
        "            </div>\n",
        "            "
       ],
       "metadata": {},
       "output_type": "display_data",
       "text": [
        "<IPython.core.display.HTML at 0x42fea90>"
       ]
      },
      {
       "javascript": [
        "$('#9711c3b3-f49b-4943-bcbb-372f8e4312d6 div').first().width('0%')"
       ],
       "metadata": {},
       "output_type": "display_data",
       "text": [
        "<IPython.core.display.Javascript at 0x42fec90>"
       ]
      },
      {
       "javascript": [
        "$('#9711c3b3-f49b-4943-bcbb-372f8e4312d6 div').first().width('100%')"
       ],
       "metadata": {},
       "output_type": "display_data",
       "text": [
        "<IPython.core.display.Javascript at 0x42fec90>"
       ]
      },
      {
       "javascript": [
        "$('#9711c3b3-f49b-4943-bcbb-372f8e4312d6 span').first().text('Step 1 completed')"
       ],
       "metadata": {},
       "output_type": "display_data",
       "text": [
        "<IPython.core.display.Javascript at 0x42fec90>"
       ]
      },
      {
       "html": [
        "\n",
        "            <div id=\"8f7ac9c9-df33-46a6-b9c6-0fbdf262fc8a\" class='status'>\n",
        "                <span class=\"label span2\">Step 2</span>\n",
        "                <span class=\"span7 progress\">\n",
        "                      <div class=\"bar\" style= \"width:0%\">&nbsp;</div>\n",
        "                </span>\n",
        "            </div>\n",
        "            "
       ],
       "metadata": {},
       "output_type": "display_data",
       "text": [
        "<IPython.core.display.HTML at 0x42fea90>"
       ]
      },
      {
       "javascript": [
        "$('#8f7ac9c9-df33-46a6-b9c6-0fbdf262fc8a span').last().addClass(\"progress-striped active\")"
       ],
       "metadata": {},
       "output_type": "display_data",
       "text": [
        "<IPython.core.display.Javascript at 0x42fea90>"
       ]
      },
      {
       "javascript": [
        "$('#8f7ac9c9-df33-46a6-b9c6-0fbdf262fc8a div').first().width('100%')"
       ],
       "metadata": {},
       "output_type": "display_data",
       "text": [
        "<IPython.core.display.Javascript at 0x42fea90>"
       ]
      },
      {
       "javascript": [
        "$('#8f7ac9c9-df33-46a6-b9c6-0fbdf262fc8a span').last().addClass(\"progress-striped active\")"
       ],
       "metadata": {},
       "output_type": "display_data",
       "text": [
        "<IPython.core.display.Javascript at 0x42fea90>"
       ]
      },
      {
       "javascript": [
        "$('#8f7ac9c9-df33-46a6-b9c6-0fbdf262fc8a span').last().removeClass(\"progress-striped active\")"
       ],
       "metadata": {},
       "output_type": "display_data",
       "text": [
        "<IPython.core.display.Javascript at 0x42fea90>"
       ]
      },
      {
       "javascript": [
        "$('#8f7ac9c9-df33-46a6-b9c6-0fbdf262fc8a span').first().text('Step 2 completed')"
       ],
       "metadata": {},
       "output_type": "display_data",
       "text": [
        "<IPython.core.display.Javascript at 0x42fea90>"
       ]
      },
      {
       "metadata": {},
       "output_type": "display_data",
       "png": "[encoded data removed]",
       "text": [
        "<matplotlib.figure.Figure at 0x42fe510>"
       ]
      }
     ],
     "prompt_number": 28
    },
    {
     "cell_type": "code",
     "collapsed": false,
     "input": [
      "report0.convergence_progress"
     ],
     "language": "python",
     "metadata": {},
     "outputs": [
      {
       "metadata": {},
       "output_type": "pyout",
       "prompt_number": 29,
       "text": [
        "['39690.000000',\n",
        " '1013884.000000',\n",
        " '939186.000000',\n",
        " '191998.000000',\n",
        " '1080.000000',\n",
        " '124.000000']"
       ]
      }
     ],
     "prompt_number": 29
    },
    {
     "cell_type": "code",
     "collapsed": false,
     "input": [
      "report0.exec_time"
     ],
     "language": "python",
     "metadata": {},
     "outputs": [
      {
       "metadata": {},
       "output_type": "pyout",
       "prompt_number": 30,
       "text": [
        "'69.2484240532 seconds'"
       ]
      }
     ],
     "prompt_number": 30
    },
    {
     "cell_type": "code",
     "collapsed": false,
     "input": [],
     "language": "python",
     "metadata": {},
     "outputs": [],
     "prompt_number": 30
    }
   ],
   "metadata": {}
  }
 ]
}