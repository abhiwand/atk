{
 "metadata": {
  "name": ""
 },
 "nbformat": 3,
 "nbformat_minor": 0,
 "worksheets": [
  {
   "cells": [
    {
     "cell_type": "heading",
     "level": 2,
     "metadata": {},
     "source": [
      "Import Raw Data"
     ]
    },
    {
     "cell_type": "code",
     "collapsed": false,
     "input": [
      "import time\n",
      "start_time = time.time()\n",
      "from intel_analytics.table.bigdataframe import get_frame_builder\n",
      "fb = get_frame_builder()\n",
      "csvfile = '/user/hadoop/lbp_edge.csv'\n",
      "frame = fb.build_from_csv('lbpframe',\n",
      "                          csvfile,\n",
      "                          schema='source:long,value:chararray,vertex_type:chararray,target:long,weight:double',\n",
      "                          overwrite=True)"
     ],
     "language": "python",
     "metadata": {},
     "outputs": [
      {
       "html": [
        "\n",
        "            <div id=\"1c7e5d79-2c4e-4680-87cd-fe6ebe9ae1db\" class='status'>\n",
        "                <span class=\"label span2\">Initialization</span>\n",
        "                <span class=\"span7 progress\">\n",
        "                      <div class=\"bar\" style= \"width:0%\">&nbsp;</div>\n",
        "                </span>\n",
        "            </div>\n",
        "            "
       ],
       "metadata": {},
       "output_type": "display_data",
       "text": [
        "<IPython.core.display.HTML at 0x288d450>"
       ]
      },
      {
       "javascript": [
        "$('#1c7e5d79-2c4e-4680-87cd-fe6ebe9ae1db span').last().addClass(\"progress-striped active\")"
       ],
       "metadata": {},
       "output_type": "display_data",
       "text": [
        "<IPython.core.display.Javascript at 0x288d450>"
       ]
      },
      {
       "javascript": [
        "$('#1c7e5d79-2c4e-4680-87cd-fe6ebe9ae1db div').first().width('100%')"
       ],
       "metadata": {},
       "output_type": "display_data",
       "text": [
        "<IPython.core.display.Javascript at 0x288d450>"
       ]
      },
      {
       "javascript": [
        "$('#1c7e5d79-2c4e-4680-87cd-fe6ebe9ae1db span').last().removeClass(\"progress-striped active\")"
       ],
       "metadata": {},
       "output_type": "display_data",
       "text": [
        "<IPython.core.display.Javascript at 0x288d7d0>"
       ]
      },
      {
       "javascript": [
        "$('#1c7e5d79-2c4e-4680-87cd-fe6ebe9ae1db span').first().text('Initialization completed')"
       ],
       "metadata": {},
       "output_type": "display_data",
       "text": [
        "<IPython.core.display.Javascript at 0x288d810>"
       ]
      },
      {
       "html": [
        "\n",
        "            <div id=\"c577f000-6adb-48e2-8b3d-b007dbfb94b5\" class='status'>\n",
        "                <span class=\"label span2\">Progress</span>\n",
        "                <span class=\"span7 progress\">\n",
        "                      <div class=\"bar\" style= \"width:0%\">&nbsp;</div>\n",
        "                </span>\n",
        "            </div>\n",
        "            "
       ],
       "metadata": {},
       "output_type": "display_data",
       "text": [
        "<IPython.core.display.HTML at 0x288d810>"
       ]
      },
      {
       "javascript": [
        "$('#c577f000-6adb-48e2-8b3d-b007dbfb94b5 div').first().width('25%')"
       ],
       "metadata": {},
       "output_type": "display_data",
       "text": [
        "<IPython.core.display.Javascript at 0x288d810>"
       ]
      },
      {
       "javascript": [
        "$('#c577f000-6adb-48e2-8b3d-b007dbfb94b5 div').first().width('50%')"
       ],
       "metadata": {},
       "output_type": "display_data",
       "text": [
        "<IPython.core.display.Javascript at 0x288d810>"
       ]
      },
      {
       "javascript": [
        "$('#c577f000-6adb-48e2-8b3d-b007dbfb94b5 div').first().width('72%')"
       ],
       "metadata": {},
       "output_type": "display_data",
       "text": [
        "<IPython.core.display.Javascript at 0x288d810>"
       ]
      },
      {
       "javascript": [
        "$('#c577f000-6adb-48e2-8b3d-b007dbfb94b5 div').first().width('100%')"
       ],
       "metadata": {},
       "output_type": "display_data",
       "text": [
        "<IPython.core.display.Javascript at 0x288d810>"
       ]
      },
      {
       "javascript": [
        "$('#c577f000-6adb-48e2-8b3d-b007dbfb94b5 span').first().text('Execution completed')"
       ],
       "metadata": {},
       "output_type": "display_data",
       "text": [
        "<IPython.core.display.Javascript at 0x288d810>"
       ]
      }
     ],
     "prompt_number": 1
    },
    {
     "cell_type": "code",
     "collapsed": false,
     "input": [
      "frame.get_schema()\n"
     ],
     "language": "python",
     "metadata": {},
     "outputs": [
      {
       "metadata": {},
       "output_type": "pyout",
       "prompt_number": 2,
       "text": [
        "{'source': 'long',\n",
        " 'target': 'long',\n",
        " 'value': 'chararray',\n",
        " 'vertex_type': 'chararray',\n",
        " 'weight': 'double'}"
       ]
      }
     ],
     "prompt_number": 2
    },
    {
     "cell_type": "code",
     "collapsed": false,
     "input": [
      "frame.source_file"
     ],
     "language": "python",
     "metadata": {},
     "outputs": [
      {
       "metadata": {},
       "output_type": "pyout",
       "prompt_number": 3,
       "text": [
        "'/user/hadoop/lbp_edge.csv'"
       ]
      }
     ],
     "prompt_number": 3
    },
    {
     "cell_type": "code",
     "collapsed": false,
     "input": [
      "frame.name"
     ],
     "language": "python",
     "metadata": {},
     "outputs": [
      {
       "metadata": {},
       "output_type": "pyout",
       "prompt_number": 4,
       "text": [
        "'lbpframe'"
       ]
      }
     ],
     "prompt_number": 4
    },
    {
     "cell_type": "code",
     "collapsed": false,
     "input": [
      "from IPython.display import HTML\n",
      "HTML(frame.inspect_as_html())"
     ],
     "language": "python",
     "metadata": {},
     "outputs": [
      {
       "html": [
        "<table border=\"1\"><tr><th>source</th><th>vertex_type</th><th>value</th><th>weight</th><th>target</th></tr><tr><td>131186</td><td>TR</td><td>0.125 0.125 0.125 0.5 0.125</td><td>1.0</td><td>65650</td></tr><tr><td>1769647</td><td>TR</td><td>0.5 0.125 0.125 0.125 0.125</td><td>1.0</td><td>1769646</td></tr><tr><td>7995460</td><td>TR</td><td>0.5 0.125 0.125 0.125 0.125</td><td>1.0</td><td>7995459</td></tr><tr><td>11600050</td><td>TR</td><td>0.125 0.125 0.5 0.125 0.125</td><td>1.0</td><td>11600051</td></tr><tr><td>10879154</td><td>VA</td><td>0.5 0.125 0.125 0.125 0.125</td><td>1.0</td><td>10944690</td></tr><tr><td>2490406</td><td>TR</td><td>0.125 0.125 0.125 0.5 0.125</td><td>1.0</td><td>2490407</td></tr><tr><td>5767207</td><td>TR</td><td>0.125 0.125 0.5 0.125 0.125</td><td>1.0</td><td>5701671</td></tr><tr><td>5767207</td><td>TR</td><td>0.125 0.125 0.5 0.125 0.125</td><td>1.0</td><td>5767206</td></tr><tr><td>5767207</td><td>TR</td><td>0.125 0.125 0.5 0.125 0.125</td><td>1.0</td><td>5832743</td></tr><tr><td>5767207</td><td>TR</td><td>0.125 0.125 0.5 0.125 0.125</td><td>1.0</td><td>5767208</td></tr></table>"
       ],
       "metadata": {},
       "output_type": "pyout",
       "prompt_number": 5,
       "text": [
        "<IPython.core.display.HTML at 0x2577150>"
       ]
      }
     ],
     "prompt_number": 5
    },
    {
     "cell_type": "heading",
     "level": 2,
     "metadata": {},
     "source": [
      "Graph Construction and Load to Graph Database"
     ]
    },
    {
     "cell_type": "code",
     "collapsed": false,
     "input": [
      "from intel_analytics.graph.biggraph import get_graph_builder, GraphTypes\n",
      "gb = get_graph_builder(GraphTypes.Property, frame)\n",
      "gb.register_vertex('source',['vertex_type', 'value'])\n",
      "gb.register_vertex('target')\n",
      "gb.register_edge(('source', 'target', 'edge'), ['weight'])"
     ],
     "language": "python",
     "metadata": {},
     "outputs": [],
     "prompt_number": 6
    },
    {
     "cell_type": "code",
     "collapsed": false,
     "input": [
      "graph = gb.build(\"lbpgraph\", overwrite=True)"
     ],
     "language": "python",
     "metadata": {},
     "outputs": [
      {
       "html": [
        "\n",
        "            <div id=\"a616f7e7-9800-4514-8a6a-6d03a7bdf964\" class='status'>\n",
        "                <span class=\"label span2\">Initialization</span>\n",
        "                <span class=\"span7 progress\">\n",
        "                      <div class=\"bar\" style= \"width:0%\">&nbsp;</div>\n",
        "                </span>\n",
        "            </div>\n",
        "            "
       ],
       "metadata": {},
       "output_type": "display_data",
       "text": [
        "<IPython.core.display.HTML at 0x2665650>"
       ]
      },
      {
       "javascript": [
        "$('#a616f7e7-9800-4514-8a6a-6d03a7bdf964 span').last().addClass(\"progress-striped active\")"
       ],
       "metadata": {},
       "output_type": "display_data",
       "text": [
        "<IPython.core.display.Javascript at 0x2665650>"
       ]
      },
      {
       "javascript": [
        "$('#a616f7e7-9800-4514-8a6a-6d03a7bdf964 div').first().width('100%')"
       ],
       "metadata": {},
       "output_type": "display_data",
       "text": [
        "<IPython.core.display.Javascript at 0x2665650>"
       ]
      },
      {
       "javascript": [
        "$('#a616f7e7-9800-4514-8a6a-6d03a7bdf964 span').last().removeClass(\"progress-striped active\")"
       ],
       "metadata": {},
       "output_type": "display_data",
       "text": [
        "<IPython.core.display.Javascript at 0x288d5d0>"
       ]
      },
      {
       "javascript": [
        "$('#a616f7e7-9800-4514-8a6a-6d03a7bdf964 span').first().text('Initialization completed')"
       ],
       "metadata": {},
       "output_type": "display_data",
       "text": [
        "<IPython.core.display.Javascript at 0x288d850>"
       ]
      },
      {
       "html": [
        "\n",
        "            <div id=\"b928d2eb-8c58-4798-98b1-ef8cf84af83a\" class='status'>\n",
        "                <span class=\"label span2\">Step 1</span>\n",
        "                <span class=\"span7 progress\">\n",
        "                      <div class=\"bar\" style= \"width:0%\">&nbsp;</div>\n",
        "                </span>\n",
        "            </div>\n",
        "            "
       ],
       "metadata": {},
       "output_type": "display_data",
       "text": [
        "<IPython.core.display.HTML at 0x288d850>"
       ]
      },
      {
       "javascript": [
        "$('#b928d2eb-8c58-4798-98b1-ef8cf84af83a div').first().width('0%')"
       ],
       "metadata": {},
       "output_type": "display_data",
       "text": [
        "<IPython.core.display.Javascript at 0x288d850>"
       ]
      },
      {
       "javascript": [
        "$('#b928d2eb-8c58-4798-98b1-ef8cf84af83a div').first().width('50%')"
       ],
       "metadata": {},
       "output_type": "display_data",
       "text": [
        "<IPython.core.display.Javascript at 0x288d710>"
       ]
      },
      {
       "javascript": [
        "$('#b928d2eb-8c58-4798-98b1-ef8cf84af83a div').first().width('54%')"
       ],
       "metadata": {},
       "output_type": "display_data",
       "text": [
        "<IPython.core.display.Javascript at 0x288d710>"
       ]
      },
      {
       "javascript": [
        "$('#b928d2eb-8c58-4798-98b1-ef8cf84af83a div').first().width('62%')"
       ],
       "metadata": {},
       "output_type": "display_data",
       "text": [
        "<IPython.core.display.Javascript at 0x288d710>"
       ]
      },
      {
       "javascript": [
        "$('#b928d2eb-8c58-4798-98b1-ef8cf84af83a div').first().width('83%')"
       ],
       "metadata": {},
       "output_type": "display_data",
       "text": [
        "<IPython.core.display.Javascript at 0x288d710>"
       ]
      },
      {
       "javascript": [
        "$('#b928d2eb-8c58-4798-98b1-ef8cf84af83a div').first().width('85%')"
       ],
       "metadata": {},
       "output_type": "display_data",
       "text": [
        "<IPython.core.display.Javascript at 0x288d710>"
       ]
      },
      {
       "javascript": [
        "$('#b928d2eb-8c58-4798-98b1-ef8cf84af83a div').first().width('87%')"
       ],
       "metadata": {},
       "output_type": "display_data",
       "text": [
        "<IPython.core.display.Javascript at 0x288d710>"
       ]
      },
      {
       "javascript": [
        "$('#b928d2eb-8c58-4798-98b1-ef8cf84af83a div').first().width('94%')"
       ],
       "metadata": {},
       "output_type": "display_data",
       "text": [
        "<IPython.core.display.Javascript at 0x288d710>"
       ]
      },
      {
       "javascript": [
        "$('#b928d2eb-8c58-4798-98b1-ef8cf84af83a div').first().width('97%')"
       ],
       "metadata": {},
       "output_type": "display_data",
       "text": [
        "<IPython.core.display.Javascript at 0x288d710>"
       ]
      },
      {
       "javascript": [
        "$('#b928d2eb-8c58-4798-98b1-ef8cf84af83a div').first().width('99%')"
       ],
       "metadata": {},
       "output_type": "display_data",
       "text": [
        "<IPython.core.display.Javascript at 0x288d710>"
       ]
      },
      {
       "javascript": [
        "$('#b928d2eb-8c58-4798-98b1-ef8cf84af83a div').first().width('100%')"
       ],
       "metadata": {},
       "output_type": "display_data",
       "text": [
        "<IPython.core.display.Javascript at 0x288d710>"
       ]
      },
      {
       "javascript": [
        "$('#b928d2eb-8c58-4798-98b1-ef8cf84af83a span').first().text('Step 1 completed')"
       ],
       "metadata": {},
       "output_type": "display_data",
       "text": [
        "<IPython.core.display.Javascript at 0x288d710>"
       ]
      },
      {
       "html": [
        "\n",
        "            <div id=\"8943edc8-abf0-4f05-9359-da2b4fa1ccb5\" class='status'>\n",
        "                <span class=\"label span2\">Step 2</span>\n",
        "                <span class=\"span7 progress\">\n",
        "                      <div class=\"bar\" style= \"width:0%\">&nbsp;</div>\n",
        "                </span>\n",
        "            </div>\n",
        "            "
       ],
       "metadata": {},
       "output_type": "display_data",
       "text": [
        "<IPython.core.display.HTML at 0x288d710>"
       ]
      },
      {
       "javascript": [
        "$('#8943edc8-abf0-4f05-9359-da2b4fa1ccb5 div').first().width('0%')"
       ],
       "metadata": {},
       "output_type": "display_data",
       "text": [
        "<IPython.core.display.Javascript at 0x288d710>"
       ]
      },
      {
       "javascript": [
        "$('#8943edc8-abf0-4f05-9359-da2b4fa1ccb5 div').first().width('25%')"
       ],
       "metadata": {},
       "output_type": "display_data",
       "text": [
        "<IPython.core.display.Javascript at 0x288da90>"
       ]
      },
      {
       "javascript": [
        "$('#8943edc8-abf0-4f05-9359-da2b4fa1ccb5 div').first().width('50%')"
       ],
       "metadata": {},
       "output_type": "display_data",
       "text": [
        "<IPython.core.display.Javascript at 0x288da90>"
       ]
      },
      {
       "javascript": [
        "$('#8943edc8-abf0-4f05-9359-da2b4fa1ccb5 div').first().width('62%')"
       ],
       "metadata": {},
       "output_type": "display_data",
       "text": [
        "<IPython.core.display.Javascript at 0x288da90>"
       ]
      },
      {
       "javascript": [
        "$('#8943edc8-abf0-4f05-9359-da2b4fa1ccb5 div').first().width('66%')"
       ],
       "metadata": {},
       "output_type": "display_data",
       "text": [
        "<IPython.core.display.Javascript at 0x288da90>"
       ]
      },
      {
       "javascript": [
        "$('#8943edc8-abf0-4f05-9359-da2b4fa1ccb5 div').first().width('81%')"
       ],
       "metadata": {},
       "output_type": "display_data",
       "text": [
        "<IPython.core.display.Javascript at 0x288da90>"
       ]
      },
      {
       "javascript": [
        "$('#8943edc8-abf0-4f05-9359-da2b4fa1ccb5 div').first().width('86%')"
       ],
       "metadata": {},
       "output_type": "display_data",
       "text": [
        "<IPython.core.display.Javascript at 0x288da90>"
       ]
      },
      {
       "javascript": [
        "$('#8943edc8-abf0-4f05-9359-da2b4fa1ccb5 div').first().width('96%')"
       ],
       "metadata": {},
       "output_type": "display_data",
       "text": [
        "<IPython.core.display.Javascript at 0x288da90>"
       ]
      },
      {
       "javascript": [
        "$('#8943edc8-abf0-4f05-9359-da2b4fa1ccb5 div').first().width('100%')"
       ],
       "metadata": {},
       "output_type": "display_data",
       "text": [
        "<IPython.core.display.Javascript at 0x288da90>"
       ]
      },
      {
       "javascript": [
        "$('#8943edc8-abf0-4f05-9359-da2b4fa1ccb5 span').first().text('Step 2 completed')"
       ],
       "metadata": {},
       "output_type": "display_data",
       "text": [
        "<IPython.core.display.Javascript at 0x288da90>"
       ]
      }
     ],
     "prompt_number": 7
    },
    {
     "cell_type": "code",
     "collapsed": false,
     "input": [
      "#Make sure displays stay inline (not popups)\n",
      "from IPython.display import display\n",
      "%pylab inline --no-import-all"
     ],
     "language": "python",
     "metadata": {},
     "outputs": [
      {
       "output_type": "stream",
       "stream": "stdout",
       "text": [
        "Populating the interactive namespace from numpy and matplotlib\n"
       ]
      }
     ],
     "prompt_number": 8
    },
    {
     "cell_type": "heading",
     "level": 2,
     "metadata": {},
     "source": [
      "Read From Graph Database and Run Machine Learning Algorithms"
     ]
    },
    {
     "cell_type": "code",
     "collapsed": false,
     "input": [
      "report0 = graph.ml.belief_prop(\n",
      "       input_vertex_property_list=\"value\",\n",
      "       input_edge_property_list=\"weight\",\n",
      "       input_edge_label=\"edge\",\n",
      "       output_vertex_property_list=\"lbp_posterior\",\n",
      "       vertex_type=\"vertex_type\",\n",
      "       vector_value=\"true\"\n",
      "       )"
     ],
     "language": "python",
     "metadata": {},
     "outputs": [
      {
       "output_type": "stream",
       "stream": "stdout",
       "text": [
        "hadoop jar /home/hadoop/TRIB-1132/IntelAnalytics/target/IntelAnalytics-application-0.5-SNAPSHOT.jar org.apache.giraph.GiraphRunner -Dgiraph.titan.input.storage.backend=hbase -Dgiraph.titan.input.storage.hostname=gao-ws1 -Dgiraph.titan.input.storage.port=2181 -Dgiraph.titan.input.storage.connection-timeout=100000 -Dgiraph.titan.input.storage.tablename=lbpgraph_lbpframe_2014-01-27-09-19-15_titan -Dinput.vertex.value.property.key.list=etl-cf:value -Dinput.edge.value.property.key.list=etl-cf:weight -Dinput.edge.label.list=edge -Doutput.vertex.property.key.list=lbp_posterior -Dvertex.type.property.key=etl-cf:vertex_type -Dvector.value=true com.intel.giraph.algorithms.lbp.LoopyBeliefPropagationComputation -mc com.intel.giraph.algorithms.lbp.LoopyBeliefPropagationComputation\\$LoopyBeliefPropagationMasterCompute -aw com.intel.giraph.algorithms.lbp.LoopyBeliefPropagationComputation\\$LoopyBeliefPropagationAggregatorWriter -vif com.intel.giraph.io.titan.hbase.TitanHBaseVertexInputFormatPropertyGraph4LBP -vof com.intel.giraph.io.titan.TitanVertexOutputFormatPropertyGraph4LBP -op hdfs:///user/hadoop/giraph/lbpgraph_lbpframe_2014-01-27-09-19-15_titan/lbp -w 3 -ca lbp.maxSupersteps=10 -ca lbp.convergenceThreshold=0.001 -ca lbp.smoothing=2 -ca lbp.bidirectionalCheck=false -ca lbp.anchorThreshold=1\n"
       ]
      },
      {
       "html": [
        "\n",
        "            <div id=\"78ab050f-6466-43bc-b7ae-d73fda488b97\" class='status'>\n",
        "                <span class=\"label span2\">Initialization</span>\n",
        "                <span class=\"span7 progress\">\n",
        "                      <div class=\"bar\" style= \"width:0%\">&nbsp;</div>\n",
        "                </span>\n",
        "            </div>\n",
        "            "
       ],
       "metadata": {},
       "output_type": "display_data",
       "text": [
        "<IPython.core.display.HTML at 0x3553450>"
       ]
      },
      {
       "javascript": [
        "$('#78ab050f-6466-43bc-b7ae-d73fda488b97 span').last().addClass(\"progress-striped active\")"
       ],
       "metadata": {},
       "output_type": "display_data",
       "text": [
        "<IPython.core.display.Javascript at 0x2577c10>"
       ]
      },
      {
       "javascript": [
        "$('#78ab050f-6466-43bc-b7ae-d73fda488b97 div').first().width('100%')"
       ],
       "metadata": {},
       "output_type": "display_data",
       "text": [
        "<IPython.core.display.Javascript at 0x2577c10>"
       ]
      },
      {
       "javascript": [
        "$('#78ab050f-6466-43bc-b7ae-d73fda488b97 span').last().removeClass(\"progress-striped active\")"
       ],
       "metadata": {},
       "output_type": "display_data",
       "text": [
        "<IPython.core.display.Javascript at 0x3553610>"
       ]
      },
      {
       "javascript": [
        "$('#78ab050f-6466-43bc-b7ae-d73fda488b97 span').first().text('Initialization completed')"
       ],
       "metadata": {},
       "output_type": "display_data",
       "text": [
        "<IPython.core.display.Javascript at 0x3553650>"
       ]
      },
      {
       "html": [
        "\n",
        "            <div id=\"df4262cd-8b07-4ff2-875b-8b84131170df\" class='status'>\n",
        "                <span class=\"label span2\">Step 1</span>\n",
        "                <span class=\"span7 progress\">\n",
        "                      <div class=\"bar\" style= \"width:0%\">&nbsp;</div>\n",
        "                </span>\n",
        "            </div>\n",
        "            "
       ],
       "metadata": {},
       "output_type": "display_data",
       "text": [
        "<IPython.core.display.HTML at 0x3553690>"
       ]
      },
      {
       "javascript": [
        "$('#df4262cd-8b07-4ff2-875b-8b84131170df div').first().width('0%')"
       ],
       "metadata": {},
       "output_type": "display_data",
       "text": [
        "<IPython.core.display.Javascript at 0x35536d0>"
       ]
      },
      {
       "javascript": [
        "$('#df4262cd-8b07-4ff2-875b-8b84131170df div').first().width('25%')"
       ],
       "metadata": {},
       "output_type": "display_data",
       "text": [
        "<IPython.core.display.Javascript at 0x35536d0>"
       ]
      },
      {
       "javascript": [
        "$('#df4262cd-8b07-4ff2-875b-8b84131170df div').first().width('75%')"
       ],
       "metadata": {},
       "output_type": "display_data",
       "text": [
        "<IPython.core.display.Javascript at 0x35536d0>"
       ]
      },
      {
       "javascript": [
        "$('#df4262cd-8b07-4ff2-875b-8b84131170df div').first().width('100%')"
       ],
       "metadata": {},
       "output_type": "display_data",
       "text": [
        "<IPython.core.display.Javascript at 0x35536d0>"
       ]
      },
      {
       "javascript": [
        "$('#df4262cd-8b07-4ff2-875b-8b84131170df span').first().text('Step 1 completed')"
       ],
       "metadata": {},
       "output_type": "display_data",
       "text": [
        "<IPython.core.display.Javascript at 0x35536d0>"
       ]
      },
      {
       "html": [
        "\n",
        "            <div id=\"9d2e1ca2-4be7-46e5-a74b-fc686da64c0b\" class='status'>\n",
        "                <span class=\"label span2\">Step 2</span>\n",
        "                <span class=\"span7 progress\">\n",
        "                      <div class=\"bar\" style= \"width:0%\">&nbsp;</div>\n",
        "                </span>\n",
        "            </div>\n",
        "            "
       ],
       "metadata": {},
       "output_type": "display_data",
       "text": [
        "<IPython.core.display.HTML at 0x3553690>"
       ]
      },
      {
       "javascript": [
        "$('#9d2e1ca2-4be7-46e5-a74b-fc686da64c0b span').last().addClass(\"progress-striped active\")"
       ],
       "metadata": {},
       "output_type": "display_data",
       "text": [
        "<IPython.core.display.Javascript at 0x3553690>"
       ]
      },
      {
       "javascript": [
        "$('#9d2e1ca2-4be7-46e5-a74b-fc686da64c0b div').first().width('100%')"
       ],
       "metadata": {},
       "output_type": "display_data",
       "text": [
        "<IPython.core.display.Javascript at 0x3553690>"
       ]
      },
      {
       "javascript": [
        "$('#9d2e1ca2-4be7-46e5-a74b-fc686da64c0b span').last().addClass(\"progress-striped active\")"
       ],
       "metadata": {},
       "output_type": "display_data",
       "text": [
        "<IPython.core.display.Javascript at 0x3553690>"
       ]
      },
      {
       "javascript": [
        "$('#9d2e1ca2-4be7-46e5-a74b-fc686da64c0b span').last().removeClass(\"progress-striped active\")"
       ],
       "metadata": {},
       "output_type": "display_data",
       "text": [
        "<IPython.core.display.Javascript at 0x3553690>"
       ]
      },
      {
       "javascript": [
        "$('#9d2e1ca2-4be7-46e5-a74b-fc686da64c0b span').first().text('Step 2 completed')"
       ],
       "metadata": {},
       "output_type": "display_data",
       "text": [
        "<IPython.core.display.Javascript at 0x3553690>"
       ]
      },
      {
       "metadata": {},
       "output_type": "display_data",
       "png": "[encoded data removed]",
       "text": [
        "<matplotlib.figure.Figure at 0x3553510>"
       ]
      }
     ],
     "prompt_number": 9
    },
    {
     "cell_type": "code",
     "collapsed": false,
     "input": [
      "report0.cost_train"
     ],
     "language": "python",
     "metadata": {},
     "outputs": [
      {
       "metadata": {},
       "output_type": "pyout",
       "prompt_number": 10,
       "text": [
        "['0.551824',\n",
        " '0.384527',\n",
        " '0.207641',\n",
        " '0.103833',\n",
        " '0.052766',\n",
        " '0.028576',\n",
        " '0.016450',\n",
        " '0.009934',\n",
        " '0.006551',\n",
        " '0.004538']"
       ]
      }
     ],
     "prompt_number": 10
    },
    {
     "cell_type": "code",
     "collapsed": false,
     "input": [
      "report0.exec_time"
     ],
     "language": "python",
     "metadata": {},
     "outputs": [
      {
       "metadata": {},
       "output_type": "pyout",
       "prompt_number": 11,
       "text": [
        "'91.0073428154 seconds'"
       ]
      }
     ],
     "prompt_number": 11
    }
   ],
   "metadata": {}
  }
 ]
}