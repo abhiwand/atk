{
 "metadata": {
  "name": ""
 },
 "nbformat": 3,
 "nbformat_minor": 0,
 "worksheets": [
  {
   "cells": [
    {
     "cell_type": "heading",
     "level": 2,
     "metadata": {},
     "source": [
      "Import Raw Data"
     ]
    },
    {
     "cell_type": "code",
     "collapsed": false,
     "input": [
      "import time\n",
      "start_time = time.time()\n",
      "from IPython.display import display\n",
      "%pylab inline --no-import-all"
     ],
     "language": "python",
     "metadata": {},
     "outputs": [
      {
       "output_type": "stream",
       "stream": "stdout",
       "text": [
        "Populating the interactive namespace from numpy and matplotlib\n"
       ]
      }
     ],
     "prompt_number": 1
    },
    {
     "cell_type": "code",
     "collapsed": false,
     "input": [
      "from intel_analytics.table.bigdataframe import get_frame_builder\n",
      "fb = get_frame_builder()\n",
      "csvfile = '/user/hadoop/new_netflix.csv'\n",
      "frame = fb.build_from_csv('recframe',\n",
      "                          csvfile,\n",
      "                          schema='user:long,vertex_type:chararray,movie:long,rating:long',\n",
      "                          overwrite=True)"
     ],
     "language": "python",
     "metadata": {},
     "outputs": [
      {
       "output_type": "stream",
       "stream": "stdout",
       "text": [
        "Loading from /home/hadoop/sprint_10/IntelAnalytics/conf/intel_analytics.properties\n"
       ]
      },
      {
       "html": [
        "\n",
        "            <div id=\"060da36c-45af-439d-a70c-7ab366bea7ad\" class='status'>\n",
        "                <span class=\"label span2\">Initialization</span>\n",
        "                <span class=\"span7 progress\">\n",
        "                      <div class=\"bar\" style= \"width:0%\">&nbsp;</div>\n",
        "                </span>\n",
        "            </div>\n",
        "            "
       ],
       "metadata": {},
       "output_type": "display_data",
       "text": [
        "<IPython.core.display.HTML at 0x3d4c810>"
       ]
      },
      {
       "javascript": [
        "$('#060da36c-45af-439d-a70c-7ab366bea7ad span').last().addClass(\"progress-striped active\")"
       ],
       "metadata": {},
       "output_type": "display_data",
       "text": [
        "<IPython.core.display.Javascript at 0x3d4c810>"
       ]
      },
      {
       "javascript": [
        "$('#060da36c-45af-439d-a70c-7ab366bea7ad div').first().width('100%')"
       ],
       "metadata": {},
       "output_type": "display_data",
       "text": [
        "<IPython.core.display.Javascript at 0x3d4c810>"
       ]
      },
      {
       "javascript": [
        "$('#060da36c-45af-439d-a70c-7ab366bea7ad span').last().removeClass(\"progress-striped active\")"
       ],
       "metadata": {},
       "output_type": "display_data",
       "text": [
        "<IPython.core.display.Javascript at 0x3d4cc50>"
       ]
      },
      {
       "javascript": [
        "$('#060da36c-45af-439d-a70c-7ab366bea7ad span').first().text('Initialization completed')"
       ],
       "metadata": {},
       "output_type": "display_data",
       "text": [
        "<IPython.core.display.Javascript at 0x3d4cc90>"
       ]
      },
      {
       "html": [
        "\n",
        "            <div id=\"01674515-b4bc-448b-8275-5fd5683aeb7e\" class='status'>\n",
        "                <span class=\"label span2\">Progress</span>\n",
        "                <span class=\"span7 progress\">\n",
        "                      <div class=\"bar\" style= \"width:0%\">&nbsp;</div>\n",
        "                </span>\n",
        "            </div>\n",
        "            "
       ],
       "metadata": {},
       "output_type": "display_data",
       "text": [
        "<IPython.core.display.HTML at 0x3d4cc90>"
       ]
      },
      {
       "javascript": [
        "$('#01674515-b4bc-448b-8275-5fd5683aeb7e div').first().width('25%')"
       ],
       "metadata": {},
       "output_type": "display_data",
       "text": [
        "<IPython.core.display.Javascript at 0x3d4cc90>"
       ]
      },
      {
       "javascript": [
        "$('#01674515-b4bc-448b-8275-5fd5683aeb7e div').first().width('50%')"
       ],
       "metadata": {},
       "output_type": "display_data",
       "text": [
        "<IPython.core.display.Javascript at 0x3d4cc90>"
       ]
      },
      {
       "javascript": [
        "$('#01674515-b4bc-448b-8275-5fd5683aeb7e div').first().width('62%')"
       ],
       "metadata": {},
       "output_type": "display_data",
       "text": [
        "<IPython.core.display.Javascript at 0x3d4cc90>"
       ]
      },
      {
       "javascript": [
        "$('#01674515-b4bc-448b-8275-5fd5683aeb7e div').first().width('73%')"
       ],
       "metadata": {},
       "output_type": "display_data",
       "text": [
        "<IPython.core.display.Javascript at 0x3d4cc90>"
       ]
      },
      {
       "javascript": [
        "$('#01674515-b4bc-448b-8275-5fd5683aeb7e div').first().width('100%')"
       ],
       "metadata": {},
       "output_type": "display_data",
       "text": [
        "<IPython.core.display.Javascript at 0x3d4cc90>"
       ]
      },
      {
       "javascript": [
        "$('#01674515-b4bc-448b-8275-5fd5683aeb7e span').first().text('Execution completed')"
       ],
       "metadata": {},
       "output_type": "display_data",
       "text": [
        "<IPython.core.display.Javascript at 0x3d4cc90>"
       ]
      }
     ],
     "prompt_number": 2
    },
    {
     "cell_type": "code",
     "collapsed": false,
     "input": [
      "from IPython.display import HTML\n",
      "HTML(frame.inspect_as_html())"
     ],
     "language": "python",
     "metadata": {},
     "outputs": [
      {
       "html": [
        "<table border=\"1\"><tr><th>rating</th><th>vertex_type</th><th>user</th><th>movie</th></tr><tr><td>3</td><td>L</td><td>1</td><td>-123</td></tr><tr><td>1</td><td>L</td><td>1</td><td>-357</td></tr><tr><td>1</td><td>L</td><td>4</td><td>-389</td></tr><tr><td>5</td><td>L</td><td>30</td><td>-388</td></tr><tr><td>4</td><td>L</td><td>435</td><td>-239</td></tr><tr><td>2</td><td>L</td><td>6661</td><td>-316</td></tr><tr><td>5</td><td>L</td><td>6661</td><td>-329</td></tr><tr><td>5</td><td>L</td><td>6661</td><td>-332</td></tr><tr><td>2</td><td>L</td><td>6661</td><td>-336</td></tr><tr><td>5</td><td>L</td><td>6661</td><td>-338</td></tr></table>"
       ],
       "metadata": {},
       "output_type": "pyout",
       "prompt_number": 3,
       "text": [
        "<IPython.core.display.HTML at 0x3d4c690>"
       ]
      }
     ],
     "prompt_number": 3
    },
    {
     "cell_type": "heading",
     "level": 2,
     "metadata": {},
     "source": [
      "Kfold - first iteration"
     ]
    },
    {
     "cell_type": "heading",
     "level": 3,
     "metadata": {},
     "source": [
      "1.1 Split Data"
     ]
    },
    {
     "cell_type": "code",
     "collapsed": false,
     "input": [
      "start_time = time.time()\n",
      "frame.kfold_split(k=5,\n",
      "                  test_fold_id=1,\n",
      "                  fold_id_column=\"fold_id\",\n",
      "                  output_column='splits',\n",
      "                  overwrite=False)\n",
      "print time.time() - start_time"
     ],
     "language": "python",
     "metadata": {},
     "outputs": [
      {
       "html": [
        "\n",
        "            <div id=\"df197491-bb08-4776-aa09-9d1a7b529674\" class='status'>\n",
        "                <span class=\"label span2\">Initialization</span>\n",
        "                <span class=\"span7 progress\">\n",
        "                      <div class=\"bar\" style= \"width:0%\">&nbsp;</div>\n",
        "                </span>\n",
        "            </div>\n",
        "            "
       ],
       "metadata": {},
       "output_type": "display_data",
       "text": [
        "<IPython.core.display.HTML at 0x3d4c750>"
       ]
      },
      {
       "javascript": [
        "$('#df197491-bb08-4776-aa09-9d1a7b529674 span').last().addClass(\"progress-striped active\")"
       ],
       "metadata": {},
       "output_type": "display_data",
       "text": [
        "<IPython.core.display.Javascript at 0x3d4c750>"
       ]
      },
      {
       "javascript": [
        "$('#df197491-bb08-4776-aa09-9d1a7b529674 div').first().width('100%')"
       ],
       "metadata": {},
       "output_type": "display_data",
       "text": [
        "<IPython.core.display.Javascript at 0x3d4c750>"
       ]
      },
      {
       "javascript": [
        "$('#df197491-bb08-4776-aa09-9d1a7b529674 span').last().removeClass(\"progress-striped active\")"
       ],
       "metadata": {},
       "output_type": "display_data",
       "text": [
        "<IPython.core.display.Javascript at 0x2f5c310>"
       ]
      },
      {
       "javascript": [
        "$('#df197491-bb08-4776-aa09-9d1a7b529674 span').first().text('Initialization completed')"
       ],
       "metadata": {},
       "output_type": "display_data",
       "text": [
        "<IPython.core.display.Javascript at 0x2f5c2d0>"
       ]
      },
      {
       "html": [
        "\n",
        "            <div id=\"f413b853-f5ac-4293-9416-49476dad0ca3\" class='status'>\n",
        "                <span class=\"label span2\">Progress</span>\n",
        "                <span class=\"span7 progress\">\n",
        "                      <div class=\"bar\" style= \"width:0%\">&nbsp;</div>\n",
        "                </span>\n",
        "            </div>\n",
        "            "
       ],
       "metadata": {},
       "output_type": "display_data",
       "text": [
        "<IPython.core.display.HTML at 0x2f5c2d0>"
       ]
      },
      {
       "javascript": [
        "$('#f413b853-f5ac-4293-9416-49476dad0ca3 div').first().width('50%')"
       ],
       "metadata": {},
       "output_type": "display_data",
       "text": [
        "<IPython.core.display.Javascript at 0x2f5c2d0>"
       ]
      },
      {
       "javascript": [
        "$('#f413b853-f5ac-4293-9416-49476dad0ca3 div').first().width('100%')"
       ],
       "metadata": {},
       "output_type": "display_data",
       "text": [
        "<IPython.core.display.Javascript at 0x2f5c2d0>"
       ]
      },
      {
       "javascript": [
        "$('#f413b853-f5ac-4293-9416-49476dad0ca3 span').first().text('Execution completed')"
       ],
       "metadata": {},
       "output_type": "display_data",
       "text": [
        "<IPython.core.display.Javascript at 0x2f5c2d0>"
       ]
      },
      {
       "output_type": "stream",
       "stream": "stdout",
       "text": [
        "85.4272019863"
       ]
      },
      {
       "output_type": "stream",
       "stream": "stdout",
       "text": [
        "\n"
       ]
      }
     ],
     "prompt_number": 4
    },
    {
     "cell_type": "code",
     "collapsed": false,
     "input": [
      "HTML(frame.inspect_as_html())"
     ],
     "language": "python",
     "metadata": {},
     "outputs": [
      {
       "html": [
        "<table border=\"1\"><tr><th>rating</th><th>vertex_type</th><th>splits</th><th>movie</th><th>user</th><th>fold_id</th></tr><tr><td>3</td><td>L</td><td>TR</td><td>-123</td><td>1</td><td>4.0</td></tr><tr><td>1</td><td>L</td><td>TR</td><td>-357</td><td>1</td><td>3.0</td></tr><tr><td>1</td><td>L</td><td>TR</td><td>-389</td><td>4</td><td>4.0</td></tr><tr><td>5</td><td>L</td><td>TR</td><td>-388</td><td>30</td><td>3.0</td></tr><tr><td>4</td><td>L</td><td>TE</td><td>-239</td><td>435</td><td>1.0</td></tr><tr><td>2</td><td>L</td><td>TR</td><td>-316</td><td>6661</td><td>5.0</td></tr><tr><td>5</td><td>L</td><td>TR</td><td>-329</td><td>6661</td><td>5.0</td></tr><tr><td>5</td><td>L</td><td>TR</td><td>-332</td><td>6661</td><td>3.0</td></tr><tr><td>2</td><td>L</td><td>TE</td><td>-336</td><td>6661</td><td>1.0</td></tr><tr><td>5</td><td>L</td><td>TR</td><td>-338</td><td>6661</td><td>3.0</td></tr></table>"
       ],
       "metadata": {},
       "output_type": "pyout",
       "prompt_number": 5,
       "text": [
        "<IPython.core.display.HTML at 0x23ef6d0>"
       ]
      }
     ],
     "prompt_number": 5
    },
    {
     "cell_type": "heading",
     "level": 3,
     "metadata": {},
     "source": [
      "1.2 Graph Construction and Load to Graph Database"
     ]
    },
    {
     "cell_type": "code",
     "collapsed": false,
     "input": [
      "from intel_analytics.graph.biggraph import get_graph_builder, GraphTypes\n",
      "gb = get_graph_builder(GraphTypes.Property, frame)\n",
      "gb.register_vertex('user',['vertex_type'])\n",
      "gb.register_vertex('movie')\n",
      "gb.register_edge(('user', 'movie', 'rates'), ['splits','rating','fold_id'])"
     ],
     "language": "python",
     "metadata": {},
     "outputs": [],
     "prompt_number": 7
    },
    {
     "cell_type": "code",
     "collapsed": false,
     "input": [
      "start_time = time.time()\n",
      "graph = gb.build(\"recgraph\", overwrite=True)\n",
      "print time.time() - start_time"
     ],
     "language": "python",
     "metadata": {},
     "outputs": [
      {
       "html": [
        "\n",
        "            <div id=\"4ba03ece-3757-4134-9037-7b44a2bf69e9\" class='status'>\n",
        "                <span class=\"label span2\">Initialization</span>\n",
        "                <span class=\"span7 progress\">\n",
        "                      <div class=\"bar\" style= \"width:0%\">&nbsp;</div>\n",
        "                </span>\n",
        "            </div>\n",
        "            "
       ],
       "metadata": {},
       "output_type": "display_data",
       "text": [
        "<IPython.core.display.HTML at 0x3a06ed0>"
       ]
      },
      {
       "javascript": [
        "$('#4ba03ece-3757-4134-9037-7b44a2bf69e9 span').last().addClass(\"progress-striped active\")"
       ],
       "metadata": {},
       "output_type": "display_data",
       "text": [
        "<IPython.core.display.Javascript at 0x3a06ed0>"
       ]
      },
      {
       "javascript": [
        "$('#4ba03ece-3757-4134-9037-7b44a2bf69e9 div').first().width('100%')"
       ],
       "metadata": {},
       "output_type": "display_data",
       "text": [
        "<IPython.core.display.Javascript at 0x3a06ed0>"
       ]
      },
      {
       "javascript": [
        "$('#4ba03ece-3757-4134-9037-7b44a2bf69e9 span').last().removeClass(\"progress-striped active\")"
       ],
       "metadata": {},
       "output_type": "display_data",
       "text": [
        "<IPython.core.display.Javascript at 0x4ab0750>"
       ]
      },
      {
       "javascript": [
        "$('#4ba03ece-3757-4134-9037-7b44a2bf69e9 span').first().text('Initialization completed')"
       ],
       "metadata": {},
       "output_type": "display_data",
       "text": [
        "<IPython.core.display.Javascript at 0x4ab0790>"
       ]
      },
      {
       "html": [
        "\n",
        "            <div id=\"bfd5fab3-8ab5-4300-86cd-8c87bf30a4b8\" class='status'>\n",
        "                <span class=\"label span2\">Progress</span>\n",
        "                <span class=\"span7 progress\">\n",
        "                      <div class=\"bar\" style= \"width:0%\">&nbsp;</div>\n",
        "                </span>\n",
        "            </div>\n",
        "            "
       ],
       "metadata": {},
       "output_type": "display_data",
       "text": [
        "<IPython.core.display.HTML at 0x4ab0790>"
       ]
      },
      {
       "javascript": [
        "$('#bfd5fab3-8ab5-4300-86cd-8c87bf30a4b8 div').first().width('33%')"
       ],
       "metadata": {},
       "output_type": "display_data",
       "text": [
        "<IPython.core.display.Javascript at 0x4ab0790>"
       ]
      },
      {
       "javascript": [
        "$('#bfd5fab3-8ab5-4300-86cd-8c87bf30a4b8 div').first().width('66%')"
       ],
       "metadata": {},
       "output_type": "display_data",
       "text": [
        "<IPython.core.display.Javascript at 0x4ab0790>"
       ]
      },
      {
       "javascript": [
        "$('#bfd5fab3-8ab5-4300-86cd-8c87bf30a4b8 div').first().width('100%')"
       ],
       "metadata": {},
       "output_type": "display_data",
       "text": [
        "<IPython.core.display.Javascript at 0x4ab0790>"
       ]
      },
      {
       "javascript": [
        "$('#bfd5fab3-8ab5-4300-86cd-8c87bf30a4b8 span').first().text('Execution completed')"
       ],
       "metadata": {},
       "output_type": "display_data",
       "text": [
        "<IPython.core.display.Javascript at 0x4ab0790>"
       ]
      },
      {
       "output_type": "stream",
       "stream": "stdout",
       "text": [
        "271.682888985"
       ]
      },
      {
       "output_type": "stream",
       "stream": "stdout",
       "text": [
        "\n"
       ]
      }
     ],
     "prompt_number": 8
    },
    {
     "cell_type": "heading",
     "level": 3,
     "metadata": {},
     "source": [
      "1.3 Read From Graph Database and Run Machine Learning Algorithms"
     ]
    },
    {
     "cell_type": "code",
     "collapsed": false,
     "input": [
      "start_time = time.time()\n",
      "split1 = graph.ml.kfold_split_update(test_fold_id=1,\n",
      "                                     split_property_key='splits')\n",
      "print time.time() - start_time"
     ],
     "language": "python",
     "metadata": {},
     "outputs": [
      {
       "html": [
        "\n",
        "            <div id=\"b6c9f017-11a6-407f-8d95-9903dad853a3\" class='status'>\n",
        "                <span class=\"label span2\">Progress</span>\n",
        "                <span class=\"span7 progress\">\n",
        "                      <div class=\"bar\" style= \"width:0%\">&nbsp;</div>\n",
        "                </span>\n",
        "            </div>\n",
        "            "
       ],
       "metadata": {},
       "output_type": "display_data",
       "text": [
        "<IPython.core.display.HTML at 0x5093910>"
       ]
      },
      {
       "javascript": [
        "$('#b6c9f017-11a6-407f-8d95-9903dad853a3 span').last().addClass(\"progress-striped active\")"
       ],
       "metadata": {},
       "output_type": "display_data",
       "text": [
        "<IPython.core.display.Javascript at 0x3444f50>"
       ]
      },
      {
       "javascript": [
        "$('#b6c9f017-11a6-407f-8d95-9903dad853a3 div').first().width('100%')"
       ],
       "metadata": {},
       "output_type": "display_data",
       "text": [
        "<IPython.core.display.Javascript at 0x3444f50>"
       ]
      },
      {
       "javascript": [
        "$('#b6c9f017-11a6-407f-8d95-9903dad853a3 span').last().removeClass(\"progress-striped active\")"
       ],
       "metadata": {},
       "output_type": "display_data",
       "text": [
        "<IPython.core.display.Javascript at 0x5093f50>"
       ]
      },
      {
       "javascript": [
        "$('#b6c9f017-11a6-407f-8d95-9903dad853a3 span').first().text('Execution completed')"
       ],
       "metadata": {},
       "output_type": "display_data",
       "text": [
        "<IPython.core.display.Javascript at 0x5093f50>"
       ]
      },
      {
       "output_type": "stream",
       "stream": "stdout",
       "text": [
        "77.934166193"
       ]
      },
      {
       "output_type": "stream",
       "stream": "stdout",
       "text": [
        "\n"
       ]
      }
     ],
     "prompt_number": 5
    },
    {
     "cell_type": "code",
     "collapsed": false,
     "input": [
      "report1 = graph.ml.als(input_edge_property_list=\"rating\",\n",
      "       input_edge_label=\"rates\",\n",
      "       output_vertex_property_list=['als_result1','als_bias1'],\n",
      "       vector_value=True,\n",
      "       vertex_type=\"vertex_type\",\n",
      "       edge_type =\"splits\",\n",
      "       max_supersteps=20,\n",
      "       feature_dimension=3,\n",
      "       convergence_threshold=0,\n",
      "       als_lambda=0.065,\n",
      "       learning_output_interval=1,\n",
      "       bias_on=True,\n",
      "       num_mapper=4,\n",
      "       mapper_memory='10g'\n",
      "      )"
     ],
     "language": "python",
     "metadata": {},
     "outputs": [
      {
       "html": [
        "\n",
        "            <div id=\"4739344a-15c8-4090-81f3-f83e14282f48\" class='status'>\n",
        "                <span class=\"label span2\">Initialization</span>\n",
        "                <span class=\"span7 progress\">\n",
        "                      <div class=\"bar\" style= \"width:0%\">&nbsp;</div>\n",
        "                </span>\n",
        "            </div>\n",
        "            "
       ],
       "metadata": {},
       "output_type": "display_data",
       "text": [
        "<IPython.core.display.HTML at 0x509ae50>"
       ]
      },
      {
       "javascript": [
        "$('#4739344a-15c8-4090-81f3-f83e14282f48 span').last().addClass(\"progress-striped active\")"
       ],
       "metadata": {},
       "output_type": "display_data",
       "text": [
        "<IPython.core.display.Javascript at 0x509ae50>"
       ]
      },
      {
       "javascript": [
        "$('#4739344a-15c8-4090-81f3-f83e14282f48 div').first().width('100%')"
       ],
       "metadata": {},
       "output_type": "display_data",
       "text": [
        "<IPython.core.display.Javascript at 0x509ae50>"
       ]
      },
      {
       "javascript": [
        "$('#4739344a-15c8-4090-81f3-f83e14282f48 span').last().removeClass(\"progress-striped active\")"
       ],
       "metadata": {},
       "output_type": "display_data",
       "text": [
        "<IPython.core.display.Javascript at 0x509a450>"
       ]
      },
      {
       "javascript": [
        "$('#4739344a-15c8-4090-81f3-f83e14282f48 span').first().text('Initialization completed')"
       ],
       "metadata": {},
       "output_type": "display_data",
       "text": [
        "<IPython.core.display.Javascript at 0x509a4d0>"
       ]
      },
      {
       "html": [
        "\n",
        "            <div id=\"278494ff-f621-4748-8049-7bac9fc46fed\" class='status'>\n",
        "                <span class=\"label span2\">Step 1</span>\n",
        "                <span class=\"span7 progress\">\n",
        "                      <div class=\"bar\" style= \"width:0%\">&nbsp;</div>\n",
        "                </span>\n",
        "            </div>\n",
        "            "
       ],
       "metadata": {},
       "output_type": "display_data",
       "text": [
        "<IPython.core.display.HTML at 0x509a410>"
       ]
      },
      {
       "javascript": [
        "$('#278494ff-f621-4748-8049-7bac9fc46fed div').first().width('0%')"
       ],
       "metadata": {},
       "output_type": "display_data",
       "text": [
        "<IPython.core.display.Javascript at 0x509a490>"
       ]
      },
      {
       "javascript": [
        "$('#278494ff-f621-4748-8049-7bac9fc46fed div').first().width('50%')"
       ],
       "metadata": {},
       "output_type": "display_data",
       "text": [
        "<IPython.core.display.Javascript at 0x509a490>"
       ]
      },
      {
       "javascript": [
        "$('#278494ff-f621-4748-8049-7bac9fc46fed div').first().width('75%')"
       ],
       "metadata": {},
       "output_type": "display_data",
       "text": [
        "<IPython.core.display.Javascript at 0x509a490>"
       ]
      },
      {
       "javascript": [
        "$('#278494ff-f621-4748-8049-7bac9fc46fed div').first().width('100%')"
       ],
       "metadata": {},
       "output_type": "display_data",
       "text": [
        "<IPython.core.display.Javascript at 0x509a490>"
       ]
      },
      {
       "javascript": [
        "$('#278494ff-f621-4748-8049-7bac9fc46fed span').first().text('Step 1 completed')"
       ],
       "metadata": {},
       "output_type": "display_data",
       "text": [
        "<IPython.core.display.Javascript at 0x509a490>"
       ]
      },
      {
       "html": [
        "\n",
        "            <div id=\"829cf651-a0c3-41c5-a273-abc314be646f\" class='status'>\n",
        "                <span class=\"label span2\">Step 2</span>\n",
        "                <span class=\"span7 progress\">\n",
        "                      <div class=\"bar\" style= \"width:0%\">&nbsp;</div>\n",
        "                </span>\n",
        "            </div>\n",
        "            "
       ],
       "metadata": {},
       "output_type": "display_data",
       "text": [
        "<IPython.core.display.HTML at 0x509a410>"
       ]
      },
      {
       "javascript": [
        "$('#829cf651-a0c3-41c5-a273-abc314be646f span').last().addClass(\"progress-striped active\")"
       ],
       "metadata": {},
       "output_type": "display_data",
       "text": [
        "<IPython.core.display.Javascript at 0x509a410>"
       ]
      },
      {
       "javascript": [
        "$('#829cf651-a0c3-41c5-a273-abc314be646f div').first().width('100%')"
       ],
       "metadata": {},
       "output_type": "display_data",
       "text": [
        "<IPython.core.display.Javascript at 0x509a410>"
       ]
      },
      {
       "javascript": [
        "$('#829cf651-a0c3-41c5-a273-abc314be646f span').last().addClass(\"progress-striped active\")"
       ],
       "metadata": {},
       "output_type": "display_data",
       "text": [
        "<IPython.core.display.Javascript at 0x509a410>"
       ]
      },
      {
       "javascript": [
        "$('#829cf651-a0c3-41c5-a273-abc314be646f span').last().removeClass(\"progress-striped active\")"
       ],
       "metadata": {},
       "output_type": "display_data",
       "text": [
        "<IPython.core.display.Javascript at 0x509a410>"
       ]
      },
      {
       "javascript": [
        "$('#829cf651-a0c3-41c5-a273-abc314be646f span').first().text('Step 2 completed')"
       ],
       "metadata": {},
       "output_type": "display_data",
       "text": [
        "<IPython.core.display.Javascript at 0x509a410>"
       ]
      },
      {
       "output_type": "stream",
       "stream": "stdout",
       "text": [
        "79.0077769756"
       ]
      },
      {
       "output_type": "stream",
       "stream": "stdout",
       "text": [
        "\n"
       ]
      },
      {
       "metadata": {},
       "output_type": "display_data",
       "png": "[encoded data removed]",
       "text": [
        "<matplotlib.figure.Figure at 0x509a390>"
       ]
      }
     ],
     "prompt_number": 6
    },
    {
     "cell_type": "code",
     "collapsed": false,
     "input": [
      "report1.exec_time"
     ],
     "language": "python",
     "metadata": {},
     "outputs": [
      {
       "metadata": {},
       "output_type": "pyout",
       "prompt_number": 7,
       "text": [
        "'76.2567138672 seconds'"
       ]
      }
     ],
     "prompt_number": 7
    },
    {
     "cell_type": "heading",
     "level": 2,
     "metadata": {},
     "source": [
      "kfold - Second Iteration"
     ]
    },
    {
     "cell_type": "code",
     "collapsed": false,
     "input": [
      "split2 = graph.ml.kfold_split_update(test_fold_id=2,\n",
      "                                     split_property_key='splits')"
     ],
     "language": "python",
     "metadata": {},
     "outputs": [
      {
       "html": [
        "\n",
        "            <div id=\"9f277903-8033-4870-ad59-abd9faace305\" class='status'>\n",
        "                <span class=\"label span2\">Progress</span>\n",
        "                <span class=\"span7 progress\">\n",
        "                      <div class=\"bar\" style= \"width:0%\">&nbsp;</div>\n",
        "                </span>\n",
        "            </div>\n",
        "            "
       ],
       "metadata": {},
       "output_type": "display_data",
       "text": [
        "<IPython.core.display.HTML at 0x4e30c50>"
       ]
      },
      {
       "javascript": [
        "$('#9f277903-8033-4870-ad59-abd9faace305 span').last().addClass(\"progress-striped active\")"
       ],
       "metadata": {},
       "output_type": "display_data",
       "text": [
        "<IPython.core.display.Javascript at 0x4e30c50>"
       ]
      },
      {
       "javascript": [
        "$('#9f277903-8033-4870-ad59-abd9faace305 div').first().width('100%')"
       ],
       "metadata": {},
       "output_type": "display_data",
       "text": [
        "<IPython.core.display.Javascript at 0x4e30c50>"
       ]
      },
      {
       "javascript": [
        "$('#9f277903-8033-4870-ad59-abd9faace305 span').last().removeClass(\"progress-striped active\")"
       ],
       "metadata": {},
       "output_type": "display_data",
       "text": [
        "<IPython.core.display.Javascript at 0x4e30490>"
       ]
      },
      {
       "javascript": [
        "$('#9f277903-8033-4870-ad59-abd9faace305 span').first().text('Execution completed')"
       ],
       "metadata": {},
       "output_type": "display_data",
       "text": [
        "<IPython.core.display.Javascript at 0x4e30490>"
       ]
      }
     ],
     "prompt_number": 8
    },
    {
     "cell_type": "code",
     "collapsed": false,
     "input": [
      "split2.exec_time"
     ],
     "language": "python",
     "metadata": {},
     "outputs": [
      {
       "metadata": {},
       "output_type": "pyout",
       "prompt_number": 9,
       "text": [
        "'79.1816699505 seconds'"
       ]
      }
     ],
     "prompt_number": 9
    },
    {
     "cell_type": "code",
     "collapsed": false,
     "input": [
      "report2 = graph.ml.als(input_edge_property_list=\"rating\",\n",
      "       input_edge_label=\"rates\",\n",
      "       output_vertex_property_list=['als_result2','als_bias2'],\n",
      "       vector_value=True,\n",
      "       vertex_type=\"vertex_type\",\n",
      "       edge_type =\"splits\",\n",
      "       max_supersteps=20,\n",
      "       feature_dimension=3,\n",
      "       convergence_threshold=0,\n",
      "       als_lambda=0.065,\n",
      "       learning_output_interval=1,\n",
      "       bias_on=True,\n",
      "       num_mapper=4,\n",
      "       mapper_memory='10g'\n",
      "      )"
     ],
     "language": "python",
     "metadata": {},
     "outputs": [
      {
       "html": [
        "\n",
        "            <div id=\"541982d4-bd7b-4c45-9a5a-f20d8a7a7552\" class='status'>\n",
        "                <span class=\"label span2\">Initialization</span>\n",
        "                <span class=\"span7 progress\">\n",
        "                      <div class=\"bar\" style= \"width:0%\">&nbsp;</div>\n",
        "                </span>\n",
        "            </div>\n",
        "            "
       ],
       "metadata": {},
       "output_type": "display_data",
       "text": [
        "<IPython.core.display.HTML at 0x4e30dd0>"
       ]
      },
      {
       "javascript": [
        "$('#541982d4-bd7b-4c45-9a5a-f20d8a7a7552 span').last().addClass(\"progress-striped active\")"
       ],
       "metadata": {},
       "output_type": "display_data",
       "text": [
        "<IPython.core.display.Javascript at 0x4e30dd0>"
       ]
      },
      {
       "javascript": [
        "$('#541982d4-bd7b-4c45-9a5a-f20d8a7a7552 div').first().width('100%')"
       ],
       "metadata": {},
       "output_type": "display_data",
       "text": [
        "<IPython.core.display.Javascript at 0x4e30dd0>"
       ]
      },
      {
       "javascript": [
        "$('#541982d4-bd7b-4c45-9a5a-f20d8a7a7552 span').last().removeClass(\"progress-striped active\")"
       ],
       "metadata": {},
       "output_type": "display_data",
       "text": [
        "<IPython.core.display.Javascript at 0x4e5ed10>"
       ]
      },
      {
       "javascript": [
        "$('#541982d4-bd7b-4c45-9a5a-f20d8a7a7552 span').first().text('Initialization completed')"
       ],
       "metadata": {},
       "output_type": "display_data",
       "text": [
        "<IPython.core.display.Javascript at 0x4e5e650>"
       ]
      },
      {
       "html": [
        "\n",
        "            <div id=\"c4367e58-b8a1-4d0a-b383-588cd17e9334\" class='status'>\n",
        "                <span class=\"label span2\">Step 1</span>\n",
        "                <span class=\"span7 progress\">\n",
        "                      <div class=\"bar\" style= \"width:0%\">&nbsp;</div>\n",
        "                </span>\n",
        "            </div>\n",
        "            "
       ],
       "metadata": {},
       "output_type": "display_data",
       "text": [
        "<IPython.core.display.HTML at 0x4e5ea10>"
       ]
      },
      {
       "javascript": [
        "$('#c4367e58-b8a1-4d0a-b383-588cd17e9334 div').first().width('0%')"
       ],
       "metadata": {},
       "output_type": "display_data",
       "text": [
        "<IPython.core.display.Javascript at 0x4e5e850>"
       ]
      },
      {
       "javascript": [
        "$('#c4367e58-b8a1-4d0a-b383-588cd17e9334 div').first().width('50%')"
       ],
       "metadata": {},
       "output_type": "display_data",
       "text": [
        "<IPython.core.display.Javascript at 0x4e5e850>"
       ]
      },
      {
       "javascript": [
        "$('#c4367e58-b8a1-4d0a-b383-588cd17e9334 div').first().width('100%')"
       ],
       "metadata": {},
       "output_type": "display_data",
       "text": [
        "<IPython.core.display.Javascript at 0x4e5e850>"
       ]
      },
      {
       "javascript": [
        "$('#c4367e58-b8a1-4d0a-b383-588cd17e9334 span').first().text('Step 1 completed')"
       ],
       "metadata": {},
       "output_type": "display_data",
       "text": [
        "<IPython.core.display.Javascript at 0x4e5e850>"
       ]
      },
      {
       "html": [
        "\n",
        "            <div id=\"c6077b53-ec5a-435c-9e33-aead59e6d674\" class='status'>\n",
        "                <span class=\"label span2\">Step 2</span>\n",
        "                <span class=\"span7 progress\">\n",
        "                      <div class=\"bar\" style= \"width:0%\">&nbsp;</div>\n",
        "                </span>\n",
        "            </div>\n",
        "            "
       ],
       "metadata": {},
       "output_type": "display_data",
       "text": [
        "<IPython.core.display.HTML at 0x4e5e650>"
       ]
      },
      {
       "javascript": [
        "$('#c6077b53-ec5a-435c-9e33-aead59e6d674 span').last().addClass(\"progress-striped active\")"
       ],
       "metadata": {},
       "output_type": "display_data",
       "text": [
        "<IPython.core.display.Javascript at 0x4e5e650>"
       ]
      },
      {
       "javascript": [
        "$('#c6077b53-ec5a-435c-9e33-aead59e6d674 div').first().width('100%')"
       ],
       "metadata": {},
       "output_type": "display_data",
       "text": [
        "<IPython.core.display.Javascript at 0x4e5e650>"
       ]
      },
      {
       "javascript": [
        "$('#c6077b53-ec5a-435c-9e33-aead59e6d674 span').last().addClass(\"progress-striped active\")"
       ],
       "metadata": {},
       "output_type": "display_data",
       "text": [
        "<IPython.core.display.Javascript at 0x4e5e650>"
       ]
      },
      {
       "javascript": [
        "$('#c6077b53-ec5a-435c-9e33-aead59e6d674 span').last().removeClass(\"progress-striped active\")"
       ],
       "metadata": {},
       "output_type": "display_data",
       "text": [
        "<IPython.core.display.Javascript at 0x4e5e650>"
       ]
      },
      {
       "javascript": [
        "$('#c6077b53-ec5a-435c-9e33-aead59e6d674 span').first().text('Step 2 completed')"
       ],
       "metadata": {},
       "output_type": "display_data",
       "text": [
        "<IPython.core.display.Javascript at 0x4e5e650>"
       ]
      },
      {
       "metadata": {},
       "output_type": "display_data",
       "png": "[encoded data removed]",
       "text": [
        "<matplotlib.figure.Figure at 0x4e30350>"
       ]
      }
     ],
     "prompt_number": 10
    },
    {
     "cell_type": "heading",
     "level": 2,
     "metadata": {},
     "source": [
      "kfold - Third Iteration"
     ]
    },
    {
     "cell_type": "code",
     "collapsed": false,
     "input": [
      "from intel_analytics.config import global_config\n",
      "global_config['medium_graph_threshold']=100"
     ],
     "language": "python",
     "metadata": {},
     "outputs": [],
     "prompt_number": 11
    },
    {
     "cell_type": "code",
     "collapsed": false,
     "input": [
      "split3 = graph.ml.kfold_split_update(test_fold_id=3,\n",
      "                                     split_property_key='splits')"
     ],
     "language": "python",
     "metadata": {},
     "outputs": [
      {
       "html": [
        "\n",
        "            <div id=\"ecf43bc3-a17c-4c6b-a409-ace53a2bbc22\" class='status'>\n",
        "                <span class=\"label span2\">Progress</span>\n",
        "                <span class=\"span7 progress\">\n",
        "                      <div class=\"bar\" style= \"width:0%\">&nbsp;</div>\n",
        "                </span>\n",
        "            </div>\n",
        "            "
       ],
       "metadata": {},
       "output_type": "display_data",
       "text": [
        "<IPython.core.display.HTML at 0x43dcdd0>"
       ]
      },
      {
       "javascript": [
        "$('#ecf43bc3-a17c-4c6b-a409-ace53a2bbc22 span').last().addClass(\"progress-striped active\")"
       ],
       "metadata": {},
       "output_type": "display_data",
       "text": [
        "<IPython.core.display.Javascript at 0x43dcdd0>"
       ]
      },
      {
       "javascript": [
        "$('#ecf43bc3-a17c-4c6b-a409-ace53a2bbc22 div').first().width('100%')"
       ],
       "metadata": {},
       "output_type": "display_data",
       "text": [
        "<IPython.core.display.Javascript at 0x43dcdd0>"
       ]
      },
      {
       "javascript": [
        "$('#ecf43bc3-a17c-4c6b-a409-ace53a2bbc22 span').last().removeClass(\"progress-striped active\")"
       ],
       "metadata": {},
       "output_type": "display_data",
       "text": [
        "<IPython.core.display.Javascript at 0x43dc090>"
       ]
      },
      {
       "javascript": [
        "$('#ecf43bc3-a17c-4c6b-a409-ace53a2bbc22 span').first().text('Execution completed')"
       ],
       "metadata": {},
       "output_type": "display_data",
       "text": [
        "<IPython.core.display.Javascript at 0x43dc090>"
       ]
      }
     ],
     "prompt_number": 12
    },
    {
     "cell_type": "code",
     "collapsed": false,
     "input": [
      "split3.exec_time"
     ],
     "language": "python",
     "metadata": {},
     "outputs": [
      {
       "metadata": {},
       "output_type": "pyout",
       "prompt_number": 13,
       "text": [
        "'48.3386659622 seconds'"
       ]
      }
     ],
     "prompt_number": 13
    },
    {
     "cell_type": "code",
     "collapsed": false,
     "input": [
      "report3 = graph.ml.als(input_edge_property_list=\"rating\",\n",
      "       input_edge_label=\"rates\",\n",
      "       output_vertex_property_list=['als_result3','als_bias3'],\n",
      "       vector_value=True,\n",
      "       vertex_type=\"vertex_type\",\n",
      "       edge_type =\"splits\",\n",
      "       max_supersteps=20,\n",
      "       feature_dimension=3,\n",
      "       convergence_threshold=0,\n",
      "       als_lambda=0.065,\n",
      "       learning_output_interval=1,\n",
      "       bias_on=True,\n",
      "       num_mapper=4,\n",
      "       mapper_memory='10g'\n",
      "      )"
     ],
     "language": "python",
     "metadata": {},
     "outputs": [
      {
       "html": [
        "\n",
        "            <div id=\"2a8c6360-eccb-41e7-9ea5-6c227b6b9a26\" class='status'>\n",
        "                <span class=\"label span2\">Initialization</span>\n",
        "                <span class=\"span7 progress\">\n",
        "                      <div class=\"bar\" style= \"width:0%\">&nbsp;</div>\n",
        "                </span>\n",
        "            </div>\n",
        "            "
       ],
       "metadata": {},
       "output_type": "display_data",
       "text": [
        "<IPython.core.display.HTML at 0x43dc310>"
       ]
      },
      {
       "javascript": [
        "$('#2a8c6360-eccb-41e7-9ea5-6c227b6b9a26 span').last().addClass(\"progress-striped active\")"
       ],
       "metadata": {},
       "output_type": "display_data",
       "text": [
        "<IPython.core.display.Javascript at 0x43dc310>"
       ]
      },
      {
       "javascript": [
        "$('#2a8c6360-eccb-41e7-9ea5-6c227b6b9a26 div').first().width('100%')"
       ],
       "metadata": {},
       "output_type": "display_data",
       "text": [
        "<IPython.core.display.Javascript at 0x43dc310>"
       ]
      },
      {
       "javascript": [
        "$('#2a8c6360-eccb-41e7-9ea5-6c227b6b9a26 span').last().removeClass(\"progress-striped active\")"
       ],
       "metadata": {},
       "output_type": "display_data",
       "text": [
        "<IPython.core.display.Javascript at 0x4e4dd50>"
       ]
      },
      {
       "javascript": [
        "$('#2a8c6360-eccb-41e7-9ea5-6c227b6b9a26 span').first().text('Initialization completed')"
       ],
       "metadata": {},
       "output_type": "display_data",
       "text": [
        "<IPython.core.display.Javascript at 0x4e4d910>"
       ]
      },
      {
       "html": [
        "\n",
        "            <div id=\"c2e25bc5-0acf-46a4-bbba-b39e1b6e12c3\" class='status'>\n",
        "                <span class=\"label span2\">Step 1</span>\n",
        "                <span class=\"span7 progress\">\n",
        "                      <div class=\"bar\" style= \"width:0%\">&nbsp;</div>\n",
        "                </span>\n",
        "            </div>\n",
        "            "
       ],
       "metadata": {},
       "output_type": "display_data",
       "text": [
        "<IPython.core.display.HTML at 0x4e4dcd0>"
       ]
      },
      {
       "javascript": [
        "$('#c2e25bc5-0acf-46a4-bbba-b39e1b6e12c3 div').first().width('0%')"
       ],
       "metadata": {},
       "output_type": "display_data",
       "text": [
        "<IPython.core.display.Javascript at 0x4e4da90>"
       ]
      },
      {
       "javascript": [
        "$('#c2e25bc5-0acf-46a4-bbba-b39e1b6e12c3 div').first().width('75%')"
       ],
       "metadata": {},
       "output_type": "display_data",
       "text": [
        "<IPython.core.display.Javascript at 0x4e4da90>"
       ]
      },
      {
       "javascript": [
        "$('#c2e25bc5-0acf-46a4-bbba-b39e1b6e12c3 div').first().width('100%')"
       ],
       "metadata": {},
       "output_type": "display_data",
       "text": [
        "<IPython.core.display.Javascript at 0x4e4da90>"
       ]
      },
      {
       "javascript": [
        "$('#c2e25bc5-0acf-46a4-bbba-b39e1b6e12c3 span').first().text('Step 1 completed')"
       ],
       "metadata": {},
       "output_type": "display_data",
       "text": [
        "<IPython.core.display.Javascript at 0x4e4da90>"
       ]
      },
      {
       "html": [
        "\n",
        "            <div id=\"56846abc-e2f8-4a67-bb3f-ce74dde40c30\" class='status'>\n",
        "                <span class=\"label span2\">Step 2</span>\n",
        "                <span class=\"span7 progress\">\n",
        "                      <div class=\"bar\" style= \"width:0%\">&nbsp;</div>\n",
        "                </span>\n",
        "            </div>\n",
        "            "
       ],
       "metadata": {},
       "output_type": "display_data",
       "text": [
        "<IPython.core.display.HTML at 0x4e4d910>"
       ]
      },
      {
       "javascript": [
        "$('#56846abc-e2f8-4a67-bb3f-ce74dde40c30 span').last().addClass(\"progress-striped active\")"
       ],
       "metadata": {},
       "output_type": "display_data",
       "text": [
        "<IPython.core.display.Javascript at 0x4e4d910>"
       ]
      },
      {
       "javascript": [
        "$('#56846abc-e2f8-4a67-bb3f-ce74dde40c30 div').first().width('100%')"
       ],
       "metadata": {},
       "output_type": "display_data",
       "text": [
        "<IPython.core.display.Javascript at 0x4e4d910>"
       ]
      },
      {
       "javascript": [
        "$('#56846abc-e2f8-4a67-bb3f-ce74dde40c30 span').last().addClass(\"progress-striped active\")"
       ],
       "metadata": {},
       "output_type": "display_data",
       "text": [
        "<IPython.core.display.Javascript at 0x4e4d910>"
       ]
      },
      {
       "javascript": [
        "$('#56846abc-e2f8-4a67-bb3f-ce74dde40c30 span').last().removeClass(\"progress-striped active\")"
       ],
       "metadata": {},
       "output_type": "display_data",
       "text": [
        "<IPython.core.display.Javascript at 0x4e4d910>"
       ]
      },
      {
       "javascript": [
        "$('#56846abc-e2f8-4a67-bb3f-ce74dde40c30 span').first().text('Step 2 completed')"
       ],
       "metadata": {},
       "output_type": "display_data",
       "text": [
        "<IPython.core.display.Javascript at 0x4e4d910>"
       ]
      },
      {
       "metadata": {},
       "output_type": "display_data",
       "png": "[encoded data removed]",
       "text": [
        "<matplotlib.figure.Figure at 0x43dcc50>"
       ]
      }
     ],
     "prompt_number": 14
    },
    {
     "cell_type": "heading",
     "level": 2,
     "metadata": {},
     "source": [
      "kfold - Fourth Iteration"
     ]
    },
    {
     "cell_type": "code",
     "collapsed": false,
     "input": [
      "split4 = graph.ml.kfold_split_update(test_fold_id=4,\n",
      "                                     split_property_key='splits')"
     ],
     "language": "python",
     "metadata": {},
     "outputs": [
      {
       "html": [
        "\n",
        "            <div id=\"cfad86c7-7270-48ec-99ec-88a4c071ce5a\" class='status'>\n",
        "                <span class=\"label span2\">Progress</span>\n",
        "                <span class=\"span7 progress\">\n",
        "                      <div class=\"bar\" style= \"width:0%\">&nbsp;</div>\n",
        "                </span>\n",
        "            </div>\n",
        "            "
       ],
       "metadata": {},
       "output_type": "display_data",
       "text": [
        "<IPython.core.display.HTML at 0x43dc490>"
       ]
      },
      {
       "javascript": [
        "$('#cfad86c7-7270-48ec-99ec-88a4c071ce5a span').last().addClass(\"progress-striped active\")"
       ],
       "metadata": {},
       "output_type": "display_data",
       "text": [
        "<IPython.core.display.Javascript at 0x4e42b90>"
       ]
      },
      {
       "javascript": [
        "$('#cfad86c7-7270-48ec-99ec-88a4c071ce5a div').first().width('100%')"
       ],
       "metadata": {},
       "output_type": "display_data",
       "text": [
        "<IPython.core.display.Javascript at 0x4e42b90>"
       ]
      },
      {
       "javascript": [
        "$('#cfad86c7-7270-48ec-99ec-88a4c071ce5a span').last().removeClass(\"progress-striped active\")"
       ],
       "metadata": {},
       "output_type": "display_data",
       "text": [
        "<IPython.core.display.Javascript at 0x43dce50>"
       ]
      },
      {
       "javascript": [
        "$('#cfad86c7-7270-48ec-99ec-88a4c071ce5a span').first().text('Execution completed')"
       ],
       "metadata": {},
       "output_type": "display_data",
       "text": [
        "<IPython.core.display.Javascript at 0x43dce50>"
       ]
      }
     ],
     "prompt_number": 15
    },
    {
     "cell_type": "code",
     "collapsed": false,
     "input": [
      "report4 = graph.ml.als(input_edge_property_list=\"rating\",\n",
      "       input_edge_label=\"rates\",\n",
      "       output_vertex_property_list=['als4_p0','als4_p1','als4_p2','als_bias5'],\n",
      "       vertex_type=\"vertex_type\",\n",
      "       edge_type =\"splits\",\n",
      "       max_supersteps=20,\n",
      "       feature_dimension=3,\n",
      "       convergence_threshold=0,\n",
      "       als_lambda=0.065,\n",
      "       learning_output_interval=1,\n",
      "       bias_on=True,\n",
      "       num_mapper=4,\n",
      "       mapper_memory='10g'\n",
      "      )"
     ],
     "language": "python",
     "metadata": {},
     "outputs": [
      {
       "html": [
        "\n",
        "            <div id=\"610d7b88-239c-4ca1-9043-b7e7694e44aa\" class='status'>\n",
        "                <span class=\"label span2\">Initialization</span>\n",
        "                <span class=\"span7 progress\">\n",
        "                      <div class=\"bar\" style= \"width:0%\">&nbsp;</div>\n",
        "                </span>\n",
        "            </div>\n",
        "            "
       ],
       "metadata": {},
       "output_type": "display_data",
       "text": [
        "<IPython.core.display.HTML at 0x4e64210>"
       ]
      },
      {
       "javascript": [
        "$('#610d7b88-239c-4ca1-9043-b7e7694e44aa span').last().addClass(\"progress-striped active\")"
       ],
       "metadata": {},
       "output_type": "display_data",
       "text": [
        "<IPython.core.display.Javascript at 0x4e64210>"
       ]
      },
      {
       "javascript": [
        "$('#610d7b88-239c-4ca1-9043-b7e7694e44aa div').first().width('100%')"
       ],
       "metadata": {},
       "output_type": "display_data",
       "text": [
        "<IPython.core.display.Javascript at 0x4e64210>"
       ]
      },
      {
       "javascript": [
        "$('#610d7b88-239c-4ca1-9043-b7e7694e44aa span').last().removeClass(\"progress-striped active\")"
       ],
       "metadata": {},
       "output_type": "display_data",
       "text": [
        "<IPython.core.display.Javascript at 0x4e64110>"
       ]
      },
      {
       "javascript": [
        "$('#610d7b88-239c-4ca1-9043-b7e7694e44aa span').first().text('Initialization completed')"
       ],
       "metadata": {},
       "output_type": "display_data",
       "text": [
        "<IPython.core.display.Javascript at 0x4e647d0>"
       ]
      },
      {
       "html": [
        "\n",
        "            <div id=\"cee1d73b-41de-4a7e-93a2-219717eff4a5\" class='status'>\n",
        "                <span class=\"label span2\">Step 1</span>\n",
        "                <span class=\"span7 progress\">\n",
        "                      <div class=\"bar\" style= \"width:0%\">&nbsp;</div>\n",
        "                </span>\n",
        "            </div>\n",
        "            "
       ],
       "metadata": {},
       "output_type": "display_data",
       "text": [
        "<IPython.core.display.HTML at 0x4e649d0>"
       ]
      },
      {
       "javascript": [
        "$('#cee1d73b-41de-4a7e-93a2-219717eff4a5 div').first().width('0%')"
       ],
       "metadata": {},
       "output_type": "display_data",
       "text": [
        "<IPython.core.display.Javascript at 0x4e644d0>"
       ]
      },
      {
       "javascript": [
        "$('#cee1d73b-41de-4a7e-93a2-219717eff4a5 div').first().width('25%')"
       ],
       "metadata": {},
       "output_type": "display_data",
       "text": [
        "<IPython.core.display.Javascript at 0x4e644d0>"
       ]
      },
      {
       "javascript": [
        "$('#cee1d73b-41de-4a7e-93a2-219717eff4a5 div').first().width('100%')"
       ],
       "metadata": {},
       "output_type": "display_data",
       "text": [
        "<IPython.core.display.Javascript at 0x4e644d0>"
       ]
      },
      {
       "javascript": [
        "$('#cee1d73b-41de-4a7e-93a2-219717eff4a5 span').first().text('Step 1 completed')"
       ],
       "metadata": {},
       "output_type": "display_data",
       "text": [
        "<IPython.core.display.Javascript at 0x4e644d0>"
       ]
      },
      {
       "html": [
        "\n",
        "            <div id=\"43648a82-feeb-4297-aaa5-2975bd6dde3f\" class='status'>\n",
        "                <span class=\"label span2\">Step 2</span>\n",
        "                <span class=\"span7 progress\">\n",
        "                      <div class=\"bar\" style= \"width:0%\">&nbsp;</div>\n",
        "                </span>\n",
        "            </div>\n",
        "            "
       ],
       "metadata": {},
       "output_type": "display_data",
       "text": [
        "<IPython.core.display.HTML at 0x4e647d0>"
       ]
      },
      {
       "javascript": [
        "$('#43648a82-feeb-4297-aaa5-2975bd6dde3f span').last().addClass(\"progress-striped active\")"
       ],
       "metadata": {},
       "output_type": "display_data",
       "text": [
        "<IPython.core.display.Javascript at 0x4e647d0>"
       ]
      },
      {
       "javascript": [
        "$('#43648a82-feeb-4297-aaa5-2975bd6dde3f div').first().width('100%')"
       ],
       "metadata": {},
       "output_type": "display_data",
       "text": [
        "<IPython.core.display.Javascript at 0x4e647d0>"
       ]
      },
      {
       "javascript": [
        "$('#43648a82-feeb-4297-aaa5-2975bd6dde3f span').last().addClass(\"progress-striped active\")"
       ],
       "metadata": {},
       "output_type": "display_data",
       "text": [
        "<IPython.core.display.Javascript at 0x4e647d0>"
       ]
      },
      {
       "javascript": [
        "$('#43648a82-feeb-4297-aaa5-2975bd6dde3f span').last().removeClass(\"progress-striped active\")"
       ],
       "metadata": {},
       "output_type": "display_data",
       "text": [
        "<IPython.core.display.Javascript at 0x4e647d0>"
       ]
      },
      {
       "javascript": [
        "$('#43648a82-feeb-4297-aaa5-2975bd6dde3f span').first().text('Step 2 completed')"
       ],
       "metadata": {},
       "output_type": "display_data",
       "text": [
        "<IPython.core.display.Javascript at 0x4e647d0>"
       ]
      },
      {
       "metadata": {},
       "output_type": "display_data",
       "png": "[encoded data removed]",
       "text": [
        "<matplotlib.figure.Figure at 0x4e64c10>"
       ]
      }
     ],
     "prompt_number": 16
    },
    {
     "cell_type": "heading",
     "level": 2,
     "metadata": {},
     "source": [
      "kfold - Fifth Iteration"
     ]
    },
    {
     "cell_type": "code",
     "collapsed": false,
     "input": [
      "split5 = graph.ml.kfold_split_update(test_fold_id=5,\n",
      "                                     split_property_key='splits')"
     ],
     "language": "python",
     "metadata": {},
     "outputs": [
      {
       "html": [
        "\n",
        "            <div id=\"9721deb5-41b8-4d7e-a5e8-02285376446b\" class='status'>\n",
        "                <span class=\"label span2\">Progress</span>\n",
        "                <span class=\"span7 progress\">\n",
        "                      <div class=\"bar\" style= \"width:0%\">&nbsp;</div>\n",
        "                </span>\n",
        "            </div>\n",
        "            "
       ],
       "metadata": {},
       "output_type": "display_data",
       "text": [
        "<IPython.core.display.HTML at 0x5093e10>"
       ]
      },
      {
       "javascript": [
        "$('#9721deb5-41b8-4d7e-a5e8-02285376446b span').last().addClass(\"progress-striped active\")"
       ],
       "metadata": {},
       "output_type": "display_data",
       "text": [
        "<IPython.core.display.Javascript at 0x5093e10>"
       ]
      },
      {
       "javascript": [
        "$('#9721deb5-41b8-4d7e-a5e8-02285376446b div').first().width('100%')"
       ],
       "metadata": {},
       "output_type": "display_data",
       "text": [
        "<IPython.core.display.Javascript at 0x5093e10>"
       ]
      },
      {
       "javascript": [
        "$('#9721deb5-41b8-4d7e-a5e8-02285376446b span').last().removeClass(\"progress-striped active\")"
       ],
       "metadata": {},
       "output_type": "display_data",
       "text": [
        "<IPython.core.display.Javascript at 0x4e4e1d0>"
       ]
      },
      {
       "javascript": [
        "$('#9721deb5-41b8-4d7e-a5e8-02285376446b span').first().text('Execution completed')"
       ],
       "metadata": {},
       "output_type": "display_data",
       "text": [
        "<IPython.core.display.Javascript at 0x4e4e1d0>"
       ]
      }
     ],
     "prompt_number": "*"
    },
    {
     "cell_type": "code",
     "collapsed": false,
     "input": [
      "report5 = graph.ml.als(input_edge_property_list=\"rating\",\n",
      "       input_edge_label=\"rates\",\n",
      "       output_vertex_property_list=['als5_p0','als5_p1','als5_p2','als_bias5'],\n",
      "       vertex_type=\"vertex_type\",\n",
      "       edge_type =\"splits\",\n",
      "       max_supersteps=20,\n",
      "       feature_dimension=3,\n",
      "       convergence_threshold=0,\n",
      "       als_lambda=0.065,\n",
      "       learning_output_interval=1,\n",
      "       bias_on=True,\n",
      "       num_mapper=4,\n",
      "       mapper_memory='10g'\n",
      "      )"
     ],
     "language": "python",
     "metadata": {},
     "outputs": [
      {
       "html": [
        "\n",
        "            <div id=\"85f18f20-3f82-4c10-b71f-4680d819a5c9\" class='status'>\n",
        "                <span class=\"label span2\">Initialization</span>\n",
        "                <span class=\"span7 progress\">\n",
        "                      <div class=\"bar\" style= \"width:0%\">&nbsp;</div>\n",
        "                </span>\n",
        "            </div>\n",
        "            "
       ],
       "metadata": {},
       "output_type": "display_data",
       "text": [
        "<IPython.core.display.HTML at 0x4e55550>"
       ]
      },
      {
       "javascript": [
        "$('#85f18f20-3f82-4c10-b71f-4680d819a5c9 span').last().addClass(\"progress-striped active\")"
       ],
       "metadata": {},
       "output_type": "display_data",
       "text": [
        "<IPython.core.display.Javascript at 0x4e55550>"
       ]
      },
      {
       "javascript": [
        "$('#85f18f20-3f82-4c10-b71f-4680d819a5c9 div').first().width('100%')"
       ],
       "metadata": {},
       "output_type": "display_data",
       "text": [
        "<IPython.core.display.Javascript at 0x4e55550>"
       ]
      },
      {
       "javascript": [
        "$('#85f18f20-3f82-4c10-b71f-4680d819a5c9 span').last().removeClass(\"progress-striped active\")"
       ],
       "metadata": {},
       "output_type": "display_data",
       "text": [
        "<IPython.core.display.Javascript at 0x4e55a90>"
       ]
      },
      {
       "javascript": [
        "$('#85f18f20-3f82-4c10-b71f-4680d819a5c9 span').first().text('Initialization completed')"
       ],
       "metadata": {},
       "output_type": "display_data",
       "text": [
        "<IPython.core.display.Javascript at 0x4e55b10>"
       ]
      },
      {
       "html": [
        "\n",
        "            <div id=\"f6aa8a26-cf7e-4af0-9829-f888cac6b019\" class='status'>\n",
        "                <span class=\"label span2\">Step 1</span>\n",
        "                <span class=\"span7 progress\">\n",
        "                      <div class=\"bar\" style= \"width:0%\">&nbsp;</div>\n",
        "                </span>\n",
        "            </div>\n",
        "            "
       ],
       "metadata": {},
       "output_type": "display_data",
       "text": [
        "<IPython.core.display.HTML at 0x4e559d0>"
       ]
      },
      {
       "javascript": [
        "$('#f6aa8a26-cf7e-4af0-9829-f888cac6b019 div').first().width('0%')"
       ],
       "metadata": {},
       "output_type": "display_data",
       "text": [
        "<IPython.core.display.Javascript at 0x4e55bd0>"
       ]
      }
     ],
     "prompt_number": "*"
    },
    {
     "cell_type": "heading",
     "level": 2,
     "metadata": {},
     "source": [
      "Kfold - Combine Results"
     ]
    },
    {
     "cell_type": "code",
     "collapsed": false,
     "input": [
      "from intel_analytics.config import global_config\n",
      "global_config['medium_graph_threshold']=10000000"
     ],
     "language": "python",
     "metadata": {},
     "outputs": [],
     "prompt_number": "*"
    },
    {
     "cell_type": "code",
     "collapsed": false,
     "input": [
      "graph.ml._num_edges"
     ],
     "language": "python",
     "metadata": {},
     "outputs": [],
     "prompt_number": "*"
    },
    {
     "cell_type": "code",
     "collapsed": false,
     "input": [
      "comb1 = graph.ml.kfold_combine(output_vertex_property_list=['titan_final1','titan_bias1'],\n",
      "                               k=5)"
     ],
     "language": "python",
     "metadata": {},
     "outputs": [],
     "prompt_number": "*"
    },
    {
     "cell_type": "code",
     "collapsed": false,
     "input": [
      "comb1.exec_time"
     ],
     "language": "python",
     "metadata": {},
     "outputs": [],
     "prompt_number": "*"
    },
    {
     "cell_type": "code",
     "collapsed": false,
     "input": [
      "comb2 = graph.ml.kfold_combine(output_vertex_property_list=['titan_final2','titan_bias2'],\n",
      "                               k=5,\n",
      "                               input_result_list=[report1,report2,report3,report4,report5],\n",
      "                               enable_standard_deviation=True)"
     ],
     "language": "python",
     "metadata": {},
     "outputs": [],
     "prompt_number": "*"
    },
    {
     "cell_type": "code",
     "collapsed": false,
     "input": [
      "comb2.exec_time"
     ],
     "language": "python",
     "metadata": {},
     "outputs": [],
     "prompt_number": "*"
    },
    {
     "cell_type": "code",
     "collapsed": false,
     "input": [
      "rec1=graph.ml.recommend('10001',\n",
      "                        vertex_type='L')"
     ],
     "language": "python",
     "metadata": {},
     "outputs": [],
     "prompt_number": "*"
    },
    {
     "cell_type": "code",
     "collapsed": false,
     "input": [
      "from intel_analytics.config import global_config\n",
      "global_config['medium_graph_threshold']=100"
     ],
     "language": "python",
     "metadata": {},
     "outputs": [],
     "prompt_number": "*"
    },
    {
     "cell_type": "code",
     "collapsed": false,
     "input": [
      "comb3 = graph.ml.kfold_combine(output_vertex_property_list=['faunus_final1','faunus_bias1'],                                 \n",
      "                               k=5,\n",
      "                               input_result_list=[report1,report2,report3,report4,report5],\n",
      "                               enable_standard_deviation=True)"
     ],
     "language": "python",
     "metadata": {},
     "outputs": [],
     "prompt_number": "*"
    },
    {
     "cell_type": "code",
     "collapsed": false,
     "input": [
      "comb3.exec_time"
     ],
     "language": "python",
     "metadata": {},
     "outputs": [],
     "prompt_number": "*"
    },
    {
     "cell_type": "code",
     "collapsed": false,
     "input": [
      "rec2=graph.ml.recommend('10001',\n",
      "                        vertex_type='L')"
     ],
     "language": "python",
     "metadata": {},
     "outputs": [],
     "prompt_number": "*"
    },
    {
     "cell_type": "code",
     "collapsed": false,
     "input": [
      "rec1.exec_time"
     ],
     "language": "python",
     "metadata": {},
     "outputs": [],
     "prompt_number": "*"
    },
    {
     "cell_type": "code",
     "collapsed": false,
     "input": [
      "graph.vertices.index.lookup(_gb_ID='10001').next().data()"
     ],
     "language": "python",
     "metadata": {},
     "outputs": [],
     "prompt_number": "*"
    },
    {
     "cell_type": "code",
     "collapsed": false,
     "input": [
      "print time.time() - start_time"
     ],
     "language": "python",
     "metadata": {},
     "outputs": [],
     "prompt_number": "*"
    }
   ],
   "metadata": {}
  }
 ]
}