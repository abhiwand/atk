{
 "metadata": {
  "name": ""
 },
 "nbformat": 3,
 "nbformat_minor": 0,
 "worksheets": [
  {
   "cells": [
    {
     "cell_type": "heading",
     "level": 2,
     "metadata": {},
     "source": [
      "Import Raw Data"
     ]
    },
    {
     "cell_type": "code",
     "collapsed": false,
     "input": [
      "import time\n",
      "start_time = time.time()\n",
      "from intel_analytics.table.bigdataframe import get_frame_builder\n",
      "fb = get_frame_builder()\n",
      "csvfile = '/user/hadoop/test_lda.csv'\n",
      "frame = fb.build_from_csv('lda',\n",
      "                          csvfile,\n",
      "                          schema='doc:chararray,vertex_type:chararray,word:chararray,count:long',\n",
      "                          overwrite=True)"
     ],
     "language": "python",
     "metadata": {},
     "outputs": [
      {
       "html": [
        "\n",
        "            <div id=\"291e71d5-152a-44a3-b7ac-e55ee2a635f1\" class='status'>\n",
        "                <span class=\"label span2\">Initialization</span>\n",
        "                <span class=\"span7 progress\">\n",
        "                      <div class=\"bar\" style= \"width:0%\">&nbsp;</div>\n",
        "                </span>\n",
        "            </div>\n",
        "            "
       ],
       "metadata": {},
       "output_type": "display_data",
       "text": [
        "<IPython.core.display.HTML at 0x26be050>"
       ]
      },
      {
       "javascript": [
        "$('#291e71d5-152a-44a3-b7ac-e55ee2a635f1 span').last().addClass(\"progress-striped active\")"
       ],
       "metadata": {},
       "output_type": "display_data",
       "text": [
        "<IPython.core.display.Javascript at 0x26be050>"
       ]
      },
      {
       "javascript": [
        "$('#291e71d5-152a-44a3-b7ac-e55ee2a635f1 div').first().width('100%')"
       ],
       "metadata": {},
       "output_type": "display_data",
       "text": [
        "<IPython.core.display.Javascript at 0x26be050>"
       ]
      },
      {
       "javascript": [
        "$('#291e71d5-152a-44a3-b7ac-e55ee2a635f1 span').last().removeClass(\"progress-striped active\")"
       ],
       "metadata": {},
       "output_type": "display_data",
       "text": [
        "<IPython.core.display.Javascript at 0x26be550>"
       ]
      },
      {
       "javascript": [
        "$('#291e71d5-152a-44a3-b7ac-e55ee2a635f1 span').first().text('Initialization completed')"
       ],
       "metadata": {},
       "output_type": "display_data",
       "text": [
        "<IPython.core.display.Javascript at 0x26be590>"
       ]
      },
      {
       "html": [
        "\n",
        "            <div id=\"0b383327-840d-4edb-89ef-9949fb97b655\" class='status'>\n",
        "                <span class=\"label span2\">Progress</span>\n",
        "                <span class=\"span7 progress\">\n",
        "                      <div class=\"bar\" style= \"width:0%\">&nbsp;</div>\n",
        "                </span>\n",
        "            </div>\n",
        "            "
       ],
       "metadata": {},
       "output_type": "display_data",
       "text": [
        "<IPython.core.display.HTML at 0x26be590>"
       ]
      },
      {
       "javascript": [
        "$('#0b383327-840d-4edb-89ef-9949fb97b655 div').first().width('6%')"
       ],
       "metadata": {},
       "output_type": "display_data",
       "text": [
        "<IPython.core.display.Javascript at 0x26be590>"
       ]
      },
      {
       "javascript": [
        "$('#0b383327-840d-4edb-89ef-9949fb97b655 div').first().width('12%')"
       ],
       "metadata": {},
       "output_type": "display_data",
       "text": [
        "<IPython.core.display.Javascript at 0x26be590>"
       ]
      },
      {
       "javascript": [
        "$('#0b383327-840d-4edb-89ef-9949fb97b655 div').first().width('16%')"
       ],
       "metadata": {},
       "output_type": "display_data",
       "text": [
        "<IPython.core.display.Javascript at 0x26be590>"
       ]
      },
      {
       "javascript": [
        "$('#0b383327-840d-4edb-89ef-9949fb97b655 div').first().width('21%')"
       ],
       "metadata": {},
       "output_type": "display_data",
       "text": [
        "<IPython.core.display.Javascript at 0x26be590>"
       ]
      },
      {
       "javascript": [
        "$('#0b383327-840d-4edb-89ef-9949fb97b655 div').first().width('50%')"
       ],
       "metadata": {},
       "output_type": "display_data",
       "text": [
        "<IPython.core.display.Javascript at 0x26be590>"
       ]
      },
      {
       "javascript": [
        "$('#0b383327-840d-4edb-89ef-9949fb97b655 div').first().width('54%')"
       ],
       "metadata": {},
       "output_type": "display_data",
       "text": [
        "<IPython.core.display.Javascript at 0x26be590>"
       ]
      },
      {
       "javascript": [
        "$('#0b383327-840d-4edb-89ef-9949fb97b655 div').first().width('59%')"
       ],
       "metadata": {},
       "output_type": "display_data",
       "text": [
        "<IPython.core.display.Javascript at 0x26be590>"
       ]
      },
      {
       "javascript": [
        "$('#0b383327-840d-4edb-89ef-9949fb97b655 div').first().width('63%')"
       ],
       "metadata": {},
       "output_type": "display_data",
       "text": [
        "<IPython.core.display.Javascript at 0x26be590>"
       ]
      },
      {
       "javascript": [
        "$('#0b383327-840d-4edb-89ef-9949fb97b655 div').first().width('68%')"
       ],
       "metadata": {},
       "output_type": "display_data",
       "text": [
        "<IPython.core.display.Javascript at 0x26be590>"
       ]
      },
      {
       "javascript": [
        "$('#0b383327-840d-4edb-89ef-9949fb97b655 div').first().width('72%')"
       ],
       "metadata": {},
       "output_type": "display_data",
       "text": [
        "<IPython.core.display.Javascript at 0x26be590>"
       ]
      },
      {
       "javascript": [
        "$('#0b383327-840d-4edb-89ef-9949fb97b655 div').first().width('100%')"
       ],
       "metadata": {},
       "output_type": "display_data",
       "text": [
        "<IPython.core.display.Javascript at 0x26be590>"
       ]
      },
      {
       "javascript": [
        "$('#0b383327-840d-4edb-89ef-9949fb97b655 span').first().text('Execution completed')"
       ],
       "metadata": {},
       "output_type": "display_data",
       "text": [
        "<IPython.core.display.Javascript at 0x26be590>"
       ]
      }
     ],
     "prompt_number": 1
    },
    {
     "cell_type": "code",
     "collapsed": false,
     "input": [
      "frame.get_schema()\n"
     ],
     "language": "python",
     "metadata": {},
     "outputs": [
      {
       "metadata": {},
       "output_type": "pyout",
       "prompt_number": 2,
       "text": [
        "{'count': 'long',\n",
        " 'doc': 'chararray',\n",
        " 'vertex_type': 'chararray',\n",
        " 'word': 'chararray'}"
       ]
      }
     ],
     "prompt_number": 2
    },
    {
     "cell_type": "code",
     "collapsed": false,
     "input": [
      "frame.source_file"
     ],
     "language": "python",
     "metadata": {},
     "outputs": [
      {
       "metadata": {},
       "output_type": "pyout",
       "prompt_number": 3,
       "text": [
        "'/user/hadoop/test_lda.csv'"
       ]
      }
     ],
     "prompt_number": 3
    },
    {
     "cell_type": "code",
     "collapsed": false,
     "input": [
      "frame.name"
     ],
     "language": "python",
     "metadata": {},
     "outputs": [
      {
       "metadata": {},
       "output_type": "pyout",
       "prompt_number": 4,
       "text": [
        "'lda'"
       ]
      }
     ],
     "prompt_number": 4
    },
    {
     "cell_type": "code",
     "collapsed": false,
     "input": [
      "from IPython.display import HTML,display\n",
      "HTML(frame.inspect_as_html())"
     ],
     "language": "python",
     "metadata": {},
     "outputs": [
      {
       "html": [
        "<table border=\"1\"><tr><th>count</th><th>doc</th><th>vertex_type</th><th>word</th></tr><tr><td>1</td><td> Abdu l Bah </td><td>L</td><td>memoirs</td></tr><tr><td>7</td><td> Abdu l Bah </td><td>L</td><td>right</td></tr><tr><td>6</td><td> Abdu l Bah </td><td>L</td><td>George</td></tr><tr><td>1</td><td> Abdu l Bah </td><td>L</td><td>Twin</td></tr><tr><td>1</td><td>A cappella</td><td>L</td><td>DJs</td></tr><tr><td>1</td><td>Akira Kurosawa</td><td>L</td><td>Order</td></tr><tr><td>1</td><td>Concorde</td><td>L</td><td>talking</td></tr><tr><td>4</td><td>Donald Campbell</td><td>L</td><td>Crusader</td></tr><tr><td>1</td><td>Donald Campbell</td><td>L</td><td>salary</td></tr><tr><td>1</td><td>Donald Campbell</td><td>L</td><td>substantial</td></tr></table>"
       ],
       "metadata": {},
       "output_type": "pyout",
       "prompt_number": 5,
       "text": [
        "<IPython.core.display.HTML at 0x23a2fd0>"
       ]
      }
     ],
     "prompt_number": 5
    },
    {
     "cell_type": "heading",
     "level": 2,
     "metadata": {},
     "source": [
      "Graph Construction and Load to Graph Database"
     ]
    },
    {
     "cell_type": "code",
     "collapsed": false,
     "input": [
      "from intel_analytics.graph.biggraph import get_graph_builder, GraphTypes\n",
      "gb = get_graph_builder(GraphTypes.Property, frame)\n",
      "gb.register_vertex('doc',['vertex_type'])\n",
      "gb.register_vertex('word')\n",
      "gb.register_edge(('doc', 'word', 'has'), ['count'])"
     ],
     "language": "python",
     "metadata": {},
     "outputs": [],
     "prompt_number": 6
    },
    {
     "cell_type": "code",
     "collapsed": false,
     "input": [
      "graph = gb.build(\"ldagraph\", overwrite=True)"
     ],
     "language": "python",
     "metadata": {},
     "outputs": [
      {
       "output_type": "stream",
       "stream": "stdout",
       "text": [
        "hadoop jar /home/hadoop/TRIB-1132/IntelAnalytics/target/IntelAnalytics-application-0.5-SNAPSHOT.jar com.intel.hadoop.graphbuilder.sampleapplications.TableToGraphDB -conf /home/hadoop/.intelanalytics/conf/graph_builder_titan.xml -t lda_2014-01-31-03-38-57 -v \"etl-cf:doc=etl-cf:vertex_type\", \"etl-cf:word\" -d \"etl-cf:doc,etl-cf:word,has,etl-cf:count\"\n"
       ]
      },
      {
       "html": [
        "\n",
        "            <div id=\"122139be-f185-48f1-a53b-3122aab95fd1\" class='status'>\n",
        "                <span class=\"label span2\">Initialization</span>\n",
        "                <span class=\"span7 progress\">\n",
        "                      <div class=\"bar\" style= \"width:0%\">&nbsp;</div>\n",
        "                </span>\n",
        "            </div>\n",
        "            "
       ],
       "metadata": {},
       "output_type": "display_data",
       "text": [
        "<IPython.core.display.HTML at 0x26be3d0>"
       ]
      },
      {
       "javascript": [
        "$('#122139be-f185-48f1-a53b-3122aab95fd1 span').last().addClass(\"progress-striped active\")"
       ],
       "metadata": {},
       "output_type": "display_data",
       "text": [
        "<IPython.core.display.Javascript at 0x26b6f50>"
       ]
      },
      {
       "javascript": [
        "$('#122139be-f185-48f1-a53b-3122aab95fd1 div').first().width('100%')"
       ],
       "metadata": {},
       "output_type": "display_data",
       "text": [
        "<IPython.core.display.Javascript at 0x26b6f50>"
       ]
      },
      {
       "javascript": [
        "$('#122139be-f185-48f1-a53b-3122aab95fd1 span').last().removeClass(\"progress-striped active\")"
       ],
       "metadata": {},
       "output_type": "display_data",
       "text": [
        "<IPython.core.display.Javascript at 0x26be050>"
       ]
      },
      {
       "javascript": [
        "$('#122139be-f185-48f1-a53b-3122aab95fd1 span').first().text('Initialization completed')"
       ],
       "metadata": {},
       "output_type": "display_data",
       "text": [
        "<IPython.core.display.Javascript at 0x26be490>"
       ]
      },
      {
       "html": [
        "\n",
        "            <div id=\"5781c2de-b87e-4a7f-9f24-635a546a2f48\" class='status'>\n",
        "                <span class=\"label span2\">Step 1</span>\n",
        "                <span class=\"span7 progress\">\n",
        "                      <div class=\"bar\" style= \"width:0%\">&nbsp;</div>\n",
        "                </span>\n",
        "            </div>\n",
        "            "
       ],
       "metadata": {},
       "output_type": "display_data",
       "text": [
        "<IPython.core.display.HTML at 0x26be490>"
       ]
      },
      {
       "javascript": [
        "$('#5781c2de-b87e-4a7f-9f24-635a546a2f48 div').first().width('0%')"
       ],
       "metadata": {},
       "output_type": "display_data",
       "text": [
        "<IPython.core.display.Javascript at 0x26be490>"
       ]
      },
      {
       "javascript": [
        "$('#5781c2de-b87e-4a7f-9f24-635a546a2f48 div').first().width('16%')"
       ],
       "metadata": {},
       "output_type": "display_data",
       "text": [
        "<IPython.core.display.Javascript at 0x26be610>"
       ]
      },
      {
       "javascript": [
        "$('#5781c2de-b87e-4a7f-9f24-635a546a2f48 div').first().width('17%')"
       ],
       "metadata": {},
       "output_type": "display_data",
       "text": [
        "<IPython.core.display.Javascript at 0x26be610>"
       ]
      },
      {
       "javascript": [
        "$('#5781c2de-b87e-4a7f-9f24-635a546a2f48 div').first().width('19%')"
       ],
       "metadata": {},
       "output_type": "display_data",
       "text": [
        "<IPython.core.display.Javascript at 0x26be610>"
       ]
      },
      {
       "javascript": [
        "$('#5781c2de-b87e-4a7f-9f24-635a546a2f48 div').first().width('22%')"
       ],
       "metadata": {},
       "output_type": "display_data",
       "text": [
        "<IPython.core.display.Javascript at 0x26be610>"
       ]
      },
      {
       "javascript": [
        "$('#5781c2de-b87e-4a7f-9f24-635a546a2f48 div').first().width('38%')"
       ],
       "metadata": {},
       "output_type": "display_data",
       "text": [
        "<IPython.core.display.Javascript at 0x26be610>"
       ]
      },
      {
       "javascript": [
        "$('#5781c2de-b87e-4a7f-9f24-635a546a2f48 div').first().width('42%')"
       ],
       "metadata": {},
       "output_type": "display_data",
       "text": [
        "<IPython.core.display.Javascript at 0x26be610>"
       ]
      },
      {
       "javascript": [
        "$('#5781c2de-b87e-4a7f-9f24-635a546a2f48 div').first().width('44%')"
       ],
       "metadata": {},
       "output_type": "display_data",
       "text": [
        "<IPython.core.display.Javascript at 0x26be610>"
       ]
      },
      {
       "javascript": [
        "$('#5781c2de-b87e-4a7f-9f24-635a546a2f48 div').first().width('61%')"
       ],
       "metadata": {},
       "output_type": "display_data",
       "text": [
        "<IPython.core.display.Javascript at 0x26be610>"
       ]
      },
      {
       "javascript": [
        "$('#5781c2de-b87e-4a7f-9f24-635a546a2f48 div').first().width('83%')"
       ],
       "metadata": {},
       "output_type": "display_data",
       "text": [
        "<IPython.core.display.Javascript at 0x26be610>"
       ]
      },
      {
       "javascript": [
        "$('#5781c2de-b87e-4a7f-9f24-635a546a2f48 div').first().width('83%')"
       ],
       "metadata": {},
       "output_type": "display_data",
       "text": [
        "<IPython.core.display.Javascript at 0x26be610>"
       ]
      },
      {
       "javascript": [
        "$('#5781c2de-b87e-4a7f-9f24-635a546a2f48 div').first().width('84%')"
       ],
       "metadata": {},
       "output_type": "display_data",
       "text": [
        "<IPython.core.display.Javascript at 0x26be610>"
       ]
      },
      {
       "javascript": [
        "$('#5781c2de-b87e-4a7f-9f24-635a546a2f48 div').first().width('84%')"
       ],
       "metadata": {},
       "output_type": "display_data",
       "text": [
        "<IPython.core.display.Javascript at 0x26be610>"
       ]
      },
      {
       "javascript": [
        "$('#5781c2de-b87e-4a7f-9f24-635a546a2f48 div').first().width('85%')"
       ],
       "metadata": {},
       "output_type": "display_data",
       "text": [
        "<IPython.core.display.Javascript at 0x26be610>"
       ]
      },
      {
       "javascript": [
        "$('#5781c2de-b87e-4a7f-9f24-635a546a2f48 div').first().width('86%')"
       ],
       "metadata": {},
       "output_type": "display_data",
       "text": [
        "<IPython.core.display.Javascript at 0x26be610>"
       ]
      },
      {
       "javascript": [
        "$('#5781c2de-b87e-4a7f-9f24-635a546a2f48 div').first().width('86%')"
       ],
       "metadata": {},
       "output_type": "display_data",
       "text": [
        "<IPython.core.display.Javascript at 0x26be610>"
       ]
      },
      {
       "javascript": [
        "$('#5781c2de-b87e-4a7f-9f24-635a546a2f48 div').first().width('87%')"
       ],
       "metadata": {},
       "output_type": "display_data",
       "text": [
        "<IPython.core.display.Javascript at 0x26be610>"
       ]
      },
      {
       "javascript": [
        "$('#5781c2de-b87e-4a7f-9f24-635a546a2f48 div').first().width('87%')"
       ],
       "metadata": {},
       "output_type": "display_data",
       "text": [
        "<IPython.core.display.Javascript at 0x26be610>"
       ]
      },
      {
       "javascript": [
        "$('#5781c2de-b87e-4a7f-9f24-635a546a2f48 div').first().width('88%')"
       ],
       "metadata": {},
       "output_type": "display_data",
       "text": [
        "<IPython.core.display.Javascript at 0x26be610>"
       ]
      },
      {
       "javascript": [
        "$('#5781c2de-b87e-4a7f-9f24-635a546a2f48 div').first().width('88%')"
       ],
       "metadata": {},
       "output_type": "display_data",
       "text": [
        "<IPython.core.display.Javascript at 0x26be610>"
       ]
      },
      {
       "javascript": [
        "$('#5781c2de-b87e-4a7f-9f24-635a546a2f48 div').first().width('89%')"
       ],
       "metadata": {},
       "output_type": "display_data",
       "text": [
        "<IPython.core.display.Javascript at 0x26be610>"
       ]
      },
      {
       "javascript": [
        "$('#5781c2de-b87e-4a7f-9f24-635a546a2f48 div').first().width('89%')"
       ],
       "metadata": {},
       "output_type": "display_data",
       "text": [
        "<IPython.core.display.Javascript at 0x26be610>"
       ]
      },
      {
       "javascript": [
        "$('#5781c2de-b87e-4a7f-9f24-635a546a2f48 div').first().width('90%')"
       ],
       "metadata": {},
       "output_type": "display_data",
       "text": [
        "<IPython.core.display.Javascript at 0x26be610>"
       ]
      },
      {
       "javascript": [
        "$('#5781c2de-b87e-4a7f-9f24-635a546a2f48 div').first().width('90%')"
       ],
       "metadata": {},
       "output_type": "display_data",
       "text": [
        "<IPython.core.display.Javascript at 0x26be610>"
       ]
      },
      {
       "javascript": [
        "$('#5781c2de-b87e-4a7f-9f24-635a546a2f48 div').first().width('91%')"
       ],
       "metadata": {},
       "output_type": "display_data",
       "text": [
        "<IPython.core.display.Javascript at 0x26be610>"
       ]
      },
      {
       "javascript": [
        "$('#5781c2de-b87e-4a7f-9f24-635a546a2f48 div').first().width('91%')"
       ],
       "metadata": {},
       "output_type": "display_data",
       "text": [
        "<IPython.core.display.Javascript at 0x26be610>"
       ]
      },
      {
       "javascript": [
        "$('#5781c2de-b87e-4a7f-9f24-635a546a2f48 div').first().width('92%')"
       ],
       "metadata": {},
       "output_type": "display_data",
       "text": [
        "<IPython.core.display.Javascript at 0x26be610>"
       ]
      },
      {
       "javascript": [
        "$('#5781c2de-b87e-4a7f-9f24-635a546a2f48 div').first().width('92%')"
       ],
       "metadata": {},
       "output_type": "display_data",
       "text": [
        "<IPython.core.display.Javascript at 0x26be610>"
       ]
      },
      {
       "javascript": [
        "$('#5781c2de-b87e-4a7f-9f24-635a546a2f48 div').first().width('93%')"
       ],
       "metadata": {},
       "output_type": "display_data",
       "text": [
        "<IPython.core.display.Javascript at 0x26be610>"
       ]
      },
      {
       "javascript": [
        "$('#5781c2de-b87e-4a7f-9f24-635a546a2f48 div').first().width('93%')"
       ],
       "metadata": {},
       "output_type": "display_data",
       "text": [
        "<IPython.core.display.Javascript at 0x26be610>"
       ]
      },
      {
       "javascript": [
        "$('#5781c2de-b87e-4a7f-9f24-635a546a2f48 div').first().width('94%')"
       ],
       "metadata": {},
       "output_type": "display_data",
       "text": [
        "<IPython.core.display.Javascript at 0x26be610>"
       ]
      },
      {
       "javascript": [
        "$('#5781c2de-b87e-4a7f-9f24-635a546a2f48 div').first().width('94%')"
       ],
       "metadata": {},
       "output_type": "display_data",
       "text": [
        "<IPython.core.display.Javascript at 0x26be610>"
       ]
      },
      {
       "javascript": [
        "$('#5781c2de-b87e-4a7f-9f24-635a546a2f48 div').first().width('95%')"
       ],
       "metadata": {},
       "output_type": "display_data",
       "text": [
        "<IPython.core.display.Javascript at 0x26be610>"
       ]
      },
      {
       "javascript": [
        "$('#5781c2de-b87e-4a7f-9f24-635a546a2f48 div').first().width('95%')"
       ],
       "metadata": {},
       "output_type": "display_data",
       "text": [
        "<IPython.core.display.Javascript at 0x26be610>"
       ]
      },
      {
       "javascript": [
        "$('#5781c2de-b87e-4a7f-9f24-635a546a2f48 div').first().width('96%')"
       ],
       "metadata": {},
       "output_type": "display_data",
       "text": [
        "<IPython.core.display.Javascript at 0x26be610>"
       ]
      },
      {
       "javascript": [
        "$('#5781c2de-b87e-4a7f-9f24-635a546a2f48 div').first().width('96%')"
       ],
       "metadata": {},
       "output_type": "display_data",
       "text": [
        "<IPython.core.display.Javascript at 0x26be610>"
       ]
      },
      {
       "javascript": [
        "$('#5781c2de-b87e-4a7f-9f24-635a546a2f48 div').first().width('97%')"
       ],
       "metadata": {},
       "output_type": "display_data",
       "text": [
        "<IPython.core.display.Javascript at 0x26be610>"
       ]
      },
      {
       "javascript": [
        "$('#5781c2de-b87e-4a7f-9f24-635a546a2f48 div').first().width('97%')"
       ],
       "metadata": {},
       "output_type": "display_data",
       "text": [
        "<IPython.core.display.Javascript at 0x26be610>"
       ]
      },
      {
       "javascript": [
        "$('#5781c2de-b87e-4a7f-9f24-635a546a2f48 div').first().width('98%')"
       ],
       "metadata": {},
       "output_type": "display_data",
       "text": [
        "<IPython.core.display.Javascript at 0x26be610>"
       ]
      },
      {
       "javascript": [
        "$('#5781c2de-b87e-4a7f-9f24-635a546a2f48 div').first().width('98%')"
       ],
       "metadata": {},
       "output_type": "display_data",
       "text": [
        "<IPython.core.display.Javascript at 0x26be610>"
       ]
      },
      {
       "javascript": [
        "$('#5781c2de-b87e-4a7f-9f24-635a546a2f48 div').first().width('99%')"
       ],
       "metadata": {},
       "output_type": "display_data",
       "text": [
        "<IPython.core.display.Javascript at 0x26be610>"
       ]
      },
      {
       "javascript": [
        "$('#5781c2de-b87e-4a7f-9f24-635a546a2f48 div').first().width('99%')"
       ],
       "metadata": {},
       "output_type": "display_data",
       "text": [
        "<IPython.core.display.Javascript at 0x26be610>"
       ]
      },
      {
       "javascript": [
        "$('#5781c2de-b87e-4a7f-9f24-635a546a2f48 div').first().width('100%')"
       ],
       "metadata": {},
       "output_type": "display_data",
       "text": [
        "<IPython.core.display.Javascript at 0x26be610>"
       ]
      },
      {
       "javascript": [
        "$('#5781c2de-b87e-4a7f-9f24-635a546a2f48 span').first().text('Step 1 completed')"
       ],
       "metadata": {},
       "output_type": "display_data",
       "text": [
        "<IPython.core.display.Javascript at 0x26be610>"
       ]
      },
      {
       "html": [
        "\n",
        "            <div id=\"1b4f3f74-17cb-44b5-8f84-e7e2a0f80e55\" class='status'>\n",
        "                <span class=\"label span2\">Step 2</span>\n",
        "                <span class=\"span7 progress\">\n",
        "                      <div class=\"bar\" style= \"width:0%\">&nbsp;</div>\n",
        "                </span>\n",
        "            </div>\n",
        "            "
       ],
       "metadata": {},
       "output_type": "display_data",
       "text": [
        "<IPython.core.display.HTML at 0x26be610>"
       ]
      },
      {
       "javascript": [
        "$('#1b4f3f74-17cb-44b5-8f84-e7e2a0f80e55 div').first().width('0%')"
       ],
       "metadata": {},
       "output_type": "display_data",
       "text": [
        "<IPython.core.display.Javascript at 0x26be610>"
       ]
      },
      {
       "javascript": [
        "$('#1b4f3f74-17cb-44b5-8f84-e7e2a0f80e55 div').first().width('8%')"
       ],
       "metadata": {},
       "output_type": "display_data",
       "text": [
        "<IPython.core.display.Javascript at 0x26be650>"
       ]
      },
      {
       "javascript": [
        "$('#1b4f3f74-17cb-44b5-8f84-e7e2a0f80e55 div').first().width('13%')"
       ],
       "metadata": {},
       "output_type": "display_data",
       "text": [
        "<IPython.core.display.Javascript at 0x26be650>"
       ]
      },
      {
       "javascript": [
        "$('#1b4f3f74-17cb-44b5-8f84-e7e2a0f80e55 div').first().width('18%')"
       ],
       "metadata": {},
       "output_type": "display_data",
       "text": [
        "<IPython.core.display.Javascript at 0x26be650>"
       ]
      },
      {
       "javascript": [
        "$('#1b4f3f74-17cb-44b5-8f84-e7e2a0f80e55 div').first().width('23%')"
       ],
       "metadata": {},
       "output_type": "display_data",
       "text": [
        "<IPython.core.display.Javascript at 0x26be650>"
       ]
      },
      {
       "javascript": [
        "$('#1b4f3f74-17cb-44b5-8f84-e7e2a0f80e55 div').first().width('28%')"
       ],
       "metadata": {},
       "output_type": "display_data",
       "text": [
        "<IPython.core.display.Javascript at 0x26be650>"
       ]
      },
      {
       "javascript": [
        "$('#1b4f3f74-17cb-44b5-8f84-e7e2a0f80e55 div').first().width('31%')"
       ],
       "metadata": {},
       "output_type": "display_data",
       "text": [
        "<IPython.core.display.Javascript at 0x26be650>"
       ]
      },
      {
       "javascript": [
        "$('#1b4f3f74-17cb-44b5-8f84-e7e2a0f80e55 div').first().width('34%')"
       ],
       "metadata": {},
       "output_type": "display_data",
       "text": [
        "<IPython.core.display.Javascript at 0x26be650>"
       ]
      },
      {
       "javascript": [
        "$('#1b4f3f74-17cb-44b5-8f84-e7e2a0f80e55 div').first().width('41%')"
       ],
       "metadata": {},
       "output_type": "display_data",
       "text": [
        "<IPython.core.display.Javascript at 0x26be650>"
       ]
      },
      {
       "javascript": [
        "$('#1b4f3f74-17cb-44b5-8f84-e7e2a0f80e55 div').first().width('45%')"
       ],
       "metadata": {},
       "output_type": "display_data",
       "text": [
        "<IPython.core.display.Javascript at 0x26be650>"
       ]
      },
      {
       "javascript": [
        "$('#1b4f3f74-17cb-44b5-8f84-e7e2a0f80e55 div').first().width('47%')"
       ],
       "metadata": {},
       "output_type": "display_data",
       "text": [
        "<IPython.core.display.Javascript at 0x26be650>"
       ]
      },
      {
       "javascript": [
        "$('#1b4f3f74-17cb-44b5-8f84-e7e2a0f80e55 div').first().width('56%')"
       ],
       "metadata": {},
       "output_type": "display_data",
       "text": [
        "<IPython.core.display.Javascript at 0x26be650>"
       ]
      },
      {
       "javascript": [
        "$('#1b4f3f74-17cb-44b5-8f84-e7e2a0f80e55 div').first().width('57%')"
       ],
       "metadata": {},
       "output_type": "display_data",
       "text": [
        "<IPython.core.display.Javascript at 0x26be650>"
       ]
      },
      {
       "javascript": [
        "$('#1b4f3f74-17cb-44b5-8f84-e7e2a0f80e55 div').first().width('59%')"
       ],
       "metadata": {},
       "output_type": "display_data",
       "text": [
        "<IPython.core.display.Javascript at 0x26be650>"
       ]
      },
      {
       "javascript": [
        "$('#1b4f3f74-17cb-44b5-8f84-e7e2a0f80e55 div').first().width('59%')"
       ],
       "metadata": {},
       "output_type": "display_data",
       "text": [
        "<IPython.core.display.Javascript at 0x26be650>"
       ]
      },
      {
       "javascript": [
        "$('#1b4f3f74-17cb-44b5-8f84-e7e2a0f80e55 div').first().width('61%')"
       ],
       "metadata": {},
       "output_type": "display_data",
       "text": [
        "<IPython.core.display.Javascript at 0x26be650>"
       ]
      },
      {
       "javascript": [
        "$('#1b4f3f74-17cb-44b5-8f84-e7e2a0f80e55 div').first().width('61%')"
       ],
       "metadata": {},
       "output_type": "display_data",
       "text": [
        "<IPython.core.display.Javascript at 0x26be650>"
       ]
      },
      {
       "javascript": [
        "$('#1b4f3f74-17cb-44b5-8f84-e7e2a0f80e55 div').first().width('62%')"
       ],
       "metadata": {},
       "output_type": "display_data",
       "text": [
        "<IPython.core.display.Javascript at 0x26be650>"
       ]
      },
      {
       "javascript": [
        "$('#1b4f3f74-17cb-44b5-8f84-e7e2a0f80e55 div').first().width('63%')"
       ],
       "metadata": {},
       "output_type": "display_data",
       "text": [
        "<IPython.core.display.Javascript at 0x26be650>"
       ]
      },
      {
       "javascript": [
        "$('#1b4f3f74-17cb-44b5-8f84-e7e2a0f80e55 div').first().width('78%')"
       ],
       "metadata": {},
       "output_type": "display_data",
       "text": [
        "<IPython.core.display.Javascript at 0x26be650>"
       ]
      },
      {
       "javascript": [
        "$('#1b4f3f74-17cb-44b5-8f84-e7e2a0f80e55 div').first().width('83%')"
       ],
       "metadata": {},
       "output_type": "display_data",
       "text": [
        "<IPython.core.display.Javascript at 0x26be650>"
       ]
      },
      {
       "javascript": [
        "$('#1b4f3f74-17cb-44b5-8f84-e7e2a0f80e55 div').first().width('84%')"
       ],
       "metadata": {},
       "output_type": "display_data",
       "text": [
        "<IPython.core.display.Javascript at 0x26be650>"
       ]
      },
      {
       "javascript": [
        "$('#1b4f3f74-17cb-44b5-8f84-e7e2a0f80e55 div').first().width('84%')"
       ],
       "metadata": {},
       "output_type": "display_data",
       "text": [
        "<IPython.core.display.Javascript at 0x26be650>"
       ]
      },
      {
       "javascript": [
        "$('#1b4f3f74-17cb-44b5-8f84-e7e2a0f80e55 div').first().width('85%')"
       ],
       "metadata": {},
       "output_type": "display_data",
       "text": [
        "<IPython.core.display.Javascript at 0x26be650>"
       ]
      },
      {
       "javascript": [
        "$('#1b4f3f74-17cb-44b5-8f84-e7e2a0f80e55 div').first().width('85%')"
       ],
       "metadata": {},
       "output_type": "display_data",
       "text": [
        "<IPython.core.display.Javascript at 0x26be650>"
       ]
      },
      {
       "javascript": [
        "$('#1b4f3f74-17cb-44b5-8f84-e7e2a0f80e55 div').first().width('86%')"
       ],
       "metadata": {},
       "output_type": "display_data",
       "text": [
        "<IPython.core.display.Javascript at 0x26be650>"
       ]
      },
      {
       "javascript": [
        "$('#1b4f3f74-17cb-44b5-8f84-e7e2a0f80e55 div').first().width('86%')"
       ],
       "metadata": {},
       "output_type": "display_data",
       "text": [
        "<IPython.core.display.Javascript at 0x26be650>"
       ]
      },
      {
       "javascript": [
        "$('#1b4f3f74-17cb-44b5-8f84-e7e2a0f80e55 div').first().width('87%')"
       ],
       "metadata": {},
       "output_type": "display_data",
       "text": [
        "<IPython.core.display.Javascript at 0x26be650>"
       ]
      },
      {
       "javascript": [
        "$('#1b4f3f74-17cb-44b5-8f84-e7e2a0f80e55 div').first().width('87%')"
       ],
       "metadata": {},
       "output_type": "display_data",
       "text": [
        "<IPython.core.display.Javascript at 0x26be650>"
       ]
      },
      {
       "javascript": [
        "$('#1b4f3f74-17cb-44b5-8f84-e7e2a0f80e55 div').first().width('88%')"
       ],
       "metadata": {},
       "output_type": "display_data",
       "text": [
        "<IPython.core.display.Javascript at 0x26be650>"
       ]
      },
      {
       "javascript": [
        "$('#1b4f3f74-17cb-44b5-8f84-e7e2a0f80e55 div').first().width('88%')"
       ],
       "metadata": {},
       "output_type": "display_data",
       "text": [
        "<IPython.core.display.Javascript at 0x26be650>"
       ]
      },
      {
       "javascript": [
        "$('#1b4f3f74-17cb-44b5-8f84-e7e2a0f80e55 div').first().width('89%')"
       ],
       "metadata": {},
       "output_type": "display_data",
       "text": [
        "<IPython.core.display.Javascript at 0x26be650>"
       ]
      },
      {
       "javascript": [
        "$('#1b4f3f74-17cb-44b5-8f84-e7e2a0f80e55 div').first().width('89%')"
       ],
       "metadata": {},
       "output_type": "display_data",
       "text": [
        "<IPython.core.display.Javascript at 0x26be650>"
       ]
      },
      {
       "javascript": [
        "$('#1b4f3f74-17cb-44b5-8f84-e7e2a0f80e55 div').first().width('90%')"
       ],
       "metadata": {},
       "output_type": "display_data",
       "text": [
        "<IPython.core.display.Javascript at 0x26be650>"
       ]
      },
      {
       "javascript": [
        "$('#1b4f3f74-17cb-44b5-8f84-e7e2a0f80e55 div').first().width('90%')"
       ],
       "metadata": {},
       "output_type": "display_data",
       "text": [
        "<IPython.core.display.Javascript at 0x26be650>"
       ]
      },
      {
       "javascript": [
        "$('#1b4f3f74-17cb-44b5-8f84-e7e2a0f80e55 div').first().width('91%')"
       ],
       "metadata": {},
       "output_type": "display_data",
       "text": [
        "<IPython.core.display.Javascript at 0x26be650>"
       ]
      },
      {
       "javascript": [
        "$('#1b4f3f74-17cb-44b5-8f84-e7e2a0f80e55 div').first().width('91%')"
       ],
       "metadata": {},
       "output_type": "display_data",
       "text": [
        "<IPython.core.display.Javascript at 0x26be650>"
       ]
      },
      {
       "javascript": [
        "$('#1b4f3f74-17cb-44b5-8f84-e7e2a0f80e55 div').first().width('92%')"
       ],
       "metadata": {},
       "output_type": "display_data",
       "text": [
        "<IPython.core.display.Javascript at 0x26be650>"
       ]
      },
      {
       "javascript": [
        "$('#1b4f3f74-17cb-44b5-8f84-e7e2a0f80e55 div').first().width('92%')"
       ],
       "metadata": {},
       "output_type": "display_data",
       "text": [
        "<IPython.core.display.Javascript at 0x26be650>"
       ]
      },
      {
       "javascript": [
        "$('#1b4f3f74-17cb-44b5-8f84-e7e2a0f80e55 div').first().width('93%')"
       ],
       "metadata": {},
       "output_type": "display_data",
       "text": [
        "<IPython.core.display.Javascript at 0x26be650>"
       ]
      },
      {
       "javascript": [
        "$('#1b4f3f74-17cb-44b5-8f84-e7e2a0f80e55 div').first().width('93%')"
       ],
       "metadata": {},
       "output_type": "display_data",
       "text": [
        "<IPython.core.display.Javascript at 0x26be650>"
       ]
      },
      {
       "javascript": [
        "$('#1b4f3f74-17cb-44b5-8f84-e7e2a0f80e55 div').first().width('94%')"
       ],
       "metadata": {},
       "output_type": "display_data",
       "text": [
        "<IPython.core.display.Javascript at 0x26be650>"
       ]
      },
      {
       "javascript": [
        "$('#1b4f3f74-17cb-44b5-8f84-e7e2a0f80e55 div').first().width('94%')"
       ],
       "metadata": {},
       "output_type": "display_data",
       "text": [
        "<IPython.core.display.Javascript at 0x26be650>"
       ]
      },
      {
       "javascript": [
        "$('#1b4f3f74-17cb-44b5-8f84-e7e2a0f80e55 div').first().width('95%')"
       ],
       "metadata": {},
       "output_type": "display_data",
       "text": [
        "<IPython.core.display.Javascript at 0x26be650>"
       ]
      },
      {
       "javascript": [
        "$('#1b4f3f74-17cb-44b5-8f84-e7e2a0f80e55 div').first().width('95%')"
       ],
       "metadata": {},
       "output_type": "display_data",
       "text": [
        "<IPython.core.display.Javascript at 0x26be650>"
       ]
      },
      {
       "javascript": [
        "$('#1b4f3f74-17cb-44b5-8f84-e7e2a0f80e55 div').first().width('96%')"
       ],
       "metadata": {},
       "output_type": "display_data",
       "text": [
        "<IPython.core.display.Javascript at 0x26be650>"
       ]
      },
      {
       "javascript": [
        "$('#1b4f3f74-17cb-44b5-8f84-e7e2a0f80e55 div').first().width('97%')"
       ],
       "metadata": {},
       "output_type": "display_data",
       "text": [
        "<IPython.core.display.Javascript at 0x26be650>"
       ]
      },
      {
       "javascript": [
        "$('#1b4f3f74-17cb-44b5-8f84-e7e2a0f80e55 div').first().width('98%')"
       ],
       "metadata": {},
       "output_type": "display_data",
       "text": [
        "<IPython.core.display.Javascript at 0x26be650>"
       ]
      },
      {
       "javascript": [
        "$('#1b4f3f74-17cb-44b5-8f84-e7e2a0f80e55 div').first().width('99%')"
       ],
       "metadata": {},
       "output_type": "display_data",
       "text": [
        "<IPython.core.display.Javascript at 0x26be650>"
       ]
      },
      {
       "javascript": [
        "$('#1b4f3f74-17cb-44b5-8f84-e7e2a0f80e55 div').first().width('99%')"
       ],
       "metadata": {},
       "output_type": "display_data",
       "text": [
        "<IPython.core.display.Javascript at 0x26be650>"
       ]
      },
      {
       "javascript": [
        "$('#1b4f3f74-17cb-44b5-8f84-e7e2a0f80e55 div').first().width('100%')"
       ],
       "metadata": {},
       "output_type": "display_data",
       "text": [
        "<IPython.core.display.Javascript at 0x26be650>"
       ]
      },
      {
       "javascript": [
        "$('#1b4f3f74-17cb-44b5-8f84-e7e2a0f80e55 span').first().text('Step 2 completed')"
       ],
       "metadata": {},
       "output_type": "display_data",
       "text": [
        "<IPython.core.display.Javascript at 0x26be650>"
       ]
      }
     ],
     "prompt_number": 7
    },
    {
     "cell_type": "heading",
     "level": 2,
     "metadata": {},
     "source": [
      "Read From Graph Database and Run Machine Learning Algorithms"
     ]
    },
    {
     "cell_type": "code",
     "collapsed": false,
     "input": [
      "from IPython.display import display\n",
      "%pylab inline --no-import-all"
     ],
     "language": "python",
     "metadata": {},
     "outputs": [
      {
       "output_type": "stream",
       "stream": "stdout",
       "text": [
        "Populating the interactive namespace from numpy and matplotlib\n"
       ]
      }
     ],
     "prompt_number": 8
    },
    {
     "cell_type": "code",
     "collapsed": false,
     "input": [
      "report0 = graph.ml.lda(\n",
      "       input_edge_property_list=\"count\",\n",
      "       input_edge_label=\"has\",\n",
      "       num_topics=\"3\",\n",
      "       output_vertex_property_list=\"lda_p0,lda_p1,lda_p2\",\n",
      "       vertex_type=\"vertex_type\",\n",
      "       max_supersteps=\"5\"\n",
      "       )"
     ],
     "language": "python",
     "metadata": {},
     "outputs": [
      {
       "output_type": "stream",
       "stream": "stdout",
       "text": [
        "hadoop jar /home/hadoop/TRIB-1132/IntelAnalytics/target/IntelAnalytics-application-0.5-SNAPSHOT.jar org.apache.giraph.GiraphRunner -Dgiraph.titan.input.storage.backend=hbase -Dgiraph.titan.input.storage.hostname=gao-ws1 -Dgiraph.titan.input.storage.port=2181 -Dgiraph.titan.input.storage.connection-timeout=100000 -Dgiraph.titan.input.storage.tablename=ldagraph_lda_2014-01-31-03-38-57_titan -Dinput.edge.value.property.key.list=etl-cf:count -Dinput.edge.label.list=has -Doutput.vertex.property.key.list=lda_p0,lda_p1,lda_p2 -Dvector.value=false -Dvertex.type.property.key=etl-cf:vertex_type com.intel.giraph.algorithms.lda.CVB0LDAComputation -mc com.intel.giraph.algorithms.lda.CVB0LDAComputation\\$CVB0LDAMasterCompute -aw com.intel.giraph.algorithms.lda.CVB0LDAComputation\\$CVB0LDAAggregatorWriter -vif com.intel.giraph.io.titan.hbase.TitanHBaseVertexInputFormatPropertyGraph4LDA -vof com.intel.giraph.io.titan.TitanVertexOutputFormatPropertyGraph4LDA -op hdfs:///user/hadoop/giraph/ldagraph_lda_2014-01-31-03-38-57_titan/lda -w 3 -ca lda.maxSupersteps=5 -ca lda.alpha=0.1 -ca lda.beta=0.1 -ca lda.convergenceThreshold=0 -ca lda.evaluateCost=false -ca lda.maxVal=Float.POSITIVE_INFINITY -ca lda.minVal=Float.NEGATIVE_INFINITY -ca lp.bidirectionalCheck=false -ca lda.numTopics=3\n"
       ]
      },
      {
       "html": [
        "\n",
        "            <div id=\"acb6354a-0077-44ec-a403-09f767c2b418\" class='status'>\n",
        "                <span class=\"label span2\">Initialization</span>\n",
        "                <span class=\"span7 progress\">\n",
        "                      <div class=\"bar\" style= \"width:0%\">&nbsp;</div>\n",
        "                </span>\n",
        "            </div>\n",
        "            "
       ],
       "metadata": {},
       "output_type": "display_data",
       "text": [
        "<IPython.core.display.HTML at 0x3382250>"
       ]
      },
      {
       "javascript": [
        "$('#acb6354a-0077-44ec-a403-09f767c2b418 span').last().addClass(\"progress-striped active\")"
       ],
       "metadata": {},
       "output_type": "display_data",
       "text": [
        "<IPython.core.display.Javascript at 0x32ee710>"
       ]
      },
      {
       "javascript": [
        "$('#acb6354a-0077-44ec-a403-09f767c2b418 div').first().width('100%')"
       ],
       "metadata": {},
       "output_type": "display_data",
       "text": [
        "<IPython.core.display.Javascript at 0x32ee710>"
       ]
      },
      {
       "javascript": [
        "$('#acb6354a-0077-44ec-a403-09f767c2b418 span').last().removeClass(\"progress-striped active\")"
       ],
       "metadata": {},
       "output_type": "display_data",
       "text": [
        "<IPython.core.display.Javascript at 0x3382410>"
       ]
      },
      {
       "javascript": [
        "$('#acb6354a-0077-44ec-a403-09f767c2b418 span').first().text('Initialization completed')"
       ],
       "metadata": {},
       "output_type": "display_data",
       "text": [
        "<IPython.core.display.Javascript at 0x3382450>"
       ]
      },
      {
       "html": [
        "\n",
        "            <div id=\"857f3478-f22b-41aa-adf3-0e2127bfba61\" class='status'>\n",
        "                <span class=\"label span2\">Step 1</span>\n",
        "                <span class=\"span7 progress\">\n",
        "                      <div class=\"bar\" style= \"width:0%\">&nbsp;</div>\n",
        "                </span>\n",
        "            </div>\n",
        "            "
       ],
       "metadata": {},
       "output_type": "display_data",
       "text": [
        "<IPython.core.display.HTML at 0x3382490>"
       ]
      },
      {
       "javascript": [
        "$('#857f3478-f22b-41aa-adf3-0e2127bfba61 div').first().width('0%')"
       ],
       "metadata": {},
       "output_type": "display_data",
       "text": [
        "<IPython.core.display.Javascript at 0x33824d0>"
       ]
      },
      {
       "javascript": [
        "$('#857f3478-f22b-41aa-adf3-0e2127bfba61 div').first().width('50%')"
       ],
       "metadata": {},
       "output_type": "display_data",
       "text": [
        "<IPython.core.display.Javascript at 0x33824d0>"
       ]
      },
      {
       "javascript": [
        "$('#857f3478-f22b-41aa-adf3-0e2127bfba61 div').first().width('75%')"
       ],
       "metadata": {},
       "output_type": "display_data",
       "text": [
        "<IPython.core.display.Javascript at 0x33824d0>"
       ]
      },
      {
       "javascript": [
        "$('#857f3478-f22b-41aa-adf3-0e2127bfba61 div').first().width('100%')"
       ],
       "metadata": {},
       "output_type": "display_data",
       "text": [
        "<IPython.core.display.Javascript at 0x33824d0>"
       ]
      },
      {
       "javascript": [
        "$('#857f3478-f22b-41aa-adf3-0e2127bfba61 span').first().text('Step 1 completed')"
       ],
       "metadata": {},
       "output_type": "display_data",
       "text": [
        "<IPython.core.display.Javascript at 0x33824d0>"
       ]
      },
      {
       "html": [
        "\n",
        "            <div id=\"e1d52bcc-2bb7-410d-a318-2aed24f2a09c\" class='status'>\n",
        "                <span class=\"label span2\">Step 2</span>\n",
        "                <span class=\"span7 progress\">\n",
        "                      <div class=\"bar\" style= \"width:0%\">&nbsp;</div>\n",
        "                </span>\n",
        "            </div>\n",
        "            "
       ],
       "metadata": {},
       "output_type": "display_data",
       "text": [
        "<IPython.core.display.HTML at 0x3382490>"
       ]
      },
      {
       "javascript": [
        "$('#e1d52bcc-2bb7-410d-a318-2aed24f2a09c span').last().addClass(\"progress-striped active\")"
       ],
       "metadata": {},
       "output_type": "display_data",
       "text": [
        "<IPython.core.display.Javascript at 0x3382490>"
       ]
      },
      {
       "javascript": [
        "$('#e1d52bcc-2bb7-410d-a318-2aed24f2a09c div').first().width('100%')"
       ],
       "metadata": {},
       "output_type": "display_data",
       "text": [
        "<IPython.core.display.Javascript at 0x3382490>"
       ]
      },
      {
       "javascript": [
        "$('#e1d52bcc-2bb7-410d-a318-2aed24f2a09c span').last().addClass(\"progress-striped active\")"
       ],
       "metadata": {},
       "output_type": "display_data",
       "text": [
        "<IPython.core.display.Javascript at 0x3382490>"
       ]
      },
      {
       "javascript": [
        "$('#e1d52bcc-2bb7-410d-a318-2aed24f2a09c span').last().removeClass(\"progress-striped active\")"
       ],
       "metadata": {},
       "output_type": "display_data",
       "text": [
        "<IPython.core.display.Javascript at 0x3382490>"
       ]
      },
      {
       "javascript": [
        "$('#e1d52bcc-2bb7-410d-a318-2aed24f2a09c span').first().text('Step 2 completed')"
       ],
       "metadata": {},
       "output_type": "display_data",
       "text": [
        "<IPython.core.display.Javascript at 0x3382490>"
       ]
      },
      {
       "metadata": {},
       "output_type": "display_data",
       "png": "[encoded data removed]",
       "text": [
        "<matplotlib.figure.Figure at 0x33823d0>"
       ]
      }
     ],
     "prompt_number": 9
    },
    {
     "cell_type": "code",
     "collapsed": false,
     "input": [
      "report0.cost"
     ],
     "language": "python",
     "metadata": {},
     "outputs": [
      {
       "metadata": {},
       "output_type": "pyout",
       "prompt_number": 11,
       "text": [
        "['0.612526', '0.461828', '0.404546', '0.397010', '0.424436']"
       ]
      }
     ],
     "prompt_number": 11
    },
    {
     "cell_type": "code",
     "collapsed": false,
     "input": [
      "report0.exec_time"
     ],
     "language": "python",
     "metadata": {},
     "outputs": [
      {
       "metadata": {},
       "output_type": "pyout",
       "prompt_number": 12,
       "text": [
        "'647.454012871 seconds'"
       ]
      }
     ],
     "prompt_number": 12
    }
   ],
   "metadata": {}
  }
 ]
}