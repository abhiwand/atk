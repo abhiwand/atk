{
 "metadata": {
  "name": ""
 },
 "nbformat": 3,
 "nbformat_minor": 0,
 "worksheets": [
  {
   "cells": [
    {
     "cell_type": "heading",
     "level": 2,
     "metadata": {},
     "source": [
      "Import Raw Data"
     ]
    },
    {
     "cell_type": "code",
     "collapsed": false,
     "input": [
      "import time\n",
      "start_time = time.time()\n",
      "from intel_analytics.table.bigdataframe import get_frame_builder\n",
      "fb = get_frame_builder()\n",
      "csvfile = '/user/hadoop/netflix.csv'\n",
      "frame = fb.build_from_csv('ccframe',\n",
      "                          csvfile,\n",
      "                          schema='user:long,vertex_type:chararray,movie:long,rating:long,splits:chararray',\n",
      "                          overwrite=True)"
     ],
     "language": "python",
     "metadata": {},
     "outputs": [
      {
       "html": [
        "\n",
        "            <div id=\"ec0c6097-4929-466b-a530-572878f12cb8\" class='status'>\n",
        "                <span class=\"label span2\">Initialization</span>\n",
        "                <span class=\"span7 progress\">\n",
        "                      <div class=\"bar\" style= \"width:0%\">&nbsp;</div>\n",
        "                </span>\n",
        "            </div>\n",
        "            "
       ],
       "metadata": {},
       "output_type": "display_data",
       "text": [
        "<IPython.core.display.HTML at 0x30b0b10>"
       ]
      },
      {
       "javascript": [
        "$('#ec0c6097-4929-466b-a530-572878f12cb8 span').last().addClass(\"progress-striped active\")"
       ],
       "metadata": {},
       "output_type": "display_data",
       "text": [
        "<IPython.core.display.Javascript at 0x30b0b10>"
       ]
      },
      {
       "javascript": [
        "$('#ec0c6097-4929-466b-a530-572878f12cb8 div').first().width('100%')"
       ],
       "metadata": {},
       "output_type": "display_data",
       "text": [
        "<IPython.core.display.Javascript at 0x30b0b10>"
       ]
      },
      {
       "javascript": [
        "$('#ec0c6097-4929-466b-a530-572878f12cb8 span').last().removeClass(\"progress-striped active\")"
       ],
       "metadata": {},
       "output_type": "display_data",
       "text": [
        "<IPython.core.display.Javascript at 0x30bf0d0>"
       ]
      },
      {
       "javascript": [
        "$('#ec0c6097-4929-466b-a530-572878f12cb8 span').first().text('Initialization completed')"
       ],
       "metadata": {},
       "output_type": "display_data",
       "text": [
        "<IPython.core.display.Javascript at 0x30bf110>"
       ]
      },
      {
       "html": [
        "\n",
        "            <div id=\"5761a0af-73bc-4fcc-a041-76abff419369\" class='status'>\n",
        "                <span class=\"label span2\">Progress</span>\n",
        "                <span class=\"span7 progress\">\n",
        "                      <div class=\"bar\" style= \"width:0%\">&nbsp;</div>\n",
        "                </span>\n",
        "            </div>\n",
        "            "
       ],
       "metadata": {},
       "output_type": "display_data",
       "text": [
        "<IPython.core.display.HTML at 0x30bf110>"
       ]
      },
      {
       "javascript": [
        "$('#5761a0af-73bc-4fcc-a041-76abff419369 div').first().width('25%')"
       ],
       "metadata": {},
       "output_type": "display_data",
       "text": [
        "<IPython.core.display.Javascript at 0x30bf110>"
       ]
      },
      {
       "javascript": [
        "$('#5761a0af-73bc-4fcc-a041-76abff419369 div').first().width('50%')"
       ],
       "metadata": {},
       "output_type": "display_data",
       "text": [
        "<IPython.core.display.Javascript at 0x30bf110>"
       ]
      },
      {
       "javascript": [
        "$('#5761a0af-73bc-4fcc-a041-76abff419369 div').first().width('61%')"
       ],
       "metadata": {},
       "output_type": "display_data",
       "text": [
        "<IPython.core.display.Javascript at 0x30bf110>"
       ]
      },
      {
       "javascript": [
        "$('#5761a0af-73bc-4fcc-a041-76abff419369 div').first().width('71%')"
       ],
       "metadata": {},
       "output_type": "display_data",
       "text": [
        "<IPython.core.display.Javascript at 0x30bf110>"
       ]
      },
      {
       "javascript": [
        "$('#5761a0af-73bc-4fcc-a041-76abff419369 div').first().width('100%')"
       ],
       "metadata": {},
       "output_type": "display_data",
       "text": [
        "<IPython.core.display.Javascript at 0x30bf110>"
       ]
      },
      {
       "javascript": [
        "$('#5761a0af-73bc-4fcc-a041-76abff419369 span').first().text('Execution completed')"
       ],
       "metadata": {},
       "output_type": "display_data",
       "text": [
        "<IPython.core.display.Javascript at 0x30bf110>"
       ]
      }
     ],
     "prompt_number": 1
    },
    {
     "cell_type": "code",
     "collapsed": false,
     "input": [
      "frame.get_schema()\n"
     ],
     "language": "python",
     "metadata": {},
     "outputs": [
      {
       "metadata": {},
       "output_type": "pyout",
       "prompt_number": 2,
       "text": [
        "{'movie': 'long',\n",
        " 'rating': 'long',\n",
        " 'splits': 'chararray',\n",
        " 'user': 'long',\n",
        " 'vertex_type': 'chararray'}"
       ]
      }
     ],
     "prompt_number": 2
    },
    {
     "cell_type": "code",
     "collapsed": false,
     "input": [
      "frame.source_file"
     ],
     "language": "python",
     "metadata": {},
     "outputs": [
      {
       "metadata": {},
       "output_type": "pyout",
       "prompt_number": 3,
       "text": [
        "'/user/hadoop/netflix.csv'"
       ]
      }
     ],
     "prompt_number": 3
    },
    {
     "cell_type": "code",
     "collapsed": false,
     "input": [
      "frame.name"
     ],
     "language": "python",
     "metadata": {},
     "outputs": [
      {
       "metadata": {},
       "output_type": "pyout",
       "prompt_number": 4,
       "text": [
        "'ccframe'"
       ]
      }
     ],
     "prompt_number": 4
    },
    {
     "cell_type": "code",
     "collapsed": false,
     "input": [
      "from IPython.display import display\n",
      "from IPython.display import HTML\n",
      "%pylab inline --no-import-all\n",
      "HTML(frame.inspect_as_html())"
     ],
     "language": "python",
     "metadata": {},
     "outputs": [
      {
       "output_type": "stream",
       "stream": "stdout",
       "text": [
        "Populating the interactive namespace from numpy and matplotlib\n"
       ]
      },
      {
       "html": [
        "<table border=\"1\"><tr><th>movie</th><th>vertex_type</th><th>splits</th><th>user</th><th>rating</th></tr><tr><td>-123</td><td>L</td><td>tr</td><td>1</td><td>3</td></tr><tr><td>-357</td><td>L</td><td>tr</td><td>1</td><td>1</td></tr><tr><td>-389</td><td>L</td><td>tr</td><td>4</td><td>1</td></tr><tr><td>-388</td><td>L</td><td>tr</td><td>30</td><td>5</td></tr><tr><td>-239</td><td>L</td><td>tr</td><td>435</td><td>4</td></tr><tr><td>-316</td><td>L</td><td>tr</td><td>6661</td><td>2</td></tr><tr><td>-329</td><td>L</td><td>tr</td><td>6661</td><td>5</td></tr><tr><td>-332</td><td>L</td><td>tr</td><td>6661</td><td>5</td></tr><tr><td>-336</td><td>L</td><td>tr</td><td>6661</td><td>2</td></tr><tr><td>-338</td><td>L</td><td>tr</td><td>6661</td><td>5</td></tr></table>"
       ],
       "metadata": {},
       "output_type": "pyout",
       "prompt_number": 14,
       "text": [
        "<IPython.core.display.HTML at 0x4509750>"
       ]
      }
     ],
     "prompt_number": 14
    },
    {
     "cell_type": "heading",
     "level": 2,
     "metadata": {},
     "source": [
      "Graph Construction and Load to Graph Database"
     ]
    },
    {
     "cell_type": "code",
     "collapsed": false,
     "input": [
      "from intel_analytics.graph.biggraph import get_graph_builder, GraphTypes\n",
      "gb = get_graph_builder(GraphTypes.Property, frame)\n",
      "gb.register_vertex('user',['vertex_type'])\n",
      "gb.register_vertex('movie')\n",
      "gb.register_edge(('user', 'movie', 'rates'), ['splits','rating'])"
     ],
     "language": "python",
     "metadata": {},
     "outputs": [],
     "prompt_number": 6
    },
    {
     "cell_type": "code",
     "collapsed": false,
     "input": [
      "graph = gb.build(\"ccgraph\", overwrite=True)"
     ],
     "language": "python",
     "metadata": {},
     "outputs": [
      {
       "html": [
        "\n",
        "            <div id=\"65febcd8-29b7-424d-b087-628e27be4ffa\" class='status'>\n",
        "                <span class=\"label span2\">Initialization</span>\n",
        "                <span class=\"span7 progress\">\n",
        "                      <div class=\"bar\" style= \"width:0%\">&nbsp;</div>\n",
        "                </span>\n",
        "            </div>\n",
        "            "
       ],
       "metadata": {},
       "output_type": "display_data",
       "text": [
        "<IPython.core.display.HTML at 0x2e397d0>"
       ]
      },
      {
       "javascript": [
        "$('#65febcd8-29b7-424d-b087-628e27be4ffa span').last().addClass(\"progress-striped active\")"
       ],
       "metadata": {},
       "output_type": "display_data",
       "text": [
        "<IPython.core.display.Javascript at 0x2e397d0>"
       ]
      },
      {
       "javascript": [
        "$('#65febcd8-29b7-424d-b087-628e27be4ffa div').first().width('100%')"
       ],
       "metadata": {},
       "output_type": "display_data",
       "text": [
        "<IPython.core.display.Javascript at 0x2e397d0>"
       ]
      },
      {
       "javascript": [
        "$('#65febcd8-29b7-424d-b087-628e27be4ffa span').last().removeClass(\"progress-striped active\")"
       ],
       "metadata": {},
       "output_type": "display_data",
       "text": [
        "<IPython.core.display.Javascript at 0x2e39150>"
       ]
      },
      {
       "javascript": [
        "$('#65febcd8-29b7-424d-b087-628e27be4ffa span').first().text('Initialization completed')"
       ],
       "metadata": {},
       "output_type": "display_data",
       "text": [
        "<IPython.core.display.Javascript at 0x30c2510>"
       ]
      },
      {
       "html": [
        "\n",
        "            <div id=\"de5e6806-0839-468b-abcc-76d767398529\" class='status'>\n",
        "                <span class=\"label span2\">Step 1</span>\n",
        "                <span class=\"span7 progress\">\n",
        "                      <div class=\"bar\" style= \"width:0%\">&nbsp;</div>\n",
        "                </span>\n",
        "            </div>\n",
        "            "
       ],
       "metadata": {},
       "output_type": "display_data",
       "text": [
        "<IPython.core.display.HTML at 0x30c2510>"
       ]
      },
      {
       "javascript": [
        "$('#de5e6806-0839-468b-abcc-76d767398529 div').first().width('0%')"
       ],
       "metadata": {},
       "output_type": "display_data",
       "text": [
        "<IPython.core.display.Javascript at 0x30c2510>"
       ]
      },
      {
       "javascript": [
        "$('#de5e6806-0839-468b-abcc-76d767398529 div').first().width('50%')"
       ],
       "metadata": {},
       "output_type": "display_data",
       "text": [
        "<IPython.core.display.Javascript at 0x30c24d0>"
       ]
      },
      {
       "javascript": [
        "$('#de5e6806-0839-468b-abcc-76d767398529 div').first().width('66%')"
       ],
       "metadata": {},
       "output_type": "display_data",
       "text": [
        "<IPython.core.display.Javascript at 0x30c24d0>"
       ]
      },
      {
       "javascript": [
        "$('#de5e6806-0839-468b-abcc-76d767398529 div').first().width('79%')"
       ],
       "metadata": {},
       "output_type": "display_data",
       "text": [
        "<IPython.core.display.Javascript at 0x30c24d0>"
       ]
      },
      {
       "javascript": [
        "$('#de5e6806-0839-468b-abcc-76d767398529 div').first().width('83%')"
       ],
       "metadata": {},
       "output_type": "display_data",
       "text": [
        "<IPython.core.display.Javascript at 0x30c24d0>"
       ]
      },
      {
       "javascript": [
        "$('#de5e6806-0839-468b-abcc-76d767398529 div').first().width('90%')"
       ],
       "metadata": {},
       "output_type": "display_data",
       "text": [
        "<IPython.core.display.Javascript at 0x30c24d0>"
       ]
      },
      {
       "javascript": [
        "$('#de5e6806-0839-468b-abcc-76d767398529 div').first().width('92%')"
       ],
       "metadata": {},
       "output_type": "display_data",
       "text": [
        "<IPython.core.display.Javascript at 0x30c24d0>"
       ]
      },
      {
       "javascript": [
        "$('#de5e6806-0839-468b-abcc-76d767398529 div').first().width('98%')"
       ],
       "metadata": {},
       "output_type": "display_data",
       "text": [
        "<IPython.core.display.Javascript at 0x30c24d0>"
       ]
      },
      {
       "javascript": [
        "$('#de5e6806-0839-468b-abcc-76d767398529 div').first().width('99%')"
       ],
       "metadata": {},
       "output_type": "display_data",
       "text": [
        "<IPython.core.display.Javascript at 0x30c24d0>"
       ]
      },
      {
       "javascript": [
        "$('#de5e6806-0839-468b-abcc-76d767398529 div').first().width('100%')"
       ],
       "metadata": {},
       "output_type": "display_data",
       "text": [
        "<IPython.core.display.Javascript at 0x30c24d0>"
       ]
      },
      {
       "javascript": [
        "$('#de5e6806-0839-468b-abcc-76d767398529 span').first().text('Step 1 completed')"
       ],
       "metadata": {},
       "output_type": "display_data",
       "text": [
        "<IPython.core.display.Javascript at 0x30c24d0>"
       ]
      },
      {
       "html": [
        "\n",
        "            <div id=\"2d18fc7c-99de-49d0-b0a6-0fde7b741d37\" class='status'>\n",
        "                <span class=\"label span2\">Step 2</span>\n",
        "                <span class=\"span7 progress\">\n",
        "                      <div class=\"bar\" style= \"width:0%\">&nbsp;</div>\n",
        "                </span>\n",
        "            </div>\n",
        "            "
       ],
       "metadata": {},
       "output_type": "display_data",
       "text": [
        "<IPython.core.display.HTML at 0x30c24d0>"
       ]
      },
      {
       "javascript": [
        "$('#2d18fc7c-99de-49d0-b0a6-0fde7b741d37 div').first().width('0%')"
       ],
       "metadata": {},
       "output_type": "display_data",
       "text": [
        "<IPython.core.display.Javascript at 0x30c24d0>"
       ]
      },
      {
       "javascript": [
        "$('#2d18fc7c-99de-49d0-b0a6-0fde7b741d37 div').first().width('37%')"
       ],
       "metadata": {},
       "output_type": "display_data",
       "text": [
        "<IPython.core.display.Javascript at 0x2e37c90>"
       ]
      },
      {
       "javascript": [
        "$('#2d18fc7c-99de-49d0-b0a6-0fde7b741d37 div').first().width('50%')"
       ],
       "metadata": {},
       "output_type": "display_data",
       "text": [
        "<IPython.core.display.Javascript at 0x2e37c90>"
       ]
      },
      {
       "javascript": [
        "$('#2d18fc7c-99de-49d0-b0a6-0fde7b741d37 div').first().width('57%')"
       ],
       "metadata": {},
       "output_type": "display_data",
       "text": [
        "<IPython.core.display.Javascript at 0x2e37c90>"
       ]
      },
      {
       "javascript": [
        "$('#2d18fc7c-99de-49d0-b0a6-0fde7b741d37 div').first().width('66%')"
       ],
       "metadata": {},
       "output_type": "display_data",
       "text": [
        "<IPython.core.display.Javascript at 0x2e37c90>"
       ]
      },
      {
       "javascript": [
        "$('#2d18fc7c-99de-49d0-b0a6-0fde7b741d37 div').first().width('75%')"
       ],
       "metadata": {},
       "output_type": "display_data",
       "text": [
        "<IPython.core.display.Javascript at 0x2e37c90>"
       ]
      },
      {
       "javascript": [
        "$('#2d18fc7c-99de-49d0-b0a6-0fde7b741d37 div').first().width('84%')"
       ],
       "metadata": {},
       "output_type": "display_data",
       "text": [
        "<IPython.core.display.Javascript at 0x2e37c90>"
       ]
      },
      {
       "javascript": [
        "$('#2d18fc7c-99de-49d0-b0a6-0fde7b741d37 div').first().width('92%')"
       ],
       "metadata": {},
       "output_type": "display_data",
       "text": [
        "<IPython.core.display.Javascript at 0x2e37c90>"
       ]
      },
      {
       "javascript": [
        "$('#2d18fc7c-99de-49d0-b0a6-0fde7b741d37 div').first().width('100%')"
       ],
       "metadata": {},
       "output_type": "display_data",
       "text": [
        "<IPython.core.display.Javascript at 0x2e37c90>"
       ]
      },
      {
       "javascript": [
        "$('#2d18fc7c-99de-49d0-b0a6-0fde7b741d37 span').first().text('Step 2 completed')"
       ],
       "metadata": {},
       "output_type": "display_data",
       "text": [
        "<IPython.core.display.Javascript at 0x2e37c90>"
       ]
      }
     ],
     "prompt_number": 7
    },
    {
     "cell_type": "heading",
     "level": 2,
     "metadata": {},
     "source": [
      "Read From Graph Database and Run Machine Learning Algorithms"
     ]
    },
    {
     "cell_type": "code",
     "collapsed": false,
     "input": [
      "report0 = graph.ml.connected_components(\n",
      "       input_edge_label=\"rates\",\n",
      "       output_vertex_property_list=['component_id'],\n",
      "       mapper_memory='12g',\n",
      "       num_worker='15'\n",
      "       )"
     ],
     "language": "python",
     "metadata": {},
     "outputs": [
      {
       "output_type": "stream",
       "stream": "stdout",
       "text": [
        "hadoop jar /home/hadoop/sprint_8/IntelAnalytics/target/IntelAnalytics-application-0.8-SNAPSHOT.jar org.apache.giraph.GiraphRunner -Dmapred.tasktracker.map.tasks.maximum=4 -Dmapred.map.child.java.opts=-Xmx8g -Dgiraph.titan.input.storage.backend=hbase -Dgiraph.titan.input.storage.hostname=master -Dgiraph.titan.input.storage.port=2181 -Dgiraph.titan.input.storage.connection-timeout=100000 -Dgiraph.titan.input.storage.tablename=ccgraph_ccframe_2014-02-15-00-38-50_titan -Dinput.edge.label.list=rates -Doutput.vertex.property.key.list=component_id com.intel.giraph.algorithms.cc.ConnectedComponentsComputation -mc com.intel.giraph.algorithms.cc.ConnectedComponentsComputation\\$ConnectedComponentsMasterCompute -aw com.intel.giraph.algorithms.cc.ConnectedComponentsComputation\\$ConnectedComponentsAggregatorWriter -vif com.intel.giraph.io.titan.hbase.TitanHBaseVertexInputFormatLongLongNull -vof com.intel.giraph.io.titan.TitanVertexOutputFormatLongIDLongValue -op hdfs:///user/hadoop/giraph/ccgraph_ccframe_2014-02-15-00-38-50_titan/cc -w 3 -ca cc.convergenceProgressOutputInterval=1\n"
       ]
      },
      {
       "html": [
        "\n",
        "            <div id=\"c318a306-4582-4307-ae00-625ab2a87c79\" class='status'>\n",
        "                <span class=\"label span2\">Initialization</span>\n",
        "                <span class=\"span7 progress\">\n",
        "                      <div class=\"bar\" style= \"width:0%\">&nbsp;</div>\n",
        "                </span>\n",
        "            </div>\n",
        "            "
       ],
       "metadata": {},
       "output_type": "display_data",
       "text": [
        "<IPython.core.display.HTML at 0x4509b50>"
       ]
      },
      {
       "javascript": [
        "$('#c318a306-4582-4307-ae00-625ab2a87c79 span').last().addClass(\"progress-striped active\")"
       ],
       "metadata": {},
       "output_type": "display_data",
       "text": [
        "<IPython.core.display.Javascript at 0x4509b50>"
       ]
      },
      {
       "javascript": [
        "$('#c318a306-4582-4307-ae00-625ab2a87c79 div').first().width('100%')"
       ],
       "metadata": {},
       "output_type": "display_data",
       "text": [
        "<IPython.core.display.Javascript at 0x4509b50>"
       ]
      },
      {
       "javascript": [
        "$('#c318a306-4582-4307-ae00-625ab2a87c79 span').last().removeClass(\"progress-striped active\")"
       ],
       "metadata": {},
       "output_type": "display_data",
       "text": [
        "<IPython.core.display.Javascript at 0x4509d10>"
       ]
      },
      {
       "javascript": [
        "$('#c318a306-4582-4307-ae00-625ab2a87c79 span').first().text('Initialization completed')"
       ],
       "metadata": {},
       "output_type": "display_data",
       "text": [
        "<IPython.core.display.Javascript at 0x4509dd0>"
       ]
      },
      {
       "html": [
        "\n",
        "            <div id=\"dc832005-235c-424e-a088-eae37af5db7d\" class='status'>\n",
        "                <span class=\"label span2\">Step 1</span>\n",
        "                <span class=\"span7 progress\">\n",
        "                      <div class=\"bar\" style= \"width:0%\">&nbsp;</div>\n",
        "                </span>\n",
        "            </div>\n",
        "            "
       ],
       "metadata": {},
       "output_type": "display_data",
       "text": [
        "<IPython.core.display.HTML at 0x4509d50>"
       ]
      },
      {
       "javascript": [
        "$('#dc832005-235c-424e-a088-eae37af5db7d div').first().width('0%')"
       ],
       "metadata": {},
       "output_type": "display_data",
       "text": [
        "<IPython.core.display.Javascript at 0x4509e10>"
       ]
      },
      {
       "javascript": [
        "$('#dc832005-235c-424e-a088-eae37af5db7d div').first().width('25%')"
       ],
       "metadata": {},
       "output_type": "display_data",
       "text": [
        "<IPython.core.display.Javascript at 0x4509e10>"
       ]
      },
      {
       "javascript": [
        "$('#dc832005-235c-424e-a088-eae37af5db7d div').first().width('100%')"
       ],
       "metadata": {},
       "output_type": "display_data",
       "text": [
        "<IPython.core.display.Javascript at 0x4509e10>"
       ]
      },
      {
       "javascript": [
        "$('#dc832005-235c-424e-a088-eae37af5db7d span').first().text('Step 1 completed')"
       ],
       "metadata": {},
       "output_type": "display_data",
       "text": [
        "<IPython.core.display.Javascript at 0x4509e10>"
       ]
      },
      {
       "html": [
        "\n",
        "            <div id=\"61061555-2a31-4d6c-9283-8205c9181c40\" class='status'>\n",
        "                <span class=\"label span2\">Step 2</span>\n",
        "                <span class=\"span7 progress\">\n",
        "                      <div class=\"bar\" style= \"width:0%\">&nbsp;</div>\n",
        "                </span>\n",
        "            </div>\n",
        "            "
       ],
       "metadata": {},
       "output_type": "display_data",
       "text": [
        "<IPython.core.display.HTML at 0x4509dd0>"
       ]
      },
      {
       "javascript": [
        "$('#61061555-2a31-4d6c-9283-8205c9181c40 span').last().addClass(\"progress-striped active\")"
       ],
       "metadata": {},
       "output_type": "display_data",
       "text": [
        "<IPython.core.display.Javascript at 0x4509dd0>"
       ]
      },
      {
       "javascript": [
        "$('#61061555-2a31-4d6c-9283-8205c9181c40 div').first().width('100%')"
       ],
       "metadata": {},
       "output_type": "display_data",
       "text": [
        "<IPython.core.display.Javascript at 0x4509dd0>"
       ]
      },
      {
       "javascript": [
        "$('#61061555-2a31-4d6c-9283-8205c9181c40 span').last().addClass(\"progress-striped active\")"
       ],
       "metadata": {},
       "output_type": "display_data",
       "text": [
        "<IPython.core.display.Javascript at 0x4509dd0>"
       ]
      },
      {
       "javascript": [
        "$('#61061555-2a31-4d6c-9283-8205c9181c40 span').last().removeClass(\"progress-striped active\")"
       ],
       "metadata": {},
       "output_type": "display_data",
       "text": [
        "<IPython.core.display.Javascript at 0x4509dd0>"
       ]
      },
      {
       "javascript": [
        "$('#61061555-2a31-4d6c-9283-8205c9181c40 span').first().text('Step 2 completed')"
       ],
       "metadata": {},
       "output_type": "display_data",
       "text": [
        "<IPython.core.display.Javascript at 0x4509dd0>"
       ]
      },
      {
       "metadata": {},
       "output_type": "display_data",
       "png": "[encoded data removed]",
       "text": [
        "<matplotlib.figure.Figure at 0x4509d90>"
       ]
      }
     ],
     "prompt_number": 15
    },
    {
     "cell_type": "code",
     "collapsed": false,
     "input": [
      "report0.convergence_progress"
     ],
     "language": "python",
     "metadata": {},
     "outputs": [
      {
       "metadata": {},
       "output_type": "pyout",
       "prompt_number": 9,
       "text": [
        "['566312.821558', '92506.237432', '86.956863', '6.880000']"
       ]
      }
     ],
     "prompt_number": 9
    },
    {
     "cell_type": "code",
     "collapsed": false,
     "input": [
      "report0.super_steps"
     ],
     "language": "python",
     "metadata": {},
     "outputs": [
      {
       "metadata": {},
       "output_type": "pyout",
       "prompt_number": 11,
       "text": [
        "['0', '1', '2', '3']"
       ]
      }
     ],
     "prompt_number": 11
    },
    {
     "cell_type": "code",
     "collapsed": false,
     "input": [
      "report0.exec_time"
     ],
     "language": "python",
     "metadata": {},
     "outputs": [
      {
       "metadata": {},
       "output_type": "pyout",
       "prompt_number": 10,
       "text": [
        "'66.8153760433 seconds'"
       ]
      }
     ],
     "prompt_number": 10
    },
    {
     "cell_type": "code",
     "collapsed": false,
     "input": [],
     "language": "python",
     "metadata": {},
     "outputs": [],
     "prompt_number": 10
    }
   ],
   "metadata": {}
  }
 ]
}