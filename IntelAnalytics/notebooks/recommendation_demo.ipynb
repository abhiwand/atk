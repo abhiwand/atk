{
 "metadata": {
  "name": ""
 },
 "nbformat": 3,
 "nbformat_minor": 0,
 "worksheets": [
  {
   "cells": [
    {
     "cell_type": "heading",
     "level": 2,
     "metadata": {},
     "source": [
      "Import Raw Data"
     ]
    },
    {
     "cell_type": "code",
     "collapsed": false,
     "input": [
      "import time\n",
      "start_time = time.time()\n",
      "from intel_analytics.table.bigdataframe import get_frame_builder\n",
      "fb = get_frame_builder()\n",
      "csvfile = '/user/hadoop/recommendation_raw_input.csv'\n",
      "frame = fb.build_from_csv('myframe',\n",
      "                          csvfile,\n",
      "                          schema='user:long,vertex_type:chararray,movie:long,rating:long,splits:chararray',\n",
      "                          overwrite=True)"
     ],
     "language": "python",
     "metadata": {},
     "outputs": [
      {
       "html": [
        "\n",
        "            <div id=\"62c1c9dc-78f4-4f0d-b5d7-3de41c4610fe\" class='status'>\n",
        "                <span class=\"label span2\">Initialization</span>\n",
        "                <span class=\"span7 progress\">\n",
        "                      <div class=\"bar\" style= \"width:0%\">&nbsp;</div>\n",
        "                </span>\n",
        "            </div>\n",
        "            "
       ],
       "metadata": {},
       "output_type": "display_data",
       "text": [
        "<IPython.core.display.HTML at 0x36a4250>"
       ]
      },
      {
       "javascript": [
        "$('#62c1c9dc-78f4-4f0d-b5d7-3de41c4610fe span').last().addClass(\"progress-striped active\")"
       ],
       "metadata": {},
       "output_type": "display_data",
       "text": [
        "<IPython.core.display.Javascript at 0x36a4250>"
       ]
      },
      {
       "javascript": [
        "$('#62c1c9dc-78f4-4f0d-b5d7-3de41c4610fe div').first().width('100%')"
       ],
       "metadata": {},
       "output_type": "display_data",
       "text": [
        "<IPython.core.display.Javascript at 0x36a4250>"
       ]
      },
      {
       "javascript": [
        "$('#62c1c9dc-78f4-4f0d-b5d7-3de41c4610fe span').last().removeClass(\"progress-striped active\")"
       ],
       "metadata": {},
       "output_type": "display_data",
       "text": [
        "<IPython.core.display.Javascript at 0x36a4750>"
       ]
      },
      {
       "javascript": [
        "$('#62c1c9dc-78f4-4f0d-b5d7-3de41c4610fe span').first().text('Initialization completed')"
       ],
       "metadata": {},
       "output_type": "display_data",
       "text": [
        "<IPython.core.display.Javascript at 0x36a4790>"
       ]
      },
      {
       "html": [
        "\n",
        "            <div id=\"9ac2b935-98af-44b0-b776-fa8fbeca43e5\" class='status'>\n",
        "                <span class=\"label span2\">Progress</span>\n",
        "                <span class=\"span7 progress\">\n",
        "                      <div class=\"bar\" style= \"width:0%\">&nbsp;</div>\n",
        "                </span>\n",
        "            </div>\n",
        "            "
       ],
       "metadata": {},
       "output_type": "display_data",
       "text": [
        "<IPython.core.display.HTML at 0x36a4790>"
       ]
      },
      {
       "javascript": [
        "$('#9ac2b935-98af-44b0-b776-fa8fbeca43e5 div').first().width('25%')"
       ],
       "metadata": {},
       "output_type": "display_data",
       "text": [
        "<IPython.core.display.Javascript at 0x36a4790>"
       ]
      },
      {
       "javascript": [
        "$('#9ac2b935-98af-44b0-b776-fa8fbeca43e5 div').first().width('50%')"
       ],
       "metadata": {},
       "output_type": "display_data",
       "text": [
        "<IPython.core.display.Javascript at 0x36a4790>"
       ]
      },
      {
       "javascript": [
        "$('#9ac2b935-98af-44b0-b776-fa8fbeca43e5 div').first().width('62%')"
       ],
       "metadata": {},
       "output_type": "display_data",
       "text": [
        "<IPython.core.display.Javascript at 0x36a4790>"
       ]
      },
      {
       "javascript": [
        "$('#9ac2b935-98af-44b0-b776-fa8fbeca43e5 div').first().width('73%')"
       ],
       "metadata": {},
       "output_type": "display_data",
       "text": [
        "<IPython.core.display.Javascript at 0x36a4790>"
       ]
      },
      {
       "javascript": [
        "$('#9ac2b935-98af-44b0-b776-fa8fbeca43e5 div').first().width('100%')"
       ],
       "metadata": {},
       "output_type": "display_data",
       "text": [
        "<IPython.core.display.Javascript at 0x36a4790>"
       ]
      },
      {
       "javascript": [
        "$('#9ac2b935-98af-44b0-b776-fa8fbeca43e5 span').first().text('Execution completed')"
       ],
       "metadata": {},
       "output_type": "display_data",
       "text": [
        "<IPython.core.display.Javascript at 0x36a4790>"
       ]
      }
     ],
     "prompt_number": 1
    },
    {
     "cell_type": "code",
     "collapsed": false,
     "input": [
      "frame.get_schema()\n"
     ],
     "language": "python",
     "metadata": {},
     "outputs": [
      {
       "metadata": {},
       "output_type": "pyout",
       "prompt_number": 2,
       "text": [
        "{'movie': 'long',\n",
        " 'rating': 'long',\n",
        " 'splits': 'chararray',\n",
        " 'user': 'long',\n",
        " 'vertex_type': 'chararray'}"
       ]
      }
     ],
     "prompt_number": 2
    },
    {
     "cell_type": "code",
     "collapsed": false,
     "input": [
      "frame.source_file"
     ],
     "language": "python",
     "metadata": {},
     "outputs": [
      {
       "metadata": {},
       "output_type": "pyout",
       "prompt_number": 3,
       "text": [
        "'/user/hadoop/recommendation_raw_input.csv'"
       ]
      }
     ],
     "prompt_number": 3
    },
    {
     "cell_type": "code",
     "collapsed": false,
     "input": [
      "frame.name"
     ],
     "language": "python",
     "metadata": {},
     "outputs": [
      {
       "metadata": {},
       "output_type": "pyout",
       "prompt_number": 4,
       "text": [
        "'myframe'"
       ]
      }
     ],
     "prompt_number": 4
    },
    {
     "cell_type": "code",
     "collapsed": false,
     "input": [
      "from IPython.display import HTML\n",
      "HTML(frame.inspect_as_html())"
     ],
     "language": "python",
     "metadata": {},
     "outputs": [
      {
       "html": [
        "<table border=\"1\"><tr><th>movie</th><th>vertex_type</th><th>splits</th><th>user</th><th>rating</th></tr><tr><td>NA</td><td>NA</td><td>NA</td><td>100</td><td>NA</td></tr><tr><td>-314</td><td>L</td><td>tr</td><td>1</td><td>3</td></tr><tr><td>-384</td><td>L</td><td>tr</td><td>4</td><td>4</td></tr><tr><td>-371</td><td>L</td><td>tr</td><td>30</td><td>5</td></tr><tr><td>-193</td><td>L</td><td>tr</td><td>435</td><td>3</td></tr><tr><td>-304</td><td>L</td><td>tr</td><td>6661</td><td>3</td></tr><tr><td>-314</td><td>L</td><td>tr</td><td>6661</td><td>4</td></tr><tr><td>-316</td><td>L</td><td>tr</td><td>6661</td><td>2</td></tr><tr><td>-329</td><td>L</td><td>tr</td><td>6661</td><td>5</td></tr><tr><td>-332</td><td>L</td><td>tr</td><td>6661</td><td>5</td></tr></table>"
       ],
       "metadata": {},
       "output_type": "pyout",
       "prompt_number": 5,
       "text": [
        "<IPython.core.display.HTML at 0x3387250>"
       ]
      }
     ],
     "prompt_number": 5
    },
    {
     "cell_type": "heading",
     "level": 2,
     "metadata": {},
     "source": [
      "Data Cleaning"
     ]
    },
    {
     "cell_type": "code",
     "collapsed": false,
     "input": [
      "frame.dropna()"
     ],
     "language": "python",
     "metadata": {},
     "outputs": [
      {
       "html": [
        "\n",
        "            <div id=\"1a5096c8-b0e5-4b57-86f3-4ac1c41f72ce\" class='status'>\n",
        "                <span class=\"label span2\">Initialization</span>\n",
        "                <span class=\"span7 progress\">\n",
        "                      <div class=\"bar\" style= \"width:0%\">&nbsp;</div>\n",
        "                </span>\n",
        "            </div>\n",
        "            "
       ],
       "metadata": {},
       "output_type": "display_data",
       "text": [
        "<IPython.core.display.HTML at 0x36a4210>"
       ]
      },
      {
       "javascript": [
        "$('#1a5096c8-b0e5-4b57-86f3-4ac1c41f72ce span').last().addClass(\"progress-striped active\")"
       ],
       "metadata": {},
       "output_type": "display_data",
       "text": [
        "<IPython.core.display.Javascript at 0x3392f90>"
       ]
      },
      {
       "javascript": [
        "$('#1a5096c8-b0e5-4b57-86f3-4ac1c41f72ce div').first().width('100%')"
       ],
       "metadata": {},
       "output_type": "display_data",
       "text": [
        "<IPython.core.display.Javascript at 0x3392f90>"
       ]
      },
      {
       "javascript": [
        "$('#1a5096c8-b0e5-4b57-86f3-4ac1c41f72ce span').last().removeClass(\"progress-striped active\")"
       ],
       "metadata": {},
       "output_type": "display_data",
       "text": [
        "<IPython.core.display.Javascript at 0x36a4550>"
       ]
      },
      {
       "javascript": [
        "$('#1a5096c8-b0e5-4b57-86f3-4ac1c41f72ce span').first().text('Initialization completed')"
       ],
       "metadata": {},
       "output_type": "display_data",
       "text": [
        "<IPython.core.display.Javascript at 0x36a4690>"
       ]
      },
      {
       "html": [
        "\n",
        "            <div id=\"024da2af-0bbb-4ff5-96d1-4a92ffb8263c\" class='status'>\n",
        "                <span class=\"label span2\">Progress</span>\n",
        "                <span class=\"span7 progress\">\n",
        "                      <div class=\"bar\" style= \"width:0%\">&nbsp;</div>\n",
        "                </span>\n",
        "            </div>\n",
        "            "
       ],
       "metadata": {},
       "output_type": "display_data",
       "text": [
        "<IPython.core.display.HTML at 0x36a4690>"
       ]
      },
      {
       "javascript": [
        "$('#024da2af-0bbb-4ff5-96d1-4a92ffb8263c div').first().width('50%')"
       ],
       "metadata": {},
       "output_type": "display_data",
       "text": [
        "<IPython.core.display.Javascript at 0x36a4690>"
       ]
      },
      {
       "javascript": [
        "$('#024da2af-0bbb-4ff5-96d1-4a92ffb8263c div').first().width('100%')"
       ],
       "metadata": {},
       "output_type": "display_data",
       "text": [
        "<IPython.core.display.Javascript at 0x36a4690>"
       ]
      },
      {
       "javascript": [
        "$('#024da2af-0bbb-4ff5-96d1-4a92ffb8263c span').first().text('Execution completed')"
       ],
       "metadata": {},
       "output_type": "display_data",
       "text": [
        "<IPython.core.display.Javascript at 0x36a4690>"
       ]
      }
     ],
     "prompt_number": 6
    },
    {
     "cell_type": "code",
     "collapsed": false,
     "input": [
      "HTML(frame.inspect_as_html())"
     ],
     "language": "python",
     "metadata": {},
     "outputs": [
      {
       "html": [
        "<table border=\"1\"><tr><th>movie</th><th>vertex_type</th><th>splits</th><th>user</th><th>rating</th></tr><tr><td>-314</td><td>L</td><td>tr</td><td>1</td><td>3</td></tr><tr><td>-384</td><td>L</td><td>tr</td><td>4</td><td>4</td></tr><tr><td>-371</td><td>L</td><td>tr</td><td>30</td><td>5</td></tr><tr><td>-193</td><td>L</td><td>tr</td><td>435</td><td>3</td></tr><tr><td>-304</td><td>L</td><td>tr</td><td>6661</td><td>3</td></tr><tr><td>-314</td><td>L</td><td>tr</td><td>6661</td><td>4</td></tr><tr><td>-316</td><td>L</td><td>tr</td><td>6661</td><td>2</td></tr><tr><td>-329</td><td>L</td><td>tr</td><td>6661</td><td>5</td></tr><tr><td>-332</td><td>L</td><td>tr</td><td>6661</td><td>5</td></tr><tr><td>-336</td><td>L</td><td>tr</td><td>6661</td><td>2</td></tr></table>"
       ],
       "metadata": {},
       "output_type": "pyout",
       "prompt_number": 7,
       "text": [
        "<IPython.core.display.HTML at 0x7f82bd71b650>"
       ]
      }
     ],
     "prompt_number": 7
    },
    {
     "cell_type": "heading",
     "level": 2,
     "metadata": {},
     "source": [
      "Data Transformation"
     ]
    },
    {
     "cell_type": "code",
     "collapsed": false,
     "input": [
      "from intel_analytics.table.builtin_functions import EvalFunctions\n",
      "frame.transform('rating', 'log_rating', EvalFunctions.Math.LOG)"
     ],
     "language": "python",
     "metadata": {},
     "outputs": [
      {
       "html": [
        "\n",
        "            <div id=\"af5652eb-1338-4683-94f8-69feb9268e09\" class='status'>\n",
        "                <span class=\"label span2\">Initialization</span>\n",
        "                <span class=\"span7 progress\">\n",
        "                      <div class=\"bar\" style= \"width:0%\">&nbsp;</div>\n",
        "                </span>\n",
        "            </div>\n",
        "            "
       ],
       "metadata": {},
       "output_type": "display_data",
       "text": [
        "<IPython.core.display.HTML at 0x346b210>"
       ]
      },
      {
       "javascript": [
        "$('#af5652eb-1338-4683-94f8-69feb9268e09 span').last().addClass(\"progress-striped active\")"
       ],
       "metadata": {},
       "output_type": "display_data",
       "text": [
        "<IPython.core.display.Javascript at 0x347fd90>"
       ]
      },
      {
       "javascript": [
        "$('#af5652eb-1338-4683-94f8-69feb9268e09 div').first().width('100%')"
       ],
       "metadata": {},
       "output_type": "display_data",
       "text": [
        "<IPython.core.display.Javascript at 0x347fd90>"
       ]
      },
      {
       "javascript": [
        "$('#af5652eb-1338-4683-94f8-69feb9268e09 span').last().removeClass(\"progress-striped active\")"
       ],
       "metadata": {},
       "output_type": "display_data",
       "text": [
        "<IPython.core.display.Javascript at 0x3955090>"
       ]
      },
      {
       "javascript": [
        "$('#af5652eb-1338-4683-94f8-69feb9268e09 span').first().text('Initialization completed')"
       ],
       "metadata": {},
       "output_type": "display_data",
       "text": [
        "<IPython.core.display.Javascript at 0x39550d0>"
       ]
      },
      {
       "html": [
        "\n",
        "            <div id=\"84df5cd4-bfc6-454c-ab15-885bd3b321a9\" class='status'>\n",
        "                <span class=\"label span2\">Progress</span>\n",
        "                <span class=\"span7 progress\">\n",
        "                      <div class=\"bar\" style= \"width:0%\">&nbsp;</div>\n",
        "                </span>\n",
        "            </div>\n",
        "            "
       ],
       "metadata": {},
       "output_type": "display_data",
       "text": [
        "<IPython.core.display.HTML at 0x39550d0>"
       ]
      },
      {
       "javascript": [
        "$('#84df5cd4-bfc6-454c-ab15-885bd3b321a9 div').first().width('50%')"
       ],
       "metadata": {},
       "output_type": "display_data",
       "text": [
        "<IPython.core.display.Javascript at 0x39550d0>"
       ]
      },
      {
       "javascript": [
        "$('#84df5cd4-bfc6-454c-ab15-885bd3b321a9 div').first().width('100%')"
       ],
       "metadata": {},
       "output_type": "display_data",
       "text": [
        "<IPython.core.display.Javascript at 0x39550d0>"
       ]
      },
      {
       "javascript": [
        "$('#84df5cd4-bfc6-454c-ab15-885bd3b321a9 span').first().text('Execution completed')"
       ],
       "metadata": {},
       "output_type": "display_data",
       "text": [
        "<IPython.core.display.Javascript at 0x39550d0>"
       ]
      }
     ],
     "prompt_number": 8
    },
    {
     "cell_type": "code",
     "collapsed": false,
     "input": [
      "HTML(frame.inspect_as_html())"
     ],
     "language": "python",
     "metadata": {},
     "outputs": [
      {
       "html": [
        "<table border=\"1\"><tr><th>rating</th><th>vertex_type</th><th>splits</th><th>movie</th><th>user</th><th>log_rating</th></tr><tr><td>3</td><td>L</td><td>tr</td><td>-314</td><td>1</td><td>1.0986122886681098</td></tr><tr><td>4</td><td>L</td><td>tr</td><td>-384</td><td>4</td><td>1.3862943611198906</td></tr><tr><td>5</td><td>L</td><td>tr</td><td>-371</td><td>30</td><td>1.6094379124341003</td></tr><tr><td>3</td><td>L</td><td>tr</td><td>-193</td><td>435</td><td>1.0986122886681098</td></tr><tr><td>3</td><td>L</td><td>tr</td><td>-304</td><td>6661</td><td>1.0986122886681098</td></tr><tr><td>4</td><td>L</td><td>tr</td><td>-314</td><td>6661</td><td>1.3862943611198906</td></tr><tr><td>2</td><td>L</td><td>tr</td><td>-316</td><td>6661</td><td>0.6931471805599453</td></tr><tr><td>5</td><td>L</td><td>tr</td><td>-329</td><td>6661</td><td>1.6094379124341003</td></tr><tr><td>5</td><td>L</td><td>tr</td><td>-332</td><td>6661</td><td>1.6094379124341003</td></tr><tr><td>2</td><td>L</td><td>tr</td><td>-336</td><td>6661</td><td>0.6931471805599453</td></tr></table>"
       ],
       "metadata": {},
       "output_type": "pyout",
       "prompt_number": 9,
       "text": [
        "<IPython.core.display.HTML at 0x3955e10>"
       ]
      }
     ],
     "prompt_number": 9
    },
    {
     "cell_type": "code",
     "collapsed": false,
     "input": [
      "frame.drop_columns('log_rating')"
     ],
     "language": "python",
     "metadata": {},
     "outputs": [
      {
       "html": [
        "\n",
        "            <div id=\"5c6e3c7d-9f21-4621-87dc-e215f60d8093\" class='status'>\n",
        "                <span class=\"label span2\">Initialization</span>\n",
        "                <span class=\"span7 progress\">\n",
        "                      <div class=\"bar\" style= \"width:0%\">&nbsp;</div>\n",
        "                </span>\n",
        "            </div>\n",
        "            "
       ],
       "metadata": {},
       "output_type": "display_data",
       "text": [
        "<IPython.core.display.HTML at 0x3955390>"
       ]
      },
      {
       "javascript": [
        "$('#5c6e3c7d-9f21-4621-87dc-e215f60d8093 span').last().addClass(\"progress-striped active\")"
       ],
       "metadata": {},
       "output_type": "display_data",
       "text": [
        "<IPython.core.display.Javascript at 0x3955390>"
       ]
      },
      {
       "javascript": [
        "$('#5c6e3c7d-9f21-4621-87dc-e215f60d8093 div').first().width('100%')"
       ],
       "metadata": {},
       "output_type": "display_data",
       "text": [
        "<IPython.core.display.Javascript at 0x3955390>"
       ]
      },
      {
       "javascript": [
        "$('#5c6e3c7d-9f21-4621-87dc-e215f60d8093 span').last().removeClass(\"progress-striped active\")"
       ],
       "metadata": {},
       "output_type": "display_data",
       "text": [
        "<IPython.core.display.Javascript at 0x39555d0>"
       ]
      },
      {
       "javascript": [
        "$('#5c6e3c7d-9f21-4621-87dc-e215f60d8093 span').first().text('Initialization completed')"
       ],
       "metadata": {},
       "output_type": "display_data",
       "text": [
        "<IPython.core.display.Javascript at 0x39556d0>"
       ]
      },
      {
       "html": [
        "\n",
        "            <div id=\"aa313a58-979d-4f26-992c-e560d1f23c6c\" class='status'>\n",
        "                <span class=\"label span2\">Step 1</span>\n",
        "                <span class=\"span7 progress\">\n",
        "                      <div class=\"bar\" style= \"width:0%\">&nbsp;</div>\n",
        "                </span>\n",
        "            </div>\n",
        "            "
       ],
       "metadata": {},
       "output_type": "display_data",
       "text": [
        "<IPython.core.display.HTML at 0x39556d0>"
       ]
      },
      {
       "javascript": [
        "$('#aa313a58-979d-4f26-992c-e560d1f23c6c div').first().width('0%')"
       ],
       "metadata": {},
       "output_type": "display_data",
       "text": [
        "<IPython.core.display.Javascript at 0x39556d0>"
       ]
      },
      {
       "javascript": [
        "$('#aa313a58-979d-4f26-992c-e560d1f23c6c div').first().width('100%')"
       ],
       "metadata": {},
       "output_type": "display_data",
       "text": [
        "<IPython.core.display.Javascript at 0x3955610>"
       ]
      },
      {
       "javascript": [
        "$('#aa313a58-979d-4f26-992c-e560d1f23c6c span').first().text('Step 1 completed')"
       ],
       "metadata": {},
       "output_type": "display_data",
       "text": [
        "<IPython.core.display.Javascript at 0x3955610>"
       ]
      }
     ],
     "prompt_number": 10
    },
    {
     "cell_type": "code",
     "collapsed": false,
     "input": [
      "HTML(frame.inspect_as_html())"
     ],
     "language": "python",
     "metadata": {},
     "outputs": [
      {
       "html": [
        "<table border=\"1\"><tr><th>movie</th><th>vertex_type</th><th>splits</th><th>user</th><th>rating</th></tr><tr><td>-314</td><td>L</td><td>tr</td><td>1</td><td>3</td></tr><tr><td>-384</td><td>L</td><td>tr</td><td>4</td><td>4</td></tr><tr><td>-371</td><td>L</td><td>tr</td><td>30</td><td>5</td></tr><tr><td>-193</td><td>L</td><td>tr</td><td>435</td><td>3</td></tr><tr><td>-304</td><td>L</td><td>tr</td><td>6661</td><td>3</td></tr><tr><td>-314</td><td>L</td><td>tr</td><td>6661</td><td>4</td></tr><tr><td>-316</td><td>L</td><td>tr</td><td>6661</td><td>2</td></tr><tr><td>-329</td><td>L</td><td>tr</td><td>6661</td><td>5</td></tr><tr><td>-332</td><td>L</td><td>tr</td><td>6661</td><td>5</td></tr><tr><td>-336</td><td>L</td><td>tr</td><td>6661</td><td>2</td></tr></table>"
       ],
       "metadata": {},
       "output_type": "pyout",
       "prompt_number": 11,
       "text": [
        "<IPython.core.display.HTML at 0x369cf10>"
       ]
      }
     ],
     "prompt_number": 11
    },
    {
     "cell_type": "heading",
     "level": 2,
     "metadata": {},
     "source": [
      "Graph Construction and Load to Graph Database"
     ]
    },
    {
     "cell_type": "code",
     "collapsed": false,
     "input": [
      "from intel_analytics.graph.biggraph import get_graph_builder, GraphTypes\n",
      "gb = get_graph_builder(GraphTypes.Property, frame)\n",
      "gb.register_vertex('user',['vertex_type'])\n",
      "gb.register_vertex('movie')\n",
      "gb.register_edge(('user', 'movie', 'rates'), ['splits','rating'])"
     ],
     "language": "python",
     "metadata": {},
     "outputs": [],
     "prompt_number": 12
    },
    {
     "cell_type": "code",
     "collapsed": false,
     "input": [
      "graph = gb.build(\"mygraph\", overwrite=True)"
     ],
     "language": "python",
     "metadata": {},
     "outputs": [
      {
       "html": [
        "\n",
        "            <div id=\"cc7fc36c-7463-467e-8503-449d1e99802d\" class='status'>\n",
        "                <span class=\"label span2\">Initialization</span>\n",
        "                <span class=\"span7 progress\">\n",
        "                      <div class=\"bar\" style= \"width:0%\">&nbsp;</div>\n",
        "                </span>\n",
        "            </div>\n",
        "            "
       ],
       "metadata": {},
       "output_type": "display_data",
       "text": [
        "<IPython.core.display.HTML at 0x36a4610>"
       ]
      },
      {
       "javascript": [
        "$('#cc7fc36c-7463-467e-8503-449d1e99802d span').last().addClass(\"progress-striped active\")"
       ],
       "metadata": {},
       "output_type": "display_data",
       "text": [
        "<IPython.core.display.Javascript at 0x36a4610>"
       ]
      },
      {
       "javascript": [
        "$('#cc7fc36c-7463-467e-8503-449d1e99802d div').first().width('100%')"
       ],
       "metadata": {},
       "output_type": "display_data",
       "text": [
        "<IPython.core.display.Javascript at 0x36a4610>"
       ]
      },
      {
       "javascript": [
        "$('#cc7fc36c-7463-467e-8503-449d1e99802d span').last().removeClass(\"progress-striped active\")"
       ],
       "metadata": {},
       "output_type": "display_data",
       "text": [
        "<IPython.core.display.Javascript at 0x36a4b90>"
       ]
      },
      {
       "javascript": [
        "$('#cc7fc36c-7463-467e-8503-449d1e99802d span').first().text('Initialization completed')"
       ],
       "metadata": {},
       "output_type": "display_data",
       "text": [
        "<IPython.core.display.Javascript at 0x36a4b50>"
       ]
      },
      {
       "html": [
        "\n",
        "            <div id=\"1674e4b1-f764-4aff-97e6-82ef4ceada2c\" class='status'>\n",
        "                <span class=\"label span2\">Step 1</span>\n",
        "                <span class=\"span7 progress\">\n",
        "                      <div class=\"bar\" style= \"width:0%\">&nbsp;</div>\n",
        "                </span>\n",
        "            </div>\n",
        "            "
       ],
       "metadata": {},
       "output_type": "display_data",
       "text": [
        "<IPython.core.display.HTML at 0x36a4b50>"
       ]
      },
      {
       "javascript": [
        "$('#1674e4b1-f764-4aff-97e6-82ef4ceada2c div').first().width('0%')"
       ],
       "metadata": {},
       "output_type": "display_data",
       "text": [
        "<IPython.core.display.Javascript at 0x36a4b50>"
       ]
      },
      {
       "javascript": [
        "$('#1674e4b1-f764-4aff-97e6-82ef4ceada2c div').first().width('50%')"
       ],
       "metadata": {},
       "output_type": "display_data",
       "text": [
        "<IPython.core.display.Javascript at 0x36a4a90>"
       ]
      },
      {
       "javascript": [
        "$('#1674e4b1-f764-4aff-97e6-82ef4ceada2c div').first().width('54%')"
       ],
       "metadata": {},
       "output_type": "display_data",
       "text": [
        "<IPython.core.display.Javascript at 0x36a4a90>"
       ]
      },
      {
       "javascript": [
        "$('#1674e4b1-f764-4aff-97e6-82ef4ceada2c div').first().width('75%')"
       ],
       "metadata": {},
       "output_type": "display_data",
       "text": [
        "<IPython.core.display.Javascript at 0x36a4a90>"
       ]
      },
      {
       "javascript": [
        "$('#1674e4b1-f764-4aff-97e6-82ef4ceada2c div').first().width('79%')"
       ],
       "metadata": {},
       "output_type": "display_data",
       "text": [
        "<IPython.core.display.Javascript at 0x36a4a90>"
       ]
      },
      {
       "javascript": [
        "$('#1674e4b1-f764-4aff-97e6-82ef4ceada2c div').first().width('85%')"
       ],
       "metadata": {},
       "output_type": "display_data",
       "text": [
        "<IPython.core.display.Javascript at 0x36a4a90>"
       ]
      },
      {
       "javascript": [
        "$('#1674e4b1-f764-4aff-97e6-82ef4ceada2c div').first().width('88%')"
       ],
       "metadata": {},
       "output_type": "display_data",
       "text": [
        "<IPython.core.display.Javascript at 0x36a4a90>"
       ]
      },
      {
       "javascript": [
        "$('#1674e4b1-f764-4aff-97e6-82ef4ceada2c div').first().width('95%')"
       ],
       "metadata": {},
       "output_type": "display_data",
       "text": [
        "<IPython.core.display.Javascript at 0x36a4a90>"
       ]
      },
      {
       "javascript": [
        "$('#1674e4b1-f764-4aff-97e6-82ef4ceada2c div').first().width('96%')"
       ],
       "metadata": {},
       "output_type": "display_data",
       "text": [
        "<IPython.core.display.Javascript at 0x36a4a90>"
       ]
      },
      {
       "javascript": [
        "$('#1674e4b1-f764-4aff-97e6-82ef4ceada2c div').first().width('97%')"
       ],
       "metadata": {},
       "output_type": "display_data",
       "text": [
        "<IPython.core.display.Javascript at 0x36a4a90>"
       ]
      },
      {
       "javascript": [
        "$('#1674e4b1-f764-4aff-97e6-82ef4ceada2c div').first().width('98%')"
       ],
       "metadata": {},
       "output_type": "display_data",
       "text": [
        "<IPython.core.display.Javascript at 0x36a4a90>"
       ]
      },
      {
       "javascript": [
        "$('#1674e4b1-f764-4aff-97e6-82ef4ceada2c div').first().width('100%')"
       ],
       "metadata": {},
       "output_type": "display_data",
       "text": [
        "<IPython.core.display.Javascript at 0x36a4a90>"
       ]
      },
      {
       "javascript": [
        "$('#1674e4b1-f764-4aff-97e6-82ef4ceada2c span').first().text('Step 1 completed')"
       ],
       "metadata": {},
       "output_type": "display_data",
       "text": [
        "<IPython.core.display.Javascript at 0x36a4a90>"
       ]
      },
      {
       "html": [
        "\n",
        "            <div id=\"c724c696-33f4-4204-8320-a4ea47d8ca91\" class='status'>\n",
        "                <span class=\"label span2\">Step 2</span>\n",
        "                <span class=\"span7 progress\">\n",
        "                      <div class=\"bar\" style= \"width:0%\">&nbsp;</div>\n",
        "                </span>\n",
        "            </div>\n",
        "            "
       ],
       "metadata": {},
       "output_type": "display_data",
       "text": [
        "<IPython.core.display.HTML at 0x36a4a90>"
       ]
      },
      {
       "javascript": [
        "$('#c724c696-33f4-4204-8320-a4ea47d8ca91 div').first().width('0%')"
       ],
       "metadata": {},
       "output_type": "display_data",
       "text": [
        "<IPython.core.display.Javascript at 0x36a4a90>"
       ]
      },
      {
       "javascript": [
        "$('#c724c696-33f4-4204-8320-a4ea47d8ca91 div').first().width('12%')"
       ],
       "metadata": {},
       "output_type": "display_data",
       "text": [
        "<IPython.core.display.Javascript at 0x36a4ad0>"
       ]
      },
      {
       "javascript": [
        "$('#c724c696-33f4-4204-8320-a4ea47d8ca91 div').first().width('50%')"
       ],
       "metadata": {},
       "output_type": "display_data",
       "text": [
        "<IPython.core.display.Javascript at 0x36a4ad0>"
       ]
      },
      {
       "javascript": [
        "$('#c724c696-33f4-4204-8320-a4ea47d8ca91 div').first().width('66%')"
       ],
       "metadata": {},
       "output_type": "display_data",
       "text": [
        "<IPython.core.display.Javascript at 0x36a4ad0>"
       ]
      },
      {
       "javascript": [
        "$('#c724c696-33f4-4204-8320-a4ea47d8ca91 div').first().width('75%')"
       ],
       "metadata": {},
       "output_type": "display_data",
       "text": [
        "<IPython.core.display.Javascript at 0x36a4ad0>"
       ]
      },
      {
       "javascript": [
        "$('#c724c696-33f4-4204-8320-a4ea47d8ca91 div').first().width('83%')"
       ],
       "metadata": {},
       "output_type": "display_data",
       "text": [
        "<IPython.core.display.Javascript at 0x36a4ad0>"
       ]
      },
      {
       "javascript": [
        "$('#c724c696-33f4-4204-8320-a4ea47d8ca91 div').first().width('91%')"
       ],
       "metadata": {},
       "output_type": "display_data",
       "text": [
        "<IPython.core.display.Javascript at 0x36a4ad0>"
       ]
      },
      {
       "javascript": [
        "$('#c724c696-33f4-4204-8320-a4ea47d8ca91 div').first().width('99%')"
       ],
       "metadata": {},
       "output_type": "display_data",
       "text": [
        "<IPython.core.display.Javascript at 0x36a4ad0>"
       ]
      },
      {
       "javascript": [
        "$('#c724c696-33f4-4204-8320-a4ea47d8ca91 div').first().width('100%')"
       ],
       "metadata": {},
       "output_type": "display_data",
       "text": [
        "<IPython.core.display.Javascript at 0x36a4ad0>"
       ]
      },
      {
       "javascript": [
        "$('#c724c696-33f4-4204-8320-a4ea47d8ca91 span').first().text('Step 2 completed')"
       ],
       "metadata": {},
       "output_type": "display_data",
       "text": [
        "<IPython.core.display.Javascript at 0x36a4ad0>"
       ]
      }
     ],
     "prompt_number": 13
    },
    {
     "cell_type": "heading",
     "level": 2,
     "metadata": {},
     "source": [
      "Read From Graph Database and Run Machine Learning Algorithms"
     ]
    },
    {
     "cell_type": "code",
     "collapsed": false,
     "input": [
      "graph.ml.cgd?"
     ],
     "language": "python",
     "metadata": {},
     "outputs": [],
     "prompt_number": 14
    },
    {
     "cell_type": "code",
     "collapsed": false,
     "input": [
      "report1 = graph.ml.als(input_edge_property_list=\"rating\",\n",
      "       input_edge_label=\"rates\",\n",
      "       output_vertex_property_list=['als_p0','als_p1','als_p2','als_bias'],\n",
      "       vertex_type=\"vertex_type\",\n",
      "       edge_type =\"splits\",\n",
      "       max_supersteps=\"20\",\n",
      "       feature_dimension=\"3\",\n",
      "       convergence_threshold=\"0\",\n",
      "       als_lambda=\"0.065\",\n",
      "       learning_output_interval=\"1\",\n",
      "       bias_on=\"true\"\n",
      "      )"
     ],
     "language": "python",
     "metadata": {},
     "outputs": [
      {
       "html": [
        "\n",
        "            <div id=\"009222f0-ea49-4ad9-87f8-ed64f451791e\" class='status'>\n",
        "                <span class=\"label span2\">Initialization</span>\n",
        "                <span class=\"span7 progress\">\n",
        "                      <div class=\"bar\" style= \"width:0%\">&nbsp;</div>\n",
        "                </span>\n",
        "            </div>\n",
        "            "
       ],
       "metadata": {},
       "output_type": "display_data",
       "text": [
        "<IPython.core.display.HTML at 0x4458750>"
       ]
      },
      {
       "javascript": [
        "$('#009222f0-ea49-4ad9-87f8-ed64f451791e span').last().addClass(\"progress-striped active\")"
       ],
       "metadata": {},
       "output_type": "display_data",
       "text": [
        "<IPython.core.display.Javascript at 0x36a4f90>"
       ]
      },
      {
       "javascript": [
        "$('#009222f0-ea49-4ad9-87f8-ed64f451791e div').first().width('100%')"
       ],
       "metadata": {},
       "output_type": "display_data",
       "text": [
        "<IPython.core.display.Javascript at 0x36a4f90>"
       ]
      },
      {
       "javascript": [
        "$('#009222f0-ea49-4ad9-87f8-ed64f451791e span').last().removeClass(\"progress-striped active\")"
       ],
       "metadata": {},
       "output_type": "display_data",
       "text": [
        "<IPython.core.display.Javascript at 0x4458910>"
       ]
      },
      {
       "javascript": [
        "$('#009222f0-ea49-4ad9-87f8-ed64f451791e span').first().text('Initialization completed')"
       ],
       "metadata": {},
       "output_type": "display_data",
       "text": [
        "<IPython.core.display.Javascript at 0x4458950>"
       ]
      },
      {
       "html": [
        "\n",
        "            <div id=\"8445a98a-809c-4f35-9553-63f9936d4ed3\" class='status'>\n",
        "                <span class=\"label span2\">Step 1</span>\n",
        "                <span class=\"span7 progress\">\n",
        "                      <div class=\"bar\" style= \"width:0%\">&nbsp;</div>\n",
        "                </span>\n",
        "            </div>\n",
        "            "
       ],
       "metadata": {},
       "output_type": "display_data",
       "text": [
        "<IPython.core.display.HTML at 0x4458990>"
       ]
      },
      {
       "javascript": [
        "$('#8445a98a-809c-4f35-9553-63f9936d4ed3 div').first().width('0%')"
       ],
       "metadata": {},
       "output_type": "display_data",
       "text": [
        "<IPython.core.display.Javascript at 0x44589d0>"
       ]
      },
      {
       "javascript": [
        "$('#8445a98a-809c-4f35-9553-63f9936d4ed3 div').first().width('100%')"
       ],
       "metadata": {},
       "output_type": "display_data",
       "text": [
        "<IPython.core.display.Javascript at 0x44589d0>"
       ]
      },
      {
       "javascript": [
        "$('#8445a98a-809c-4f35-9553-63f9936d4ed3 span').first().text('Step 1 completed')"
       ],
       "metadata": {},
       "output_type": "display_data",
       "text": [
        "<IPython.core.display.Javascript at 0x44589d0>"
       ]
      },
      {
       "html": [
        "\n",
        "            <div id=\"85926003-106b-4aeb-a88a-1b34c7cf591d\" class='status'>\n",
        "                <span class=\"label span2\">Step 2</span>\n",
        "                <span class=\"span7 progress\">\n",
        "                      <div class=\"bar\" style= \"width:0%\">&nbsp;</div>\n",
        "                </span>\n",
        "            </div>\n",
        "            "
       ],
       "metadata": {},
       "output_type": "display_data",
       "text": [
        "<IPython.core.display.HTML at 0x4458990>"
       ]
      },
      {
       "javascript": [
        "$('#85926003-106b-4aeb-a88a-1b34c7cf591d span').last().addClass(\"progress-striped active\")"
       ],
       "metadata": {},
       "output_type": "display_data",
       "text": [
        "<IPython.core.display.Javascript at 0x4458990>"
       ]
      },
      {
       "javascript": [
        "$('#85926003-106b-4aeb-a88a-1b34c7cf591d div').first().width('100%')"
       ],
       "metadata": {},
       "output_type": "display_data",
       "text": [
        "<IPython.core.display.Javascript at 0x4458990>"
       ]
      },
      {
       "javascript": [
        "$('#85926003-106b-4aeb-a88a-1b34c7cf591d span').last().addClass(\"progress-striped active\")"
       ],
       "metadata": {},
       "output_type": "display_data",
       "text": [
        "<IPython.core.display.Javascript at 0x4458990>"
       ]
      },
      {
       "javascript": [
        "$('#85926003-106b-4aeb-a88a-1b34c7cf591d span').last().removeClass(\"progress-striped active\")"
       ],
       "metadata": {},
       "output_type": "display_data",
       "text": [
        "<IPython.core.display.Javascript at 0x4458990>"
       ]
      },
      {
       "javascript": [
        "$('#85926003-106b-4aeb-a88a-1b34c7cf591d span').first().text('Step 2 completed')"
       ],
       "metadata": {},
       "output_type": "display_data",
       "text": [
        "<IPython.core.display.Javascript at 0x4458990>"
       ]
      }
     ],
     "prompt_number": 15
    },
    {
     "cell_type": "code",
     "collapsed": false,
     "input": [
      "report1.cost_train"
     ],
     "language": "python",
     "metadata": {},
     "outputs": [
      {
       "metadata": {},
       "output_type": "pyout",
       "prompt_number": 16,
       "text": [
        "['845.741440',\n",
        " '659.955229',\n",
        " '593.438472',\n",
        " '549.792945',\n",
        " '518.619200',\n",
        " '494.914233',\n",
        " '476.242177',\n",
        " '460.065483',\n",
        " '445.914867',\n",
        " '433.936479']"
       ]
      }
     ],
     "prompt_number": 16
    },
    {
     "cell_type": "code",
     "collapsed": false,
     "input": [
      "report1.rmse_validate"
     ],
     "language": "python",
     "metadata": {},
     "outputs": [
      {
       "metadata": {},
       "output_type": "pyout",
       "prompt_number": 17,
       "text": [
        "['1.310413',\n",
        " '1.217630',\n",
        " '1.188139',\n",
        " '1.166077',\n",
        " '1.148946',\n",
        " '1.136973',\n",
        " '1.128552',\n",
        " '1.122102',\n",
        " '1.116661',\n",
        " '1.112259']"
       ]
      }
     ],
     "prompt_number": 17
    },
    {
     "cell_type": "code",
     "collapsed": false,
     "input": [
      "report1.rmse_test"
     ],
     "language": "python",
     "metadata": {},
     "outputs": [
      {
       "metadata": {},
       "output_type": "pyout",
       "prompt_number": 18,
       "text": [
        "['3.599642',\n",
        " '3.533725',\n",
        " '3.528286',\n",
        " '3.526719',\n",
        " '3.509489',\n",
        " '3.482619',\n",
        " '3.425186',\n",
        " '3.348617',\n",
        " '3.303338',\n",
        " '3.278021']"
       ]
      }
     ],
     "prompt_number": 18
    },
    {
     "cell_type": "code",
     "collapsed": false,
     "input": [
      "report1.exec_time"
     ],
     "language": "python",
     "metadata": {},
     "outputs": [
      {
       "metadata": {},
       "output_type": "pyout",
       "prompt_number": 19,
       "text": [
        "'81.8560509682 seconds'"
       ]
      }
     ],
     "prompt_number": 19
    },
    {
     "cell_type": "code",
     "collapsed": false,
     "input": [
      "report2 = graph.ml.cgd(input_edge_property_list=\"rating\",\n",
      "       input_edge_label=\"rates\",\n",
      "       output_vertex_property_list=['cgd_p0','cgd_p1','cgd_p2','cgd_bias'],\n",
      "       vertex_type=\"vertex_type\",\n",
      "       edge_type =\"splits\",\n",
      "       max_supersteps=\"20\",\n",
      "       feature_dimension=\"3\",\n",
      "       convergence_threshold=\"0\",\n",
      "       cgd_lambda=\"0.065\",\n",
      "       learning_output_interval=\"1\",\n",
      "       bias_on=\"true\",\n",
      "       num_iters='3'\n",
      "      )"
     ],
     "language": "python",
     "metadata": {},
     "outputs": [
      {
       "html": [
        "\n",
        "            <div id=\"672ff2ed-faeb-4d93-9fef-6a3f64be6e19\" class='status'>\n",
        "                <span class=\"label span2\">Initialization</span>\n",
        "                <span class=\"span7 progress\">\n",
        "                      <div class=\"bar\" style= \"width:0%\">&nbsp;</div>\n",
        "                </span>\n",
        "            </div>\n",
        "            "
       ],
       "metadata": {},
       "output_type": "display_data",
       "text": [
        "<IPython.core.display.HTML at 0x4a40c10>"
       ]
      },
      {
       "javascript": [
        "$('#672ff2ed-faeb-4d93-9fef-6a3f64be6e19 span').last().addClass(\"progress-striped active\")"
       ],
       "metadata": {},
       "output_type": "display_data",
       "text": [
        "<IPython.core.display.Javascript at 0x4a40c10>"
       ]
      },
      {
       "javascript": [
        "$('#672ff2ed-faeb-4d93-9fef-6a3f64be6e19 div').first().width('100%')"
       ],
       "metadata": {},
       "output_type": "display_data",
       "text": [
        "<IPython.core.display.Javascript at 0x4a40c10>"
       ]
      },
      {
       "javascript": [
        "$('#672ff2ed-faeb-4d93-9fef-6a3f64be6e19 span').last().removeClass(\"progress-striped active\")"
       ],
       "metadata": {},
       "output_type": "display_data",
       "text": [
        "<IPython.core.display.Javascript at 0x4a44310>"
       ]
      },
      {
       "javascript": [
        "$('#672ff2ed-faeb-4d93-9fef-6a3f64be6e19 span').first().text('Initialization completed')"
       ],
       "metadata": {},
       "output_type": "display_data",
       "text": [
        "<IPython.core.display.Javascript at 0x4a44350>"
       ]
      },
      {
       "html": [
        "\n",
        "            <div id=\"082c2650-a903-4635-833f-477df80516cb\" class='status'>\n",
        "                <span class=\"label span2\">Step 1</span>\n",
        "                <span class=\"span7 progress\">\n",
        "                      <div class=\"bar\" style= \"width:0%\">&nbsp;</div>\n",
        "                </span>\n",
        "            </div>\n",
        "            "
       ],
       "metadata": {},
       "output_type": "display_data",
       "text": [
        "<IPython.core.display.HTML at 0x4a44390>"
       ]
      },
      {
       "javascript": [
        "$('#082c2650-a903-4635-833f-477df80516cb div').first().width('0%')"
       ],
       "metadata": {},
       "output_type": "display_data",
       "text": [
        "<IPython.core.display.Javascript at 0x4a443d0>"
       ]
      },
      {
       "javascript": [
        "$('#082c2650-a903-4635-833f-477df80516cb div').first().width('50%')"
       ],
       "metadata": {},
       "output_type": "display_data",
       "text": [
        "<IPython.core.display.Javascript at 0x4a443d0>"
       ]
      },
      {
       "javascript": [
        "$('#082c2650-a903-4635-833f-477df80516cb div').first().width('75%')"
       ],
       "metadata": {},
       "output_type": "display_data",
       "text": [
        "<IPython.core.display.Javascript at 0x4a443d0>"
       ]
      },
      {
       "javascript": [
        "$('#082c2650-a903-4635-833f-477df80516cb div').first().width('100%')"
       ],
       "metadata": {},
       "output_type": "display_data",
       "text": [
        "<IPython.core.display.Javascript at 0x4a443d0>"
       ]
      },
      {
       "javascript": [
        "$('#082c2650-a903-4635-833f-477df80516cb span').first().text('Step 1 completed')"
       ],
       "metadata": {},
       "output_type": "display_data",
       "text": [
        "<IPython.core.display.Javascript at 0x4a443d0>"
       ]
      },
      {
       "html": [
        "\n",
        "            <div id=\"f100e96e-ba10-43f9-b98c-33ab25195ee1\" class='status'>\n",
        "                <span class=\"label span2\">Step 2</span>\n",
        "                <span class=\"span7 progress\">\n",
        "                      <div class=\"bar\" style= \"width:0%\">&nbsp;</div>\n",
        "                </span>\n",
        "            </div>\n",
        "            "
       ],
       "metadata": {},
       "output_type": "display_data",
       "text": [
        "<IPython.core.display.HTML at 0x4a44390>"
       ]
      },
      {
       "javascript": [
        "$('#f100e96e-ba10-43f9-b98c-33ab25195ee1 span').last().addClass(\"progress-striped active\")"
       ],
       "metadata": {},
       "output_type": "display_data",
       "text": [
        "<IPython.core.display.Javascript at 0x4a44390>"
       ]
      },
      {
       "javascript": [
        "$('#f100e96e-ba10-43f9-b98c-33ab25195ee1 div').first().width('100%')"
       ],
       "metadata": {},
       "output_type": "display_data",
       "text": [
        "<IPython.core.display.Javascript at 0x4a44390>"
       ]
      },
      {
       "javascript": [
        "$('#f100e96e-ba10-43f9-b98c-33ab25195ee1 span').last().addClass(\"progress-striped active\")"
       ],
       "metadata": {},
       "output_type": "display_data",
       "text": [
        "<IPython.core.display.Javascript at 0x4a44390>"
       ]
      },
      {
       "javascript": [
        "$('#f100e96e-ba10-43f9-b98c-33ab25195ee1 span').last().removeClass(\"progress-striped active\")"
       ],
       "metadata": {},
       "output_type": "display_data",
       "text": [
        "<IPython.core.display.Javascript at 0x4a44390>"
       ]
      },
      {
       "javascript": [
        "$('#f100e96e-ba10-43f9-b98c-33ab25195ee1 span').first().text('Step 2 completed')"
       ],
       "metadata": {},
       "output_type": "display_data",
       "text": [
        "<IPython.core.display.Javascript at 0x4a44390>"
       ]
      }
     ],
     "prompt_number": 20
    },
    {
     "cell_type": "code",
     "collapsed": false,
     "input": [
      "report2.cost_train"
     ],
     "language": "python",
     "metadata": {},
     "outputs": [
      {
       "metadata": {},
       "output_type": "pyout",
       "prompt_number": 21,
       "text": [
        "['872.073283',\n",
        " '774.029101',\n",
        " '698.042320',\n",
        " '644.699775',\n",
        " '602.835208',\n",
        " '567.706689',\n",
        " '537.642938',\n",
        " '513.082526',\n",
        " '492.911172',\n",
        " '475.450336']"
       ]
      }
     ],
     "prompt_number": 21
    },
    {
     "cell_type": "code",
     "collapsed": false,
     "input": [
      "report2.rmse_validate"
     ],
     "language": "python",
     "metadata": {},
     "outputs": [
      {
       "metadata": {},
       "output_type": "pyout",
       "prompt_number": 22,
       "text": [
        "['1.396623',\n",
        " '1.293268',\n",
        " '1.228608',\n",
        " '1.191835',\n",
        " '1.163322',\n",
        " '1.149035',\n",
        " '1.140085',\n",
        " '1.134299',\n",
        " '1.128917',\n",
        " '1.125456']"
       ]
      }
     ],
     "prompt_number": 22
    },
    {
     "cell_type": "code",
     "collapsed": false,
     "input": [
      "report2.rmse_test"
     ],
     "language": "python",
     "metadata": {},
     "outputs": [
      {
       "metadata": {},
       "output_type": "pyout",
       "prompt_number": 23,
       "text": [
        "['3.782118',\n",
        " '3.765085',\n",
        " '3.790757',\n",
        " '3.764543',\n",
        " '3.817672',\n",
        " '3.862482',\n",
        " '3.869791',\n",
        " '3.924969',\n",
        " '3.868841',\n",
        " '3.902755']"
       ]
      }
     ],
     "prompt_number": 23
    },
    {
     "cell_type": "heading",
     "level": 2,
     "metadata": {},
     "source": [
      "Recommendation Based on Trained Model"
     ]
    },
    {
     "cell_type": "code",
     "collapsed": false,
     "input": [
      "rec1=graph.ml.recommend('10001')"
     ],
     "language": "python",
     "metadata": {},
     "outputs": [
      {
       "html": [
        "\n",
        "            <div id=\"c2ece565-172a-4191-a809-7b7d7cd0ab9f\" class='status'>\n",
        "                <span class=\"label span2\">Progress</span>\n",
        "                <span class=\"span7 progress\">\n",
        "                      <div class=\"bar\" style= \"width:0%\">&nbsp;</div>\n",
        "                </span>\n",
        "            </div>\n",
        "            "
       ],
       "metadata": {},
       "output_type": "display_data",
       "text": [
        "<IPython.core.display.HTML at 0x4a40c90>"
       ]
      },
      {
       "javascript": [
        "$('#c2ece565-172a-4191-a809-7b7d7cd0ab9f span').last().addClass(\"progress-striped active\")"
       ],
       "metadata": {},
       "output_type": "display_data",
       "text": [
        "<IPython.core.display.Javascript at 0x4458450>"
       ]
      },
      {
       "javascript": [
        "$('#c2ece565-172a-4191-a809-7b7d7cd0ab9f div').first().width('100%')"
       ],
       "metadata": {},
       "output_type": "display_data",
       "text": [
        "<IPython.core.display.Javascript at 0x4458450>"
       ]
      },
      {
       "javascript": [
        "$('#c2ece565-172a-4191-a809-7b7d7cd0ab9f span').last().removeClass(\"progress-striped active\")"
       ],
       "metadata": {},
       "output_type": "display_data",
       "text": [
        "<IPython.core.display.Javascript at 0x36a4f10>"
       ]
      },
      {
       "javascript": [
        "$('#c2ece565-172a-4191-a809-7b7d7cd0ab9f span').first().text('Execution completed')"
       ],
       "metadata": {},
       "output_type": "display_data",
       "text": [
        "<IPython.core.display.Javascript at 0x36a4f10>"
       ]
      },
      {
       "output_type": "stream",
       "stream": "stdout",
       "text": [
        "================Top 10 recommendations to user: 10001================"
       ]
      },
      {
       "output_type": "stream",
       "stream": "stdout",
       "text": [
        "\n",
        "movie      -433       =>         score      5.141204518887074\n",
        "movie      -375       =>         score      4.978489842326893\n",
        "movie      -53        =>         score      4.863346834178527\n",
        "movie      -293       =>         score      4.842274791754492\n",
        "movie      -196       =>         score      4.820079267742922\n",
        "movie      -138       =>         score      4.794788697937233\n",
        "movie      -499       =>         score      4.781200780152549\n",
        "movie      -422       =>         score      4.655539789431798\n",
        "movie      -259       =>         score      4.64012779943423\n",
        "movie      -463       =>         score      4.571079480278532\n",
        "movie      -144       =>         score      4.534761526697094\n"
       ]
      }
     ],
     "prompt_number": 24
    },
    {
     "cell_type": "code",
     "collapsed": false,
     "input": [
      "rec2=graph.ml.recommend('-92',\n",
      "                        vertex_type=\"R\")"
     ],
     "language": "python",
     "metadata": {},
     "outputs": [
      {
       "html": [
        "\n",
        "            <div id=\"917a423e-89f0-48ef-a4e1-8aa95cd28064\" class='status'>\n",
        "                <span class=\"label span2\">Progress</span>\n",
        "                <span class=\"span7 progress\">\n",
        "                      <div class=\"bar\" style= \"width:0%\">&nbsp;</div>\n",
        "                </span>\n",
        "            </div>\n",
        "            "
       ],
       "metadata": {},
       "output_type": "display_data",
       "text": [
        "<IPython.core.display.HTML at 0x4458550>"
       ]
      },
      {
       "javascript": [
        "$('#917a423e-89f0-48ef-a4e1-8aa95cd28064 span').last().addClass(\"progress-striped active\")"
       ],
       "metadata": {},
       "output_type": "display_data",
       "text": [
        "<IPython.core.display.Javascript at 0x4a40e50>"
       ]
      },
      {
       "javascript": [
        "$('#917a423e-89f0-48ef-a4e1-8aa95cd28064 div').first().width('100%')"
       ],
       "metadata": {},
       "output_type": "display_data",
       "text": [
        "<IPython.core.display.Javascript at 0x4a40e50>"
       ]
      },
      {
       "javascript": [
        "$('#917a423e-89f0-48ef-a4e1-8aa95cd28064 span').last().removeClass(\"progress-striped active\")"
       ],
       "metadata": {},
       "output_type": "display_data",
       "text": [
        "<IPython.core.display.Javascript at 0x36a45d0>"
       ]
      },
      {
       "javascript": [
        "$('#917a423e-89f0-48ef-a4e1-8aa95cd28064 span').first().text('Execution completed')"
       ],
       "metadata": {},
       "output_type": "display_data",
       "text": [
        "<IPython.core.display.Javascript at 0x36a45d0>"
       ]
      },
      {
       "output_type": "stream",
       "stream": "stdout",
       "text": [
        "================Top 10 recommendations to movie: -92================"
       ]
      },
      {
       "output_type": "stream",
       "stream": "stdout",
       "text": [
        "\n",
        "user       922        =>         score      7.128752106191822\n",
        "user       9010       =>         score      7.090701486656472\n",
        "user       9406       =>         score      7.000053808866628\n",
        "user       8433       =>         score      6.976792992908616\n",
        "user       2594       =>         score      6.9272389782251365\n",
        "user       2816       =>         score      6.87989466305189\n",
        "user       8062       =>         score      6.865499001041009\n",
        "user       5679       =>         score      6.845854414243415\n",
        "user       5502       =>         score      6.722920114621791\n",
        "user       5824       =>         score      6.715949801721585\n",
        "user       8754       =>         score      6.633211300654936\n"
       ]
      }
     ],
     "prompt_number": 25
    },
    {
     "cell_type": "code",
     "collapsed": false,
     "input": [
      "rec3=graph.ml.recommend('60001')"
     ],
     "language": "python",
     "metadata": {},
     "outputs": [
      {
       "html": [
        "\n",
        "            <div id=\"ea1f0a29-0d24-4766-ac69-bfd6001e4115\" class='status'>\n",
        "                <span class=\"label span2\">Progress</span>\n",
        "                <span class=\"span7 progress\">\n",
        "                      <div class=\"bar\" style= \"width:0%\">&nbsp;</div>\n",
        "                </span>\n",
        "            </div>\n",
        "            "
       ],
       "metadata": {},
       "output_type": "display_data",
       "text": [
        "<IPython.core.display.HTML at 0x4458450>"
       ]
      },
      {
       "javascript": [
        "$('#ea1f0a29-0d24-4766-ac69-bfd6001e4115 span').last().addClass(\"progress-striped active\")"
       ],
       "metadata": {},
       "output_type": "display_data",
       "text": [
        "<IPython.core.display.Javascript at 0x4a40d50>"
       ]
      },
      {
       "javascript": [
        "$('#ea1f0a29-0d24-4766-ac69-bfd6001e4115 div').first().width('100%')"
       ],
       "metadata": {},
       "output_type": "display_data",
       "text": [
        "<IPython.core.display.Javascript at 0x4a40d50>"
       ]
      },
      {
       "javascript": [
        "$('#ea1f0a29-0d24-4766-ac69-bfd6001e4115 span').first().text('Execution failed')"
       ],
       "metadata": {},
       "output_type": "display_data",
       "text": [
        "<IPython.core.display.Javascript at 0x36a4f10>"
       ]
      },
      {
       "javascript": [
        "$('#ea1f0a29-0d24-4766-ac69-bfd6001e4115 span').last().removeClass(\"progress-striped active\")"
       ],
       "metadata": {},
       "output_type": "display_data",
       "text": [
        "<IPython.core.display.Javascript at 0x36a4f10>"
       ]
      },
      {
       "javascript": [
        "$('#ea1f0a29-0d24-4766-ac69-bfd6001e4115 span').last().addClass(\"progress-danger\")"
       ],
       "metadata": {},
       "output_type": "display_data",
       "text": [
        "<IPython.core.display.Javascript at 0x36a4f10>"
       ]
      },
      {
       "output_type": "stream",
       "stream": "stdout",
       "text": [
        "javax.script.ScriptException: com.tinkerpop.pipes.util.FastNoSuchElementException\n",
        "\n"
       ]
      }
     ],
     "prompt_number": 26
    },
    {
     "cell_type": "heading",
     "level": 2,
     "metadata": {},
     "source": [
      "Compare Different Runs"
     ]
    },
    {
     "cell_type": "code",
     "collapsed": false,
     "input": [
      "report1.exec_time"
     ],
     "language": "python",
     "metadata": {},
     "outputs": [
      {
       "metadata": {},
       "output_type": "pyout",
       "prompt_number": 27,
       "text": [
        "'81.8560509682 seconds'"
       ]
      }
     ],
     "prompt_number": 27
    },
    {
     "cell_type": "code",
     "collapsed": false,
     "input": [
      "report2.exec_time"
     ],
     "language": "python",
     "metadata": {},
     "outputs": [
      {
       "metadata": {},
       "output_type": "pyout",
       "prompt_number": 28,
       "text": [
        "'82.1879281998 seconds'"
       ]
      }
     ],
     "prompt_number": 28
    },
    {
     "cell_type": "code",
     "collapsed": false,
     "input": [
      "report1.start_time"
     ],
     "language": "python",
     "metadata": {},
     "outputs": [
      {
       "metadata": {},
       "output_type": "pyout",
       "prompt_number": 29,
       "text": [
        "'_2014-01-27-13-55-03'"
       ]
      }
     ],
     "prompt_number": 29
    },
    {
     "cell_type": "code",
     "collapsed": false,
     "input": [
      "report2.start_time"
     ],
     "language": "python",
     "metadata": {},
     "outputs": [
      {
       "metadata": {},
       "output_type": "pyout",
       "prompt_number": 30,
       "text": [
        "'_2014-01-27-13-56-28'"
       ]
      }
     ],
     "prompt_number": 30
    },
    {
     "cell_type": "code",
     "collapsed": false,
     "input": [
      "print graph.ml.report[0].exec_time"
     ],
     "language": "python",
     "metadata": {},
     "outputs": [
      {
       "output_type": "stream",
       "stream": "stdout",
       "text": [
        "81.8560509682 seconds\n"
       ]
      }
     ],
     "prompt_number": 31
    },
    {
     "cell_type": "code",
     "collapsed": false,
     "input": [
      "print graph.ml.report[1].exec_time"
     ],
     "language": "python",
     "metadata": {},
     "outputs": [
      {
       "output_type": "stream",
       "stream": "stdout",
       "text": [
        "82.1879281998 seconds\n"
       ]
      }
     ],
     "prompt_number": 32
    },
    {
     "cell_type": "code",
     "collapsed": false,
     "input": [
      "report1.cost_train"
     ],
     "language": "python",
     "metadata": {},
     "outputs": [
      {
       "metadata": {},
       "output_type": "pyout",
       "prompt_number": 33,
       "text": [
        "['845.741440',\n",
        " '659.955229',\n",
        " '593.438472',\n",
        " '549.792945',\n",
        " '518.619200',\n",
        " '494.914233',\n",
        " '476.242177',\n",
        " '460.065483',\n",
        " '445.914867',\n",
        " '433.936479']"
       ]
      }
     ],
     "prompt_number": 33
    },
    {
     "cell_type": "code",
     "collapsed": false,
     "input": [
      "report2.cost_train"
     ],
     "language": "python",
     "metadata": {},
     "outputs": [
      {
       "metadata": {},
       "output_type": "pyout",
       "prompt_number": 34,
       "text": [
        "['872.073283',\n",
        " '774.029101',\n",
        " '698.042320',\n",
        " '644.699775',\n",
        " '602.835208',\n",
        " '567.706689',\n",
        " '537.642938',\n",
        " '513.082526',\n",
        " '492.911172',\n",
        " '475.450336']"
       ]
      }
     ],
     "prompt_number": 34
    },
    {
     "cell_type": "heading",
     "level": 2,
     "metadata": {},
     "source": [
      "Reuse Previously imported frame"
     ]
    },
    {
     "cell_type": "code",
     "collapsed": false,
     "input": [
      "from intel_analytics.table.bigdataframe import get_frame"
     ],
     "language": "python",
     "metadata": {},
     "outputs": [],
     "prompt_number": 35
    },
    {
     "cell_type": "code",
     "collapsed": false,
     "input": [
      "frame = get_frame(\"myframe\")"
     ],
     "language": "python",
     "metadata": {},
     "outputs": [],
     "prompt_number": 36
    },
    {
     "cell_type": "code",
     "collapsed": false,
     "input": [
      "HTML(frame.inspect_as_html())"
     ],
     "language": "python",
     "metadata": {},
     "outputs": [
      {
       "html": [
        "<table border=\"1\"><tr><th>movie</th><th>vertex_type</th><th>splits</th><th>user</th><th>rating</th></tr><tr><td>-314</td><td>L</td><td>tr</td><td>1</td><td>3</td></tr><tr><td>-384</td><td>L</td><td>tr</td><td>4</td><td>4</td></tr><tr><td>-371</td><td>L</td><td>tr</td><td>30</td><td>5</td></tr><tr><td>-193</td><td>L</td><td>tr</td><td>435</td><td>3</td></tr><tr><td>-304</td><td>L</td><td>tr</td><td>6661</td><td>3</td></tr><tr><td>-314</td><td>L</td><td>tr</td><td>6661</td><td>4</td></tr><tr><td>-316</td><td>L</td><td>tr</td><td>6661</td><td>2</td></tr><tr><td>-329</td><td>L</td><td>tr</td><td>6661</td><td>5</td></tr><tr><td>-332</td><td>L</td><td>tr</td><td>6661</td><td>5</td></tr><tr><td>-336</td><td>L</td><td>tr</td><td>6661</td><td>2</td></tr></table>"
       ],
       "metadata": {},
       "output_type": "pyout",
       "prompt_number": 37,
       "text": [
        "<IPython.core.display.HTML at 0x4d46fd0>"
       ]
      }
     ],
     "prompt_number": 37
    },
    {
     "cell_type": "code",
     "collapsed": false,
     "input": [
      "frame.drop_columns(\"vertex_type\")"
     ],
     "language": "python",
     "metadata": {},
     "outputs": [
      {
       "html": [
        "\n",
        "            <div id=\"1b176c6c-ad4c-4a61-ba5a-91814ca071ce\" class='status'>\n",
        "                <span class=\"label span2\">Initialization</span>\n",
        "                <span class=\"span7 progress\">\n",
        "                      <div class=\"bar\" style= \"width:0%\">&nbsp;</div>\n",
        "                </span>\n",
        "            </div>\n",
        "            "
       ],
       "metadata": {},
       "output_type": "display_data",
       "text": [
        "<IPython.core.display.HTML at 0x4458190>"
       ]
      },
      {
       "javascript": [
        "$('#1b176c6c-ad4c-4a61-ba5a-91814ca071ce span').last().addClass(\"progress-striped active\")"
       ],
       "metadata": {},
       "output_type": "display_data",
       "text": [
        "<IPython.core.display.Javascript at 0x4a40e90>"
       ]
      },
      {
       "javascript": [
        "$('#1b176c6c-ad4c-4a61-ba5a-91814ca071ce div').first().width('100%')"
       ],
       "metadata": {},
       "output_type": "display_data",
       "text": [
        "<IPython.core.display.Javascript at 0x4a40e90>"
       ]
      },
      {
       "javascript": [
        "$('#1b176c6c-ad4c-4a61-ba5a-91814ca071ce span').last().removeClass(\"progress-striped active\")"
       ],
       "metadata": {},
       "output_type": "display_data",
       "text": [
        "<IPython.core.display.Javascript at 0x4d53550>"
       ]
      },
      {
       "javascript": [
        "$('#1b176c6c-ad4c-4a61-ba5a-91814ca071ce span').first().text('Initialization completed')"
       ],
       "metadata": {},
       "output_type": "display_data",
       "text": [
        "<IPython.core.display.Javascript at 0x4d53d50>"
       ]
      },
      {
       "html": [
        "\n",
        "            <div id=\"80979a8f-c8f5-4c4b-ae57-1189c9d84f72\" class='status'>\n",
        "                <span class=\"label span2\">Step 1</span>\n",
        "                <span class=\"span7 progress\">\n",
        "                      <div class=\"bar\" style= \"width:0%\">&nbsp;</div>\n",
        "                </span>\n",
        "            </div>\n",
        "            "
       ],
       "metadata": {},
       "output_type": "display_data",
       "text": [
        "<IPython.core.display.HTML at 0x4d53d50>"
       ]
      },
      {
       "javascript": [
        "$('#80979a8f-c8f5-4c4b-ae57-1189c9d84f72 div').first().width('0%')"
       ],
       "metadata": {},
       "output_type": "display_data",
       "text": [
        "<IPython.core.display.Javascript at 0x4d53d50>"
       ]
      },
      {
       "javascript": [
        "$('#80979a8f-c8f5-4c4b-ae57-1189c9d84f72 div').first().width('100%')"
       ],
       "metadata": {},
       "output_type": "display_data",
       "text": [
        "<IPython.core.display.Javascript at 0x4d53450>"
       ]
      },
      {
       "javascript": [
        "$('#80979a8f-c8f5-4c4b-ae57-1189c9d84f72 span').first().text('Step 1 completed')"
       ],
       "metadata": {},
       "output_type": "display_data",
       "text": [
        "<IPython.core.display.Javascript at 0x4d53450>"
       ]
      }
     ],
     "prompt_number": 38
    },
    {
     "cell_type": "code",
     "collapsed": false,
     "input": [
      "print time.time() - start_time"
     ],
     "language": "python",
     "metadata": {},
     "outputs": [
      {
       "output_type": "stream",
       "stream": "stdout",
       "text": [
        "687.38686204\n"
       ]
      }
     ],
     "prompt_number": 39
    }
   ],
   "metadata": {}
  }
 ]
}