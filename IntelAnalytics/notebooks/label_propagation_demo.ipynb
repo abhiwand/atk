{
 "metadata": {
  "name": ""
 },
 "nbformat": 3,
 "nbformat_minor": 0,
 "worksheets": [
  {
   "cells": [
    {
     "cell_type": "heading",
     "level": 2,
     "metadata": {},
     "source": [
      "Import Raw Data"
     ]
    },
    {
     "cell_type": "code",
     "collapsed": false,
     "input": [
      "import time\n",
      "start_time = time.time()\n",
      "from intel_analytics.table.bigdataframe import get_frame_builder\n",
      "fb = get_frame_builder()\n",
      "csvfile = '/user/hadoop/lp_edge.csv'\n",
      "frame = fb.build_from_csv('lpframe',\n",
      "                          csvfile,\n",
      "                          schema='source:long,input_value:chararray,target:long,weight:double',\n",
      "                          overwrite=True)"
     ],
     "language": "python",
     "metadata": {},
     "outputs": [
      {
       "html": [
        "\n",
        "            <div id=\"c52010b1-8606-4c65-8113-62315d28a379\" class='status'>\n",
        "                <span class=\"label span2\">Initialization</span>\n",
        "                <span class=\"span7 progress\">\n",
        "                      <div class=\"bar\" style= \"width:0%\">&nbsp;</div>\n",
        "                </span>\n",
        "            </div>\n",
        "            "
       ],
       "metadata": {},
       "output_type": "display_data",
       "text": [
        "<IPython.core.display.HTML at 0x27b0350>"
       ]
      },
      {
       "javascript": [
        "$('#c52010b1-8606-4c65-8113-62315d28a379 span').last().addClass(\"progress-striped active\")"
       ],
       "metadata": {},
       "output_type": "display_data",
       "text": [
        "<IPython.core.display.Javascript at 0x27b0350>"
       ]
      },
      {
       "javascript": [
        "$('#c52010b1-8606-4c65-8113-62315d28a379 div').first().width('100%')"
       ],
       "metadata": {},
       "output_type": "display_data",
       "text": [
        "<IPython.core.display.Javascript at 0x27b0350>"
       ]
      },
      {
       "javascript": [
        "$('#c52010b1-8606-4c65-8113-62315d28a379 span').last().removeClass(\"progress-striped active\")"
       ],
       "metadata": {},
       "output_type": "display_data",
       "text": [
        "<IPython.core.display.Javascript at 0x27b0850>"
       ]
      },
      {
       "javascript": [
        "$('#c52010b1-8606-4c65-8113-62315d28a379 span').first().text('Initialization completed')"
       ],
       "metadata": {},
       "output_type": "display_data",
       "text": [
        "<IPython.core.display.Javascript at 0x27b0890>"
       ]
      },
      {
       "html": [
        "\n",
        "            <div id=\"3f73aa5e-ac95-4d7d-92e5-dd266b20964c\" class='status'>\n",
        "                <span class=\"label span2\">Progress</span>\n",
        "                <span class=\"span7 progress\">\n",
        "                      <div class=\"bar\" style= \"width:0%\">&nbsp;</div>\n",
        "                </span>\n",
        "            </div>\n",
        "            "
       ],
       "metadata": {},
       "output_type": "display_data",
       "text": [
        "<IPython.core.display.HTML at 0x27b0890>"
       ]
      },
      {
       "javascript": [
        "$('#3f73aa5e-ac95-4d7d-92e5-dd266b20964c div').first().width('25%')"
       ],
       "metadata": {},
       "output_type": "display_data",
       "text": [
        "<IPython.core.display.Javascript at 0x27b0890>"
       ]
      },
      {
       "javascript": [
        "$('#3f73aa5e-ac95-4d7d-92e5-dd266b20964c div').first().width('50%')"
       ],
       "metadata": {},
       "output_type": "display_data",
       "text": [
        "<IPython.core.display.Javascript at 0x27b0890>"
       ]
      },
      {
       "javascript": [
        "$('#3f73aa5e-ac95-4d7d-92e5-dd266b20964c div').first().width('75%')"
       ],
       "metadata": {},
       "output_type": "display_data",
       "text": [
        "<IPython.core.display.Javascript at 0x27b0890>"
       ]
      },
      {
       "javascript": [
        "$('#3f73aa5e-ac95-4d7d-92e5-dd266b20964c div').first().width('100%')"
       ],
       "metadata": {},
       "output_type": "display_data",
       "text": [
        "<IPython.core.display.Javascript at 0x27b0890>"
       ]
      },
      {
       "javascript": [
        "$('#3f73aa5e-ac95-4d7d-92e5-dd266b20964c span').first().text('Execution completed')"
       ],
       "metadata": {},
       "output_type": "display_data",
       "text": [
        "<IPython.core.display.Javascript at 0x27b0890>"
       ]
      }
     ],
     "prompt_number": 1
    },
    {
     "cell_type": "code",
     "collapsed": false,
     "input": [
      "frame.get_schema()\n"
     ],
     "language": "python",
     "metadata": {},
     "outputs": [
      {
       "metadata": {},
       "output_type": "pyout",
       "prompt_number": 2,
       "text": [
        "{'input_value': 'chararray',\n",
        " 'source': 'long',\n",
        " 'target': 'long',\n",
        " 'weight': 'double'}"
       ]
      }
     ],
     "prompt_number": 2
    },
    {
     "cell_type": "code",
     "collapsed": false,
     "input": [
      "frame.source_file"
     ],
     "language": "python",
     "metadata": {},
     "outputs": [
      {
       "metadata": {},
       "output_type": "pyout",
       "prompt_number": 3,
       "text": [
        "'/user/hadoop/lp_edge.csv'"
       ]
      }
     ],
     "prompt_number": 3
    },
    {
     "cell_type": "code",
     "collapsed": false,
     "input": [
      "frame.name"
     ],
     "language": "python",
     "metadata": {},
     "outputs": [
      {
       "metadata": {},
       "output_type": "pyout",
       "prompt_number": 4,
       "text": [
        "'lpframe'"
       ]
      }
     ],
     "prompt_number": 4
    },
    {
     "cell_type": "code",
     "collapsed": false,
     "input": [
      "from IPython.display import HTML\n",
      "HTML(frame.inspect_as_html())"
     ],
     "language": "python",
     "metadata": {},
     "outputs": [
      {
       "html": [
        "<table border=\"1\"><tr><th>source</th><th>target</th><th>weight</th><th>input_value</th></tr><tr><td>22</td><td>10</td><td>0.015032</td><td>0.5 0.5</td></tr><tr><td>22</td><td>19</td><td>0.508225</td><td>0.5 0.5</td></tr><tr><td>110</td><td>115</td><td>0.392158</td><td>0.5 0.5</td></tr><tr><td>284</td><td>274</td><td>0.078992</td><td>0.5 0.5</td></tr><tr><td>284</td><td>275</td><td>0.11108</td><td>0.5 0.5</td></tr><tr><td>284</td><td>276</td><td>0.249525</td><td>0.5 0.5</td></tr><tr><td>284</td><td>277</td><td>0.221159</td><td>0.5 0.5</td></tr><tr><td>284</td><td>278</td><td>0.324332</td><td>0.5 0.5</td></tr><tr><td>284</td><td>279</td><td>0.586855</td><td>0.5 0.5</td></tr><tr><td>284</td><td>280</td><td>0.718113</td><td>0.5 0.5</td></tr></table>"
       ],
       "metadata": {},
       "output_type": "pyout",
       "prompt_number": 5,
       "text": [
        "<IPython.core.display.HTML at 0x2495310>"
       ]
      }
     ],
     "prompt_number": 5
    },
    {
     "cell_type": "heading",
     "level": 2,
     "metadata": {},
     "source": [
      "Graph Construction and Load to Graph Database"
     ]
    },
    {
     "cell_type": "code",
     "collapsed": false,
     "input": [
      "from intel_analytics.graph.biggraph import get_graph_builder, GraphTypes\n",
      "gb = get_graph_builder(GraphTypes.Property, frame)\n",
      "gb.register_vertex('source',['input_value'])\n",
      "gb.register_vertex('target')\n",
      "gb.register_edge(('source', 'target', 'links'), ['weight'])"
     ],
     "language": "python",
     "metadata": {},
     "outputs": [],
     "prompt_number": 6
    },
    {
     "cell_type": "code",
     "collapsed": false,
     "input": [
      "graph = gb.build(\"lpgraph\", overwrite=True)"
     ],
     "language": "python",
     "metadata": {},
     "outputs": [
      {
       "html": [
        "\n",
        "            <div id=\"d60445e1-0f57-4786-b33d-f69d6e10f5cf\" class='status'>\n",
        "                <span class=\"label span2\">Initialization</span>\n",
        "                <span class=\"span7 progress\">\n",
        "                      <div class=\"bar\" style= \"width:0%\">&nbsp;</div>\n",
        "                </span>\n",
        "            </div>\n",
        "            "
       ],
       "metadata": {},
       "output_type": "display_data",
       "text": [
        "<IPython.core.display.HTML at 0x2591650>"
       ]
      },
      {
       "javascript": [
        "$('#d60445e1-0f57-4786-b33d-f69d6e10f5cf span').last().addClass(\"progress-striped active\")"
       ],
       "metadata": {},
       "output_type": "display_data",
       "text": [
        "<IPython.core.display.Javascript at 0x2591650>"
       ]
      },
      {
       "javascript": [
        "$('#d60445e1-0f57-4786-b33d-f69d6e10f5cf div').first().width('100%')"
       ],
       "metadata": {},
       "output_type": "display_data",
       "text": [
        "<IPython.core.display.Javascript at 0x2591650>"
       ]
      },
      {
       "javascript": [
        "$('#d60445e1-0f57-4786-b33d-f69d6e10f5cf span').last().removeClass(\"progress-striped active\")"
       ],
       "metadata": {},
       "output_type": "display_data",
       "text": [
        "<IPython.core.display.Javascript at 0x27b0890>"
       ]
      },
      {
       "javascript": [
        "$('#d60445e1-0f57-4786-b33d-f69d6e10f5cf span').first().text('Initialization completed')"
       ],
       "metadata": {},
       "output_type": "display_data",
       "text": [
        "<IPython.core.display.Javascript at 0x27b0750>"
       ]
      },
      {
       "html": [
        "\n",
        "            <div id=\"5fe12788-daba-4415-94ff-fc27fe135336\" class='status'>\n",
        "                <span class=\"label span2\">Step 1</span>\n",
        "                <span class=\"span7 progress\">\n",
        "                      <div class=\"bar\" style= \"width:0%\">&nbsp;</div>\n",
        "                </span>\n",
        "            </div>\n",
        "            "
       ],
       "metadata": {},
       "output_type": "display_data",
       "text": [
        "<IPython.core.display.HTML at 0x27b0750>"
       ]
      },
      {
       "javascript": [
        "$('#5fe12788-daba-4415-94ff-fc27fe135336 div').first().width('0%')"
       ],
       "metadata": {},
       "output_type": "display_data",
       "text": [
        "<IPython.core.display.Javascript at 0x27b0750>"
       ]
      },
      {
       "javascript": [
        "$('#5fe12788-daba-4415-94ff-fc27fe135336 div').first().width('50%')"
       ],
       "metadata": {},
       "output_type": "display_data",
       "text": [
        "<IPython.core.display.Javascript at 0x27b0350>"
       ]
      },
      {
       "javascript": [
        "$('#5fe12788-daba-4415-94ff-fc27fe135336 div').first().width('57%')"
       ],
       "metadata": {},
       "output_type": "display_data",
       "text": [
        "<IPython.core.display.Javascript at 0x27b0350>"
       ]
      },
      {
       "javascript": [
        "$('#5fe12788-daba-4415-94ff-fc27fe135336 div').first().width('66%')"
       ],
       "metadata": {},
       "output_type": "display_data",
       "text": [
        "<IPython.core.display.Javascript at 0x27b0350>"
       ]
      },
      {
       "javascript": [
        "$('#5fe12788-daba-4415-94ff-fc27fe135336 div').first().width('70%')"
       ],
       "metadata": {},
       "output_type": "display_data",
       "text": [
        "<IPython.core.display.Javascript at 0x27b0350>"
       ]
      },
      {
       "javascript": [
        "$('#5fe12788-daba-4415-94ff-fc27fe135336 div').first().width('83%')"
       ],
       "metadata": {},
       "output_type": "display_data",
       "text": [
        "<IPython.core.display.Javascript at 0x27b0350>"
       ]
      },
      {
       "javascript": [
        "$('#5fe12788-daba-4415-94ff-fc27fe135336 div').first().width('87%')"
       ],
       "metadata": {},
       "output_type": "display_data",
       "text": [
        "<IPython.core.display.Javascript at 0x27b0350>"
       ]
      },
      {
       "javascript": [
        "$('#5fe12788-daba-4415-94ff-fc27fe135336 div').first().width('91%')"
       ],
       "metadata": {},
       "output_type": "display_data",
       "text": [
        "<IPython.core.display.Javascript at 0x27b0350>"
       ]
      },
      {
       "javascript": [
        "$('#5fe12788-daba-4415-94ff-fc27fe135336 div').first().width('100%')"
       ],
       "metadata": {},
       "output_type": "display_data",
       "text": [
        "<IPython.core.display.Javascript at 0x27b0350>"
       ]
      },
      {
       "javascript": [
        "$('#5fe12788-daba-4415-94ff-fc27fe135336 span').first().text('Step 1 completed')"
       ],
       "metadata": {},
       "output_type": "display_data",
       "text": [
        "<IPython.core.display.Javascript at 0x27b0350>"
       ]
      },
      {
       "html": [
        "\n",
        "            <div id=\"90b81e6e-80fa-4c2b-beac-73936002661f\" class='status'>\n",
        "                <span class=\"label span2\">Step 2</span>\n",
        "                <span class=\"span7 progress\">\n",
        "                      <div class=\"bar\" style= \"width:0%\">&nbsp;</div>\n",
        "                </span>\n",
        "            </div>\n",
        "            "
       ],
       "metadata": {},
       "output_type": "display_data",
       "text": [
        "<IPython.core.display.HTML at 0x27b0350>"
       ]
      },
      {
       "javascript": [
        "$('#90b81e6e-80fa-4c2b-beac-73936002661f div').first().width('0%')"
       ],
       "metadata": {},
       "output_type": "display_data",
       "text": [
        "<IPython.core.display.Javascript at 0x27b0350>"
       ]
      },
      {
       "javascript": [
        "$('#90b81e6e-80fa-4c2b-beac-73936002661f div').first().width('50%')"
       ],
       "metadata": {},
       "output_type": "display_data",
       "text": [
        "<IPython.core.display.Javascript at 0x27b0650>"
       ]
      },
      {
       "javascript": [
        "$('#90b81e6e-80fa-4c2b-beac-73936002661f div').first().width('54%')"
       ],
       "metadata": {},
       "output_type": "display_data",
       "text": [
        "<IPython.core.display.Javascript at 0x27b0650>"
       ]
      },
      {
       "javascript": [
        "$('#90b81e6e-80fa-4c2b-beac-73936002661f div').first().width('66%')"
       ],
       "metadata": {},
       "output_type": "display_data",
       "text": [
        "<IPython.core.display.Javascript at 0x27b0650>"
       ]
      },
      {
       "javascript": [
        "$('#90b81e6e-80fa-4c2b-beac-73936002661f div').first().width('91%')"
       ],
       "metadata": {},
       "output_type": "display_data",
       "text": [
        "<IPython.core.display.Javascript at 0x27b0650>"
       ]
      },
      {
       "javascript": [
        "$('#90b81e6e-80fa-4c2b-beac-73936002661f div').first().width('100%')"
       ],
       "metadata": {},
       "output_type": "display_data",
       "text": [
        "<IPython.core.display.Javascript at 0x27b0650>"
       ]
      },
      {
       "javascript": [
        "$('#90b81e6e-80fa-4c2b-beac-73936002661f span').first().text('Step 2 completed')"
       ],
       "metadata": {},
       "output_type": "display_data",
       "text": [
        "<IPython.core.display.Javascript at 0x27b0650>"
       ]
      }
     ],
     "prompt_number": 7
    },
    {
     "cell_type": "code",
     "collapsed": false,
     "input": [
      "from IPython.display import display\n",
      "%pylab inline --no-import-all"
     ],
     "language": "python",
     "metadata": {},
     "outputs": [
      {
       "output_type": "stream",
       "stream": "stdout",
       "text": [
        "Populating the interactive namespace from numpy and matplotlib\n"
       ]
      }
     ],
     "prompt_number": 8
    },
    {
     "cell_type": "heading",
     "level": 2,
     "metadata": {},
     "source": [
      "Read From Graph Database and Run Machine Learning Algorithms"
     ]
    },
    {
     "cell_type": "code",
     "collapsed": false,
     "input": [
      "report0 = graph.ml.label_prop(\n",
      "       input_vertex_property_list=\"input_value\",\n",
      "       input_edge_property_list=\"weight\",\n",
      "       input_edge_label=\"links\",\n",
      "       output_vertex_property_list=['lp_posterior'],\n",
      "       vector_value=\"true\",\n",
      "       max_supersteps=\"10\",\n",
      "       convergence_threshold=\"0.0\",\n",
      "       lp_lambda=\"0.0\",\n",
      "       anchor_threshold=\"1.0\"\n",
      "       )"
     ],
     "language": "python",
     "metadata": {},
     "outputs": [
      {
       "output_type": "stream",
       "stream": "stdout",
       "text": [
        "hadoop jar /home/hadoop/TRIB-1132/IntelAnalytics/target/IntelAnalytics-application-0.5-SNAPSHOT.jar org.apache.giraph.GiraphRunner -Dgiraph.titan.input.storage.backend=hbase -Dgiraph.titan.input.storage.hostname=gao-ws1 -Dgiraph.titan.input.storage.port=2181 -Dgiraph.titan.input.storage.connection-timeout=100000 -Dgiraph.titan.input.storage.tablename=lpgraph_lpframe_2014-01-27-09-15-31_titan -Dinput.vertex.value.property.key.list=etl-cf:input_value -Dinput.edge.value.property.key.list=etl-cf:weight -Dinput.edge.label.list=links -Doutput.vertex.property.key.list=lp_posterior -Dvector.value=true com.intel.giraph.algorithms.lp.LabelPropagationComputation -mc com.intel.giraph.algorithms.lp.LabelPropagationComputation\\$LabelPropagationMasterCompute -aw com.intel.giraph.algorithms.lp.LabelPropagationComputation\\$LabelPropagationAggregatorWriter -vif com.intel.giraph.io.titan.hbase.TitanHBaseVertexInputFormatPropertyGraph4LP -vof com.intel.giraph.io.titan.TitanVertexOutputFormatPropertyGraph4LP -op hdfs:///user/hadoop/giraph/lpgraph_lpframe_2014-01-27-09-15-31_titan/lp -w 3 -ca lp.maxSupersteps=100 -ca lp.convergenceThreshold=0.0 -ca lp.lambda=0.0 -ca lp.bidirectionalCheck=false -ca lp.anchorThreshold=1.0\n"
       ]
      },
      {
       "html": [
        "\n",
        "            <div id=\"a380c1b8-c62a-444a-aaaf-2005882bb988\" class='status'>\n",
        "                <span class=\"label span2\">Initialization</span>\n",
        "                <span class=\"span7 progress\">\n",
        "                      <div class=\"bar\" style= \"width:0%\">&nbsp;</div>\n",
        "                </span>\n",
        "            </div>\n",
        "            "
       ],
       "metadata": {},
       "output_type": "display_data",
       "text": [
        "<IPython.core.display.HTML at 0x35d4810>"
       ]
      },
      {
       "javascript": [
        "$('#a380c1b8-c62a-444a-aaaf-2005882bb988 span').last().addClass(\"progress-striped active\")"
       ],
       "metadata": {},
       "output_type": "display_data",
       "text": [
        "<IPython.core.display.Javascript at 0x35d4810>"
       ]
      },
      {
       "javascript": [
        "$('#a380c1b8-c62a-444a-aaaf-2005882bb988 div').first().width('100%')"
       ],
       "metadata": {},
       "output_type": "display_data",
       "text": [
        "<IPython.core.display.Javascript at 0x35d4810>"
       ]
      },
      {
       "javascript": [
        "$('#a380c1b8-c62a-444a-aaaf-2005882bb988 span').last().removeClass(\"progress-striped active\")"
       ],
       "metadata": {},
       "output_type": "display_data",
       "text": [
        "<IPython.core.display.Javascript at 0x35d4b90>"
       ]
      },
      {
       "javascript": [
        "$('#a380c1b8-c62a-444a-aaaf-2005882bb988 span').first().text('Initialization completed')"
       ],
       "metadata": {},
       "output_type": "display_data",
       "text": [
        "<IPython.core.display.Javascript at 0x35d4a50>"
       ]
      },
      {
       "html": [
        "\n",
        "            <div id=\"9f8f0783-26e2-4138-a919-531a120cfbd6\" class='status'>\n",
        "                <span class=\"label span2\">Step 1</span>\n",
        "                <span class=\"span7 progress\">\n",
        "                      <div class=\"bar\" style= \"width:0%\">&nbsp;</div>\n",
        "                </span>\n",
        "            </div>\n",
        "            "
       ],
       "metadata": {},
       "output_type": "display_data",
       "text": [
        "<IPython.core.display.HTML at 0x35d4c50>"
       ]
      },
      {
       "javascript": [
        "$('#9f8f0783-26e2-4138-a919-531a120cfbd6 div').first().width('0%')"
       ],
       "metadata": {},
       "output_type": "display_data",
       "text": [
        "<IPython.core.display.Javascript at 0x35d4d10>"
       ]
      },
      {
       "javascript": [
        "$('#9f8f0783-26e2-4138-a919-531a120cfbd6 div').first().width('75%')"
       ],
       "metadata": {},
       "output_type": "display_data",
       "text": [
        "<IPython.core.display.Javascript at 0x35d4d10>"
       ]
      },
      {
       "javascript": [
        "$('#9f8f0783-26e2-4138-a919-531a120cfbd6 div').first().width('100%')"
       ],
       "metadata": {},
       "output_type": "display_data",
       "text": [
        "<IPython.core.display.Javascript at 0x35d4d10>"
       ]
      },
      {
       "javascript": [
        "$('#9f8f0783-26e2-4138-a919-531a120cfbd6 span').first().text('Step 1 completed')"
       ],
       "metadata": {},
       "output_type": "display_data",
       "text": [
        "<IPython.core.display.Javascript at 0x35d4d10>"
       ]
      },
      {
       "html": [
        "\n",
        "            <div id=\"221f1992-13f3-492e-96f1-05c0ecf35b9d\" class='status'>\n",
        "                <span class=\"label span2\">Step 2</span>\n",
        "                <span class=\"span7 progress\">\n",
        "                      <div class=\"bar\" style= \"width:0%\">&nbsp;</div>\n",
        "                </span>\n",
        "            </div>\n",
        "            "
       ],
       "metadata": {},
       "output_type": "display_data",
       "text": [
        "<IPython.core.display.HTML at 0x35d4a50>"
       ]
      },
      {
       "javascript": [
        "$('#221f1992-13f3-492e-96f1-05c0ecf35b9d span').last().addClass(\"progress-striped active\")"
       ],
       "metadata": {},
       "output_type": "display_data",
       "text": [
        "<IPython.core.display.Javascript at 0x35d4a50>"
       ]
      },
      {
       "javascript": [
        "$('#221f1992-13f3-492e-96f1-05c0ecf35b9d div').first().width('100%')"
       ],
       "metadata": {},
       "output_type": "display_data",
       "text": [
        "<IPython.core.display.Javascript at 0x35d4a50>"
       ]
      },
      {
       "javascript": [
        "$('#221f1992-13f3-492e-96f1-05c0ecf35b9d span').last().addClass(\"progress-striped active\")"
       ],
       "metadata": {},
       "output_type": "display_data",
       "text": [
        "<IPython.core.display.Javascript at 0x35d4a50>"
       ]
      },
      {
       "javascript": [
        "$('#221f1992-13f3-492e-96f1-05c0ecf35b9d span').last().removeClass(\"progress-striped active\")"
       ],
       "metadata": {},
       "output_type": "display_data",
       "text": [
        "<IPython.core.display.Javascript at 0x35d4a50>"
       ]
      },
      {
       "javascript": [
        "$('#221f1992-13f3-492e-96f1-05c0ecf35b9d span').first().text('Step 2 completed')"
       ],
       "metadata": {},
       "output_type": "display_data",
       "text": [
        "<IPython.core.display.Javascript at 0x35d4a50>"
       ]
      },
      {
       "metadata": {},
       "output_type": "display_data",
       "png": "[encoded data removed]",
       "text": [
        "<matplotlib.figure.Figure at 0x35d4410>"
       ]
      }
     ],
     "prompt_number": 17
    },
    {
     "cell_type": "code",
     "collapsed": false,
     "input": [
      "report0.cost"
     ],
     "language": "python",
     "metadata": {},
     "outputs": [
      {
       "metadata": {},
       "output_type": "pyout",
       "prompt_number": 18,
       "text": [
        "['0.015718',\n",
        " '0.013978',\n",
        " '0.012915',\n",
        " '0.012139',\n",
        " '0.011524',\n",
        " '0.011014',\n",
        " '0.010579',\n",
        " '0.010199',\n",
        " '0.009862',\n",
        " '0.009560',\n",
        " '0.009286',\n",
        " '0.009037',\n",
        " '0.008809',\n",
        " '0.008598',\n",
        " '0.008402',\n",
        " '0.008220',\n",
        " '0.008050',\n",
        " '0.007891',\n",
        " '0.007741',\n",
        " '0.007599',\n",
        " '0.007465',\n",
        " '0.007338',\n",
        " '0.007217',\n",
        " '0.007101',\n",
        " '0.006991',\n",
        " '0.006885',\n",
        " '0.006784',\n",
        " '0.006686',\n",
        " '0.006592',\n",
        " '0.006501',\n",
        " '0.006414',\n",
        " '0.006329',\n",
        " '0.006247',\n",
        " '0.006168',\n",
        " '0.006090',\n",
        " '0.006015',\n",
        " '0.005942',\n",
        " '0.005871',\n",
        " '0.005802',\n",
        " '0.005734',\n",
        " '0.005668',\n",
        " '0.005604',\n",
        " '0.005541',\n",
        " '0.005479',\n",
        " '0.005419',\n",
        " '0.005360',\n",
        " '0.005302',\n",
        " '0.005246',\n",
        " '0.005190',\n",
        " '0.005136',\n",
        " '0.005083',\n",
        " '0.005030',\n",
        " '0.004979',\n",
        " '0.004928',\n",
        " '0.004879',\n",
        " '0.004830',\n",
        " '0.004782',\n",
        " '0.004735',\n",
        " '0.004689',\n",
        " '0.004644',\n",
        " '0.004599',\n",
        " '0.004555',\n",
        " '0.004512',\n",
        " '0.004469',\n",
        " '0.004427',\n",
        " '0.004386',\n",
        " '0.004345',\n",
        " '0.004305',\n",
        " '0.004266',\n",
        " '0.004227',\n",
        " '0.004189',\n",
        " '0.004151',\n",
        " '0.004114',\n",
        " '0.004077',\n",
        " '0.004041',\n",
        " '0.004006',\n",
        " '0.003971',\n",
        " '0.003936',\n",
        " '0.003902',\n",
        " '0.003869',\n",
        " '0.003835',\n",
        " '0.003803',\n",
        " '0.003771',\n",
        " '0.003739',\n",
        " '0.003707',\n",
        " '0.003676',\n",
        " '0.003646',\n",
        " '0.003616',\n",
        " '0.003586',\n",
        " '0.003557',\n",
        " '0.003528',\n",
        " '0.003499',\n",
        " '0.003471',\n",
        " '0.003443',\n",
        " '0.003415',\n",
        " '0.003388',\n",
        " '0.003361',\n",
        " '0.003335',\n",
        " '0.003309',\n",
        " '0.003283']"
       ]
      }
     ],
     "prompt_number": 18
    },
    {
     "cell_type": "code",
     "collapsed": false,
     "input": [
      "report0.exec_time"
     ],
     "language": "python",
     "metadata": {},
     "outputs": [
      {
       "metadata": {},
       "output_type": "pyout",
       "prompt_number": 19,
       "text": [
        "'104.847107887 seconds'"
       ]
      }
     ],
     "prompt_number": 19
    }
   ],
   "metadata": {}
  }
 ]
}