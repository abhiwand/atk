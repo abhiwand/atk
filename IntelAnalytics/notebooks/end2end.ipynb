{
 "metadata": {
  "name": ""
 },
 "nbformat": 3,
 "nbformat_minor": 0,
 "worksheets": [
  {
   "cells": [
    {
     "cell_type": "heading",
     "level": 2,
     "metadata": {},
     "source": [
      "Import Raw Data"
     ]
    },
    {
     "cell_type": "code",
     "collapsed": false,
     "input": [
      "import time\n",
      "start_time = time.time()\n",
      "from intel_analytics.table.bigdataframe import get_frame_builder\n",
      "fb = get_frame_builder()\n",
      "csvfile = '/user/hadoop/recommendation_raw_input.csv'\n",
      "frame = fb.build_from_csv('myframe',\n",
      "                          csvfile,\n",
      "                          schema='user:long,vertex_type:chararray,movie:long,rating:long,splits:chararray',\n",
      "                          overwrite=True)"
     ],
     "language": "python",
     "metadata": {},
     "outputs": [
      {
       "html": [
        "\n",
        "            <div id=\"7b3df2d0-3bdb-4bc4-9f6d-afe4114a7934\" class='status'>\n",
        "                <span class=\"label span2\">Initialization</span>\n",
        "                <span class=\"span7 progress\">\n",
        "                      <div class=\"bar\" style= \"width:0%\">&nbsp;</div>\n",
        "                </span>\n",
        "            </div>\n",
        "            "
       ],
       "metadata": {},
       "output_type": "display_data",
       "text": [
        "<IPython.core.display.HTML at 0x2861e50>"
       ]
      },
      {
       "javascript": [
        "$('#7b3df2d0-3bdb-4bc4-9f6d-afe4114a7934 span').last().addClass(\"progress-striped active\")"
       ],
       "metadata": {},
       "output_type": "display_data",
       "text": [
        "<IPython.core.display.Javascript at 0x2861e50>"
       ]
      },
      {
       "javascript": [
        "$('#7b3df2d0-3bdb-4bc4-9f6d-afe4114a7934 div').first().width('100%')"
       ],
       "metadata": {},
       "output_type": "display_data",
       "text": [
        "<IPython.core.display.Javascript at 0x2861e50>"
       ]
      },
      {
       "javascript": [
        "$('#7b3df2d0-3bdb-4bc4-9f6d-afe4114a7934 span').last().removeClass(\"progress-striped active\")"
       ],
       "metadata": {},
       "output_type": "display_data",
       "text": [
        "<IPython.core.display.Javascript at 0x2869150>"
       ]
      },
      {
       "javascript": [
        "$('#7b3df2d0-3bdb-4bc4-9f6d-afe4114a7934 span').first().text('Initialization completed')"
       ],
       "metadata": {},
       "output_type": "display_data",
       "text": [
        "<IPython.core.display.Javascript at 0x2869190>"
       ]
      },
      {
       "html": [
        "\n",
        "            <div id=\"10f04b11-47d6-4cea-8468-011a2a3c725a\" class='status'>\n",
        "                <span class=\"label span2\">Progress</span>\n",
        "                <span class=\"span7 progress\">\n",
        "                      <div class=\"bar\" style= \"width:0%\">&nbsp;</div>\n",
        "                </span>\n",
        "            </div>\n",
        "            "
       ],
       "metadata": {},
       "output_type": "display_data",
       "text": [
        "<IPython.core.display.HTML at 0x2869190>"
       ]
      },
      {
       "javascript": [
        "$('#10f04b11-47d6-4cea-8468-011a2a3c725a div').first().width('25%')"
       ],
       "metadata": {},
       "output_type": "display_data",
       "text": [
        "<IPython.core.display.Javascript at 0x2869190>"
       ]
      },
      {
       "javascript": [
        "$('#10f04b11-47d6-4cea-8468-011a2a3c725a div').first().width('50%')"
       ],
       "metadata": {},
       "output_type": "display_data",
       "text": [
        "<IPython.core.display.Javascript at 0x2869190>"
       ]
      },
      {
       "javascript": [
        "$('#10f04b11-47d6-4cea-8468-011a2a3c725a div').first().width('62%')"
       ],
       "metadata": {},
       "output_type": "display_data",
       "text": [
        "<IPython.core.display.Javascript at 0x2869190>"
       ]
      },
      {
       "javascript": [
        "$('#10f04b11-47d6-4cea-8468-011a2a3c725a div').first().width('72%')"
       ],
       "metadata": {},
       "output_type": "display_data",
       "text": [
        "<IPython.core.display.Javascript at 0x2869190>"
       ]
      },
      {
       "javascript": [
        "$('#10f04b11-47d6-4cea-8468-011a2a3c725a div').first().width('100%')"
       ],
       "metadata": {},
       "output_type": "display_data",
       "text": [
        "<IPython.core.display.Javascript at 0x2869190>"
       ]
      },
      {
       "javascript": [
        "$('#10f04b11-47d6-4cea-8468-011a2a3c725a span').first().text('Execution completed')"
       ],
       "metadata": {},
       "output_type": "display_data",
       "text": [
        "<IPython.core.display.Javascript at 0x2869190>"
       ]
      }
     ],
     "prompt_number": 1
    },
    {
     "cell_type": "code",
     "collapsed": false,
     "input": [
      "frame.get_schema()\n"
     ],
     "language": "python",
     "metadata": {},
     "outputs": [
      {
       "metadata": {},
       "output_type": "pyout",
       "prompt_number": 2,
       "text": [
        "{'movie': 'long',\n",
        " 'rating': 'long',\n",
        " 'splits': 'chararray',\n",
        " 'user': 'long',\n",
        " 'vertex_type': 'chararray'}"
       ]
      }
     ],
     "prompt_number": 2
    },
    {
     "cell_type": "code",
     "collapsed": false,
     "input": [
      "frame.source_file"
     ],
     "language": "python",
     "metadata": {},
     "outputs": [
      {
       "metadata": {},
       "output_type": "pyout",
       "prompt_number": 3,
       "text": [
        "'/user/hadoop/recommendation_raw_input.csv'"
       ]
      }
     ],
     "prompt_number": 3
    },
    {
     "cell_type": "code",
     "collapsed": false,
     "input": [
      "frame.name"
     ],
     "language": "python",
     "metadata": {},
     "outputs": [
      {
       "metadata": {},
       "output_type": "pyout",
       "prompt_number": 4,
       "text": [
        "'myframe'"
       ]
      }
     ],
     "prompt_number": 4
    },
    {
     "cell_type": "code",
     "collapsed": false,
     "input": [
      "from IPython.display import HTML\n",
      "HTML(frame.inspect_as_html())"
     ],
     "language": "python",
     "metadata": {},
     "outputs": [
      {
       "html": [
        "<table border=\"1\"><tr><th>movie</th><th>vertex_type</th><th>splits</th><th>user</th><th>rating</th></tr><tr><td>NA</td><td>NA</td><td>NA</td><td>100</td><td>NA</td></tr><tr><td>-314</td><td>L</td><td>tr</td><td>1</td><td>3</td></tr><tr><td>-384</td><td>L</td><td>tr</td><td>4</td><td>4</td></tr><tr><td>-371</td><td>L</td><td>tr</td><td>30</td><td>5</td></tr><tr><td>-193</td><td>L</td><td>tr</td><td>435</td><td>3</td></tr><tr><td>-304</td><td>L</td><td>tr</td><td>6661</td><td>3</td></tr><tr><td>-314</td><td>L</td><td>tr</td><td>6661</td><td>4</td></tr><tr><td>-316</td><td>L</td><td>tr</td><td>6661</td><td>2</td></tr><tr><td>-329</td><td>L</td><td>tr</td><td>6661</td><td>5</td></tr><tr><td>-332</td><td>L</td><td>tr</td><td>6661</td><td>5</td></tr></table>"
       ],
       "metadata": {},
       "output_type": "pyout",
       "prompt_number": 5,
       "text": [
        "<IPython.core.display.HTML at 0x2861cd0>"
       ]
      }
     ],
     "prompt_number": 5
    },
    {
     "cell_type": "heading",
     "level": 2,
     "metadata": {},
     "source": [
      "Data Cleaning"
     ]
    },
    {
     "cell_type": "code",
     "collapsed": false,
     "input": [
      "frame.dropna()"
     ],
     "language": "python",
     "metadata": {},
     "outputs": [
      {
       "html": [
        "\n",
        "            <div id=\"e796ed84-4a10-4bd2-82fd-02349e91fc3a\" class='status'>\n",
        "                <span class=\"label span2\">Initialization</span>\n",
        "                <span class=\"span7 progress\">\n",
        "                      <div class=\"bar\" style= \"width:0%\">&nbsp;</div>\n",
        "                </span>\n",
        "            </div>\n",
        "            "
       ],
       "metadata": {},
       "output_type": "display_data",
       "text": [
        "<IPython.core.display.HTML at 0x2aec3d0>"
       ]
      },
      {
       "javascript": [
        "$('#e796ed84-4a10-4bd2-82fd-02349e91fc3a span').last().addClass(\"progress-striped active\")"
       ],
       "metadata": {},
       "output_type": "display_data",
       "text": [
        "<IPython.core.display.Javascript at 0x2861d50>"
       ]
      },
      {
       "javascript": [
        "$('#e796ed84-4a10-4bd2-82fd-02349e91fc3a div').first().width('100%')"
       ],
       "metadata": {},
       "output_type": "display_data",
       "text": [
        "<IPython.core.display.Javascript at 0x2861d50>"
       ]
      },
      {
       "javascript": [
        "$('#e796ed84-4a10-4bd2-82fd-02349e91fc3a span').last().removeClass(\"progress-striped active\")"
       ],
       "metadata": {},
       "output_type": "display_data",
       "text": [
        "<IPython.core.display.Javascript at 0x2aec5d0>"
       ]
      },
      {
       "javascript": [
        "$('#e796ed84-4a10-4bd2-82fd-02349e91fc3a span').first().text('Initialization completed')"
       ],
       "metadata": {},
       "output_type": "display_data",
       "text": [
        "<IPython.core.display.Javascript at 0x2aec690>"
       ]
      },
      {
       "html": [
        "\n",
        "            <div id=\"937d8cd7-cc59-4eb5-be2b-af6c19b6eb1a\" class='status'>\n",
        "                <span class=\"label span2\">Progress</span>\n",
        "                <span class=\"span7 progress\">\n",
        "                      <div class=\"bar\" style= \"width:0%\">&nbsp;</div>\n",
        "                </span>\n",
        "            </div>\n",
        "            "
       ],
       "metadata": {},
       "output_type": "display_data",
       "text": [
        "<IPython.core.display.HTML at 0x2aec690>"
       ]
      },
      {
       "javascript": [
        "$('#937d8cd7-cc59-4eb5-be2b-af6c19b6eb1a div').first().width('50%')"
       ],
       "metadata": {},
       "output_type": "display_data",
       "text": [
        "<IPython.core.display.Javascript at 0x2aec690>"
       ]
      },
      {
       "javascript": [
        "$('#937d8cd7-cc59-4eb5-be2b-af6c19b6eb1a div').first().width('100%')"
       ],
       "metadata": {},
       "output_type": "display_data",
       "text": [
        "<IPython.core.display.Javascript at 0x2aec690>"
       ]
      },
      {
       "javascript": [
        "$('#937d8cd7-cc59-4eb5-be2b-af6c19b6eb1a span').first().text('Execution completed')"
       ],
       "metadata": {},
       "output_type": "display_data",
       "text": [
        "<IPython.core.display.Javascript at 0x2aec690>"
       ]
      }
     ],
     "prompt_number": 6
    },
    {
     "cell_type": "code",
     "collapsed": false,
     "input": [
      "HTML(frame.inspect_as_html())"
     ],
     "language": "python",
     "metadata": {},
     "outputs": [
      {
       "html": [
        "<table border=\"1\"><tr><th>movie</th><th>vertex_type</th><th>splits</th><th>user</th><th>rating</th></tr><tr><td>-314</td><td>L</td><td>tr</td><td>1</td><td>3</td></tr><tr><td>-384</td><td>L</td><td>tr</td><td>4</td><td>4</td></tr><tr><td>-371</td><td>L</td><td>tr</td><td>30</td><td>5</td></tr><tr><td>-193</td><td>L</td><td>tr</td><td>435</td><td>3</td></tr><tr><td>-304</td><td>L</td><td>tr</td><td>6661</td><td>3</td></tr><tr><td>-314</td><td>L</td><td>tr</td><td>6661</td><td>4</td></tr><tr><td>-316</td><td>L</td><td>tr</td><td>6661</td><td>2</td></tr><tr><td>-329</td><td>L</td><td>tr</td><td>6661</td><td>5</td></tr><tr><td>-332</td><td>L</td><td>tr</td><td>6661</td><td>5</td></tr><tr><td>-336</td><td>L</td><td>tr</td><td>6661</td><td>2</td></tr></table>"
       ],
       "metadata": {},
       "output_type": "pyout",
       "prompt_number": 7,
       "text": [
        "<IPython.core.display.HTML at 0x11606d0>"
       ]
      }
     ],
     "prompt_number": 7
    },
    {
     "cell_type": "heading",
     "level": 2,
     "metadata": {},
     "source": [
      "Data Transformation"
     ]
    },
    {
     "cell_type": "code",
     "collapsed": false,
     "input": [
      "from intel_analytics.table.builtin_functions import EvalFunctions\n",
      "frame.transform('rating', 'log_rating', EvalFunctions.Math.LOG)"
     ],
     "language": "python",
     "metadata": {},
     "outputs": [
      {
       "html": [
        "\n",
        "            <div id=\"b81bf5c5-bebd-44ba-b10e-528fcff883e2\" class='status'>\n",
        "                <span class=\"label span2\">Initialization</span>\n",
        "                <span class=\"span7 progress\">\n",
        "                      <div class=\"bar\" style= \"width:0%\">&nbsp;</div>\n",
        "                </span>\n",
        "            </div>\n",
        "            "
       ],
       "metadata": {},
       "output_type": "display_data",
       "text": [
        "<IPython.core.display.HTML at 0x2662ad0>"
       ]
      },
      {
       "javascript": [
        "$('#b81bf5c5-bebd-44ba-b10e-528fcff883e2 span').last().addClass(\"progress-striped active\")"
       ],
       "metadata": {},
       "output_type": "display_data",
       "text": [
        "<IPython.core.display.Javascript at 0x2662ad0>"
       ]
      },
      {
       "javascript": [
        "$('#b81bf5c5-bebd-44ba-b10e-528fcff883e2 div').first().width('100%')"
       ],
       "metadata": {},
       "output_type": "display_data",
       "text": [
        "<IPython.core.display.Javascript at 0x2662ad0>"
       ]
      },
      {
       "javascript": [
        "$('#b81bf5c5-bebd-44ba-b10e-528fcff883e2 span').last().removeClass(\"progress-striped active\")"
       ],
       "metadata": {},
       "output_type": "display_data",
       "text": [
        "<IPython.core.display.Javascript at 0x7fe46e585450>"
       ]
      },
      {
       "javascript": [
        "$('#b81bf5c5-bebd-44ba-b10e-528fcff883e2 span').first().text('Initialization completed')"
       ],
       "metadata": {},
       "output_type": "display_data",
       "text": [
        "<IPython.core.display.Javascript at 0x2b070d0>"
       ]
      },
      {
       "html": [
        "\n",
        "            <div id=\"59a60c90-95a5-4244-be47-5ed33880bca3\" class='status'>\n",
        "                <span class=\"label span2\">Progress</span>\n",
        "                <span class=\"span7 progress\">\n",
        "                      <div class=\"bar\" style= \"width:0%\">&nbsp;</div>\n",
        "                </span>\n",
        "            </div>\n",
        "            "
       ],
       "metadata": {},
       "output_type": "display_data",
       "text": [
        "<IPython.core.display.HTML at 0x2b070d0>"
       ]
      },
      {
       "javascript": [
        "$('#59a60c90-95a5-4244-be47-5ed33880bca3 div').first().width('50%')"
       ],
       "metadata": {},
       "output_type": "display_data",
       "text": [
        "<IPython.core.display.Javascript at 0x2b070d0>"
       ]
      },
      {
       "javascript": [
        "$('#59a60c90-95a5-4244-be47-5ed33880bca3 div').first().width('100%')"
       ],
       "metadata": {},
       "output_type": "display_data",
       "text": [
        "<IPython.core.display.Javascript at 0x2b070d0>"
       ]
      },
      {
       "javascript": [
        "$('#59a60c90-95a5-4244-be47-5ed33880bca3 span').first().text('Execution completed')"
       ],
       "metadata": {},
       "output_type": "display_data",
       "text": [
        "<IPython.core.display.Javascript at 0x2b070d0>"
       ]
      }
     ],
     "prompt_number": 8
    },
    {
     "cell_type": "code",
     "collapsed": false,
     "input": [
      "HTML(frame.inspect_as_html())"
     ],
     "language": "python",
     "metadata": {},
     "outputs": [
      {
       "html": [
        "<table border=\"1\"><tr><th>rating</th><th>vertex_type</th><th>splits</th><th>movie</th><th>user</th><th>log_rating</th></tr><tr><td>3</td><td>L</td><td>tr</td><td>-314</td><td>1</td><td>1.0986122886681098</td></tr><tr><td>4</td><td>L</td><td>tr</td><td>-384</td><td>4</td><td>1.3862943611198906</td></tr><tr><td>5</td><td>L</td><td>tr</td><td>-371</td><td>30</td><td>1.6094379124341003</td></tr><tr><td>3</td><td>L</td><td>tr</td><td>-193</td><td>435</td><td>1.0986122886681098</td></tr><tr><td>3</td><td>L</td><td>tr</td><td>-304</td><td>6661</td><td>1.0986122886681098</td></tr><tr><td>4</td><td>L</td><td>tr</td><td>-314</td><td>6661</td><td>1.3862943611198906</td></tr><tr><td>2</td><td>L</td><td>tr</td><td>-316</td><td>6661</td><td>0.6931471805599453</td></tr><tr><td>5</td><td>L</td><td>tr</td><td>-329</td><td>6661</td><td>1.6094379124341003</td></tr><tr><td>5</td><td>L</td><td>tr</td><td>-332</td><td>6661</td><td>1.6094379124341003</td></tr><tr><td>2</td><td>L</td><td>tr</td><td>-336</td><td>6661</td><td>0.6931471805599453</td></tr></table>"
       ],
       "metadata": {},
       "output_type": "pyout",
       "prompt_number": 9,
       "text": [
        "<IPython.core.display.HTML at 0x2b07c90>"
       ]
      }
     ],
     "prompt_number": 9
    },
    {
     "cell_type": "code",
     "collapsed": false,
     "input": [
      "frame.drop_columns('log_rating')"
     ],
     "language": "python",
     "metadata": {},
     "outputs": [
      {
       "html": [
        "\n",
        "            <div id=\"85e6a8f3-ece3-4bc9-9926-575c6333ccd2\" class='status'>\n",
        "                <span class=\"label span2\">Initialization</span>\n",
        "                <span class=\"span7 progress\">\n",
        "                      <div class=\"bar\" style= \"width:0%\">&nbsp;</div>\n",
        "                </span>\n",
        "            </div>\n",
        "            "
       ],
       "metadata": {},
       "output_type": "display_data",
       "text": [
        "<IPython.core.display.HTML at 0x2b07090>"
       ]
      },
      {
       "javascript": [
        "$('#85e6a8f3-ece3-4bc9-9926-575c6333ccd2 span').last().addClass(\"progress-striped active\")"
       ],
       "metadata": {},
       "output_type": "display_data",
       "text": [
        "<IPython.core.display.Javascript at 0x2b07090>"
       ]
      },
      {
       "javascript": [
        "$('#85e6a8f3-ece3-4bc9-9926-575c6333ccd2 div').first().width('100%')"
       ],
       "metadata": {},
       "output_type": "display_data",
       "text": [
        "<IPython.core.display.Javascript at 0x2b07090>"
       ]
      },
      {
       "javascript": [
        "$('#85e6a8f3-ece3-4bc9-9926-575c6333ccd2 span').last().removeClass(\"progress-striped active\")"
       ],
       "metadata": {},
       "output_type": "display_data",
       "text": [
        "<IPython.core.display.Javascript at 0x2b07390>"
       ]
      },
      {
       "javascript": [
        "$('#85e6a8f3-ece3-4bc9-9926-575c6333ccd2 span').first().text('Initialization completed')"
       ],
       "metadata": {},
       "output_type": "display_data",
       "text": [
        "<IPython.core.display.Javascript at 0x2b07610>"
       ]
      },
      {
       "html": [
        "\n",
        "            <div id=\"61de8238-3d22-45a0-ad36-9d2d32cf8c5d\" class='status'>\n",
        "                <span class=\"label span2\">Step 1</span>\n",
        "                <span class=\"span7 progress\">\n",
        "                      <div class=\"bar\" style= \"width:0%\">&nbsp;</div>\n",
        "                </span>\n",
        "            </div>\n",
        "            "
       ],
       "metadata": {},
       "output_type": "display_data",
       "text": [
        "<IPython.core.display.HTML at 0x2b07610>"
       ]
      },
      {
       "javascript": [
        "$('#61de8238-3d22-45a0-ad36-9d2d32cf8c5d div').first().width('0%')"
       ],
       "metadata": {},
       "output_type": "display_data",
       "text": [
        "<IPython.core.display.Javascript at 0x2b07610>"
       ]
      },
      {
       "javascript": [
        "$('#61de8238-3d22-45a0-ad36-9d2d32cf8c5d div').first().width('100%')"
       ],
       "metadata": {},
       "output_type": "display_data",
       "text": [
        "<IPython.core.display.Javascript at 0x2b07510>"
       ]
      },
      {
       "javascript": [
        "$('#61de8238-3d22-45a0-ad36-9d2d32cf8c5d span').first().text('Step 1 completed')"
       ],
       "metadata": {},
       "output_type": "display_data",
       "text": [
        "<IPython.core.display.Javascript at 0x2b07510>"
       ]
      }
     ],
     "prompt_number": 10
    },
    {
     "cell_type": "code",
     "collapsed": false,
     "input": [
      "HTML(frame.inspect_as_html())"
     ],
     "language": "python",
     "metadata": {},
     "outputs": [
      {
       "html": [
        "<table border=\"1\"><tr><th>movie</th><th>vertex_type</th><th>splits</th><th>user</th><th>rating</th></tr><tr><td>-314</td><td>L</td><td>tr</td><td>1</td><td>3</td></tr><tr><td>-384</td><td>L</td><td>tr</td><td>4</td><td>4</td></tr><tr><td>-371</td><td>L</td><td>tr</td><td>30</td><td>5</td></tr><tr><td>-193</td><td>L</td><td>tr</td><td>435</td><td>3</td></tr><tr><td>-304</td><td>L</td><td>tr</td><td>6661</td><td>3</td></tr><tr><td>-314</td><td>L</td><td>tr</td><td>6661</td><td>4</td></tr><tr><td>-316</td><td>L</td><td>tr</td><td>6661</td><td>2</td></tr><tr><td>-329</td><td>L</td><td>tr</td><td>6661</td><td>5</td></tr><tr><td>-332</td><td>L</td><td>tr</td><td>6661</td><td>5</td></tr><tr><td>-336</td><td>L</td><td>tr</td><td>6661</td><td>2</td></tr></table>"
       ],
       "metadata": {},
       "output_type": "pyout",
       "prompt_number": 11,
       "text": [
        "<IPython.core.display.HTML at 0x2aec510>"
       ]
      }
     ],
     "prompt_number": 11
    },
    {
     "cell_type": "heading",
     "level": 2,
     "metadata": {},
     "source": [
      "Graph Construction and Load to Graph Database"
     ]
    },
    {
     "cell_type": "code",
     "collapsed": false,
     "input": [
      "from intel_analytics.graph.biggraph import get_graph_builder, GraphTypes\n",
      "gb = get_graph_builder(GraphTypes.Property, frame)\n",
      "gb.register_vertex('user',['vertex_type'])\n",
      "gb.register_vertex('movie')\n",
      "gb.register_edge(('user', 'movie', 'rates'), ['splits','rating'])"
     ],
     "language": "python",
     "metadata": {},
     "outputs": [],
     "prompt_number": 12
    },
    {
     "cell_type": "code",
     "collapsed": false,
     "input": [
      "graph = gb.build(\"mygraph\", overwrite=True)"
     ],
     "language": "python",
     "metadata": {},
     "outputs": [
      {
       "html": [
        "\n",
        "            <div id=\"1d1d8228-324d-456b-bac5-63af5799068c\" class='status'>\n",
        "                <span class=\"label span2\">Initialization</span>\n",
        "                <span class=\"span7 progress\">\n",
        "                      <div class=\"bar\" style= \"width:0%\">&nbsp;</div>\n",
        "                </span>\n",
        "            </div>\n",
        "            "
       ],
       "metadata": {},
       "output_type": "display_data",
       "text": [
        "<IPython.core.display.HTML at 0x2aec610>"
       ]
      },
      {
       "javascript": [
        "$('#1d1d8228-324d-456b-bac5-63af5799068c span').last().addClass(\"progress-striped active\")"
       ],
       "metadata": {},
       "output_type": "display_data",
       "text": [
        "<IPython.core.display.Javascript at 0x2aec610>"
       ]
      },
      {
       "javascript": [
        "$('#1d1d8228-324d-456b-bac5-63af5799068c div').first().width('100%')"
       ],
       "metadata": {},
       "output_type": "display_data",
       "text": [
        "<IPython.core.display.Javascript at 0x2aec610>"
       ]
      },
      {
       "javascript": [
        "$('#1d1d8228-324d-456b-bac5-63af5799068c span').last().removeClass(\"progress-striped active\")"
       ],
       "metadata": {},
       "output_type": "display_data",
       "text": [
        "<IPython.core.display.Javascript at 0x2aec950>"
       ]
      },
      {
       "javascript": [
        "$('#1d1d8228-324d-456b-bac5-63af5799068c span').first().text('Initialization completed')"
       ],
       "metadata": {},
       "output_type": "display_data",
       "text": [
        "<IPython.core.display.Javascript at 0x2aec990>"
       ]
      },
      {
       "html": [
        "\n",
        "            <div id=\"1fd780c4-022f-4c23-b324-93d1707b818d\" class='status'>\n",
        "                <span class=\"label span2\">Step 1</span>\n",
        "                <span class=\"span7 progress\">\n",
        "                      <div class=\"bar\" style= \"width:0%\">&nbsp;</div>\n",
        "                </span>\n",
        "            </div>\n",
        "            "
       ],
       "metadata": {},
       "output_type": "display_data",
       "text": [
        "<IPython.core.display.HTML at 0x2aec990>"
       ]
      },
      {
       "javascript": [
        "$('#1fd780c4-022f-4c23-b324-93d1707b818d div').first().width('0%')"
       ],
       "metadata": {},
       "output_type": "display_data",
       "text": [
        "<IPython.core.display.Javascript at 0x2aec990>"
       ]
      },
      {
       "javascript": [
        "$('#1fd780c4-022f-4c23-b324-93d1707b818d div').first().width('50%')"
       ],
       "metadata": {},
       "output_type": "display_data",
       "text": [
        "<IPython.core.display.Javascript at 0x2aeca90>"
       ]
      },
      {
       "javascript": [
        "$('#1fd780c4-022f-4c23-b324-93d1707b818d div').first().width('66%')"
       ],
       "metadata": {},
       "output_type": "display_data",
       "text": [
        "<IPython.core.display.Javascript at 0x2aeca90>"
       ]
      },
      {
       "javascript": [
        "$('#1fd780c4-022f-4c23-b324-93d1707b818d div').first().width('84%')"
       ],
       "metadata": {},
       "output_type": "display_data",
       "text": [
        "<IPython.core.display.Javascript at 0x2aeca90>"
       ]
      },
      {
       "javascript": [
        "$('#1fd780c4-022f-4c23-b324-93d1707b818d div').first().width('94%')"
       ],
       "metadata": {},
       "output_type": "display_data",
       "text": [
        "<IPython.core.display.Javascript at 0x2aeca90>"
       ]
      },
      {
       "javascript": [
        "$('#1fd780c4-022f-4c23-b324-93d1707b818d div').first().width('94%')"
       ],
       "metadata": {},
       "output_type": "display_data",
       "text": [
        "<IPython.core.display.Javascript at 0x2aeca90>"
       ]
      },
      {
       "javascript": [
        "$('#1fd780c4-022f-4c23-b324-93d1707b818d div').first().width('96%')"
       ],
       "metadata": {},
       "output_type": "display_data",
       "text": [
        "<IPython.core.display.Javascript at 0x2aeca90>"
       ]
      },
      {
       "javascript": [
        "$('#1fd780c4-022f-4c23-b324-93d1707b818d div').first().width('99%')"
       ],
       "metadata": {},
       "output_type": "display_data",
       "text": [
        "<IPython.core.display.Javascript at 0x2aeca90>"
       ]
      },
      {
       "javascript": [
        "$('#1fd780c4-022f-4c23-b324-93d1707b818d div').first().width('100%')"
       ],
       "metadata": {},
       "output_type": "display_data",
       "text": [
        "<IPython.core.display.Javascript at 0x2aeca90>"
       ]
      },
      {
       "javascript": [
        "$('#1fd780c4-022f-4c23-b324-93d1707b818d span').first().text('Step 1 completed')"
       ],
       "metadata": {},
       "output_type": "display_data",
       "text": [
        "<IPython.core.display.Javascript at 0x2aeca90>"
       ]
      },
      {
       "html": [
        "\n",
        "            <div id=\"435e2406-72a4-40ef-b9a2-e258ea07da82\" class='status'>\n",
        "                <span class=\"label span2\">Step 2</span>\n",
        "                <span class=\"span7 progress\">\n",
        "                      <div class=\"bar\" style= \"width:0%\">&nbsp;</div>\n",
        "                </span>\n",
        "            </div>\n",
        "            "
       ],
       "metadata": {},
       "output_type": "display_data",
       "text": [
        "<IPython.core.display.HTML at 0x2aeca90>"
       ]
      },
      {
       "javascript": [
        "$('#435e2406-72a4-40ef-b9a2-e258ea07da82 div').first().width('0%')"
       ],
       "metadata": {},
       "output_type": "display_data",
       "text": [
        "<IPython.core.display.Javascript at 0x2aeca90>"
       ]
      },
      {
       "javascript": [
        "$('#435e2406-72a4-40ef-b9a2-e258ea07da82 div').first().width('37%')"
       ],
       "metadata": {},
       "output_type": "display_data",
       "text": [
        "<IPython.core.display.Javascript at 0x2aec7d0>"
       ]
      },
      {
       "javascript": [
        "$('#435e2406-72a4-40ef-b9a2-e258ea07da82 div').first().width('50%')"
       ],
       "metadata": {},
       "output_type": "display_data",
       "text": [
        "<IPython.core.display.Javascript at 0x2aec7d0>"
       ]
      },
      {
       "javascript": [
        "$('#435e2406-72a4-40ef-b9a2-e258ea07da82 div').first().width('57%')"
       ],
       "metadata": {},
       "output_type": "display_data",
       "text": [
        "<IPython.core.display.Javascript at 0x2aec7d0>"
       ]
      },
      {
       "javascript": [
        "$('#435e2406-72a4-40ef-b9a2-e258ea07da82 div').first().width('66%')"
       ],
       "metadata": {},
       "output_type": "display_data",
       "text": [
        "<IPython.core.display.Javascript at 0x2aec7d0>"
       ]
      },
      {
       "javascript": [
        "$('#435e2406-72a4-40ef-b9a2-e258ea07da82 div').first().width('71%')"
       ],
       "metadata": {},
       "output_type": "display_data",
       "text": [
        "<IPython.core.display.Javascript at 0x2aec7d0>"
       ]
      },
      {
       "javascript": [
        "$('#435e2406-72a4-40ef-b9a2-e258ea07da82 div').first().width('85%')"
       ],
       "metadata": {},
       "output_type": "display_data",
       "text": [
        "<IPython.core.display.Javascript at 0x2aec7d0>"
       ]
      },
      {
       "javascript": [
        "$('#435e2406-72a4-40ef-b9a2-e258ea07da82 div').first().width('88%')"
       ],
       "metadata": {},
       "output_type": "display_data",
       "text": [
        "<IPython.core.display.Javascript at 0x2aec7d0>"
       ]
      },
      {
       "javascript": [
        "$('#435e2406-72a4-40ef-b9a2-e258ea07da82 div').first().width('99%')"
       ],
       "metadata": {},
       "output_type": "display_data",
       "text": [
        "<IPython.core.display.Javascript at 0x2aec7d0>"
       ]
      },
      {
       "javascript": [
        "$('#435e2406-72a4-40ef-b9a2-e258ea07da82 div').first().width('100%')"
       ],
       "metadata": {},
       "output_type": "display_data",
       "text": [
        "<IPython.core.display.Javascript at 0x2aec7d0>"
       ]
      },
      {
       "javascript": [
        "$('#435e2406-72a4-40ef-b9a2-e258ea07da82 span').first().text('Step 2 completed')"
       ],
       "metadata": {},
       "output_type": "display_data",
       "text": [
        "<IPython.core.display.Javascript at 0x2aec7d0>"
       ]
      }
     ],
     "prompt_number": 13
    },
    {
     "cell_type": "heading",
     "level": 2,
     "metadata": {},
     "source": [
      "Read From Graph Database and Run Machine Learning Algorithms"
     ]
    },
    {
     "cell_type": "code",
     "collapsed": false,
     "input": [
      "%matplotlib inline\n",
      "report1 = graph.ml.gd(input_edge_property_list=\"rating\",\n",
      "       input_edge_label=\"rates\",\n",
      "       output_vertex_property_list=\"gd_p0,gd_p1,gd_p2,gd_bias\",\n",
      "       vertex_type=\"vertex_type\",\n",
      "       edge_type =\"splits\",\n",
      "       max_supersteps=\"20\",\n",
      "       feature_dimension=\"3\",\n",
      "       convergence_threshold=\"0\",\n",
      "       gd_lambda=\"0.0001\",\n",
      "       learning_output_interval=\"1\",\n",
      "       learning_rate=\"0.0001\",\n",
      "       bias_on=\"true\"\n",
      "      )"
     ],
     "language": "python",
     "metadata": {},
     "outputs": [
      {
       "html": [
        "\n",
        "            <div id=\"cb6796ba-2711-4453-8e4a-8fba915db07b\" class='status'>\n",
        "                <span class=\"label span2\">Initialization</span>\n",
        "                <span class=\"span7 progress\">\n",
        "                      <div class=\"bar\" style= \"width:0%\">&nbsp;</div>\n",
        "                </span>\n",
        "            </div>\n",
        "            "
       ],
       "metadata": {},
       "output_type": "display_data",
       "text": [
        "<IPython.core.display.HTML at 0x2bb6a90>"
       ]
      },
      {
       "javascript": [
        "$('#cb6796ba-2711-4453-8e4a-8fba915db07b span').last().addClass(\"progress-striped active\")"
       ],
       "metadata": {},
       "output_type": "display_data",
       "text": [
        "<IPython.core.display.Javascript at 0x2bb6a90>"
       ]
      },
      {
       "javascript": [
        "$('#cb6796ba-2711-4453-8e4a-8fba915db07b div').first().width('100%')"
       ],
       "metadata": {},
       "output_type": "display_data",
       "text": [
        "<IPython.core.display.Javascript at 0x2bb6a90>"
       ]
      },
      {
       "javascript": [
        "$('#cb6796ba-2711-4453-8e4a-8fba915db07b span').last().removeClass(\"progress-striped active\")"
       ],
       "metadata": {},
       "output_type": "display_data",
       "text": [
        "<IPython.core.display.Javascript at 0x2bb6d90>"
       ]
      },
      {
       "javascript": [
        "$('#cb6796ba-2711-4453-8e4a-8fba915db07b span').first().text('Initialization completed')"
       ],
       "metadata": {},
       "output_type": "display_data",
       "text": [
        "<IPython.core.display.Javascript at 0x2bb6dd0>"
       ]
      },
      {
       "html": [
        "\n",
        "            <div id=\"049323b6-59ba-40a6-b81e-1b9c1f04fcfa\" class='status'>\n",
        "                <span class=\"label span2\">Step 1</span>\n",
        "                <span class=\"span7 progress\">\n",
        "                      <div class=\"bar\" style= \"width:0%\">&nbsp;</div>\n",
        "                </span>\n",
        "            </div>\n",
        "            "
       ],
       "metadata": {},
       "output_type": "display_data",
       "text": [
        "<IPython.core.display.HTML at 0x2bb6e10>"
       ]
      },
      {
       "javascript": [
        "$('#049323b6-59ba-40a6-b81e-1b9c1f04fcfa div').first().width('0%')"
       ],
       "metadata": {},
       "output_type": "display_data",
       "text": [
        "<IPython.core.display.Javascript at 0x2bb6e50>"
       ]
      },
      {
       "javascript": [
        "$('#049323b6-59ba-40a6-b81e-1b9c1f04fcfa div').first().width('66%')"
       ],
       "metadata": {},
       "output_type": "display_data",
       "text": [
        "<IPython.core.display.Javascript at 0x2bb6e50>"
       ]
      },
      {
       "javascript": [
        "$('#049323b6-59ba-40a6-b81e-1b9c1f04fcfa div').first().width('100%')"
       ],
       "metadata": {},
       "output_type": "display_data",
       "text": [
        "<IPython.core.display.Javascript at 0x2bb6e50>"
       ]
      },
      {
       "javascript": [
        "$('#049323b6-59ba-40a6-b81e-1b9c1f04fcfa span').first().text('Step 1 completed')"
       ],
       "metadata": {},
       "output_type": "display_data",
       "text": [
        "<IPython.core.display.Javascript at 0x2bb6e50>"
       ]
      },
      {
       "html": [
        "\n",
        "            <div id=\"579d4d3a-ae1a-47aa-802c-ca7468b71657\" class='status'>\n",
        "                <span class=\"label span2\">Step 2</span>\n",
        "                <span class=\"span7 progress\">\n",
        "                      <div class=\"bar\" style= \"width:0%\">&nbsp;</div>\n",
        "                </span>\n",
        "            </div>\n",
        "            "
       ],
       "metadata": {},
       "output_type": "display_data",
       "text": [
        "<IPython.core.display.HTML at 0x2bb6dd0>"
       ]
      },
      {
       "javascript": [
        "$('#579d4d3a-ae1a-47aa-802c-ca7468b71657 span').last().addClass(\"progress-striped active\")"
       ],
       "metadata": {},
       "output_type": "display_data",
       "text": [
        "<IPython.core.display.Javascript at 0x2bb6dd0>"
       ]
      },
      {
       "javascript": [
        "$('#579d4d3a-ae1a-47aa-802c-ca7468b71657 div').first().width('100%')"
       ],
       "metadata": {},
       "output_type": "display_data",
       "text": [
        "<IPython.core.display.Javascript at 0x2bb6dd0>"
       ]
      },
      {
       "javascript": [
        "$('#579d4d3a-ae1a-47aa-802c-ca7468b71657 span').last().addClass(\"progress-striped active\")"
       ],
       "metadata": {},
       "output_type": "display_data",
       "text": [
        "<IPython.core.display.Javascript at 0x2bb6dd0>"
       ]
      },
      {
       "javascript": [
        "$('#579d4d3a-ae1a-47aa-802c-ca7468b71657 span').last().removeClass(\"progress-striped active\")"
       ],
       "metadata": {},
       "output_type": "display_data",
       "text": [
        "<IPython.core.display.Javascript at 0x2bb6dd0>"
       ]
      },
      {
       "javascript": [
        "$('#579d4d3a-ae1a-47aa-802c-ca7468b71657 span').first().text('Step 2 completed')"
       ],
       "metadata": {},
       "output_type": "display_data",
       "text": [
        "<IPython.core.display.Javascript at 0x2bb6dd0>"
       ]
      },
      {
       "metadata": {},
       "output_type": "display_data",
       "png": "[encoded data removed]",
       "text": [
        "<matplotlib.figure.Figure at 0x2bb6a50>"
       ]
      }
     ],
     "prompt_number": 14
    },
    {
     "cell_type": "code",
     "collapsed": false,
     "input": [
      "graph.ml.gd?"
     ],
     "language": "python",
     "metadata": {},
     "outputs": [],
     "prompt_number": 15
    },
    {
     "cell_type": "code",
     "collapsed": false,
     "input": [
      "report1.start_time\n"
     ],
     "language": "python",
     "metadata": {},
     "outputs": [
      {
       "metadata": {},
       "output_type": "pyout",
       "prompt_number": 16,
       "text": [
        "'_2014-01-14-16-45-11'"
       ]
      }
     ],
     "prompt_number": 16
    },
    {
     "cell_type": "code",
     "collapsed": false,
     "input": [
      "report1.graph_name"
     ],
     "language": "python",
     "metadata": {},
     "outputs": [
      {
       "metadata": {},
       "output_type": "pyout",
       "prompt_number": 17,
       "text": [
        "'mygraph'"
       ]
      }
     ],
     "prompt_number": 17
    },
    {
     "cell_type": "code",
     "collapsed": false,
     "input": [
      "graph.user_graph_name"
     ],
     "language": "python",
     "metadata": {},
     "outputs": [
      {
       "metadata": {},
       "output_type": "pyout",
       "prompt_number": 18,
       "text": [
        "'mygraph'"
       ]
      }
     ],
     "prompt_number": 18
    },
    {
     "cell_type": "code",
     "collapsed": false,
     "input": [
      "report1.cost_train"
     ],
     "language": "python",
     "metadata": {},
     "outputs": [
      {
       "metadata": {},
       "output_type": "pyout",
       "prompt_number": 19,
       "text": [
        "['6260.252352223973',\n",
        " '1457.987232683666',\n",
        " '1318.6315499724637',\n",
        " '1308.229902956001',\n",
        " '1306.5014924869708',\n",
        " '1305.8392191584257',\n",
        " '1305.3720207742724',\n",
        " '1304.9479170631914',\n",
        " '1304.5342175127846',\n",
        " '1304.1232651910025']"
       ]
      }
     ],
     "prompt_number": 19
    },
    {
     "cell_type": "code",
     "collapsed": false,
     "input": [
      "report1.cost_train"
     ],
     "language": "python",
     "metadata": {},
     "outputs": [
      {
       "metadata": {},
       "output_type": "pyout",
       "prompt_number": 20,
       "text": [
        "['6260.252352223973',\n",
        " '1457.987232683666',\n",
        " '1318.6315499724637',\n",
        " '1308.229902956001',\n",
        " '1306.5014924869708',\n",
        " '1305.8392191584257',\n",
        " '1305.3720207742724',\n",
        " '1304.9479170631914',\n",
        " '1304.5342175127846',\n",
        " '1304.1232651910025']"
       ]
      }
     ],
     "prompt_number": 20
    },
    {
     "cell_type": "code",
     "collapsed": false,
     "input": [
      "report1.rmse_validate"
     ],
     "language": "python",
     "metadata": {},
     "outputs": [
      {
       "metadata": {},
       "output_type": "pyout",
       "prompt_number": 21,
       "text": [
        "['3.3687091591523477',\n",
        " '1.9972910698330502',\n",
        " '1.9779939563250761',\n",
        " '1.976908456655053',\n",
        " '1.976676143904327',\n",
        " '1.9765177698288288',\n",
        " '1.9763678834081064',\n",
        " '1.976219108080247',\n",
        " '1.9760705355252597',\n",
        " '1.9759220735725884']"
       ]
      }
     ],
     "prompt_number": 21
    },
    {
     "cell_type": "code",
     "collapsed": false,
     "input": [
      "report1.rmse_test"
     ],
     "language": "python",
     "metadata": {},
     "outputs": [
      {
       "metadata": {},
       "output_type": "pyout",
       "prompt_number": 22,
       "text": [
        "['2.3424066674169546',\n",
        " '2.6546667694936463',\n",
        " '2.456878442523729',\n",
        " '2.374019309419799',\n",
        " '2.349485518013131',\n",
        " '2.342979892689897',\n",
        " '2.341418949482378',\n",
        " '2.341152547184818',\n",
        " '2.3412174177670972',\n",
        " '2.3413659615808005']"
       ]
      }
     ],
     "prompt_number": 22
    },
    {
     "cell_type": "code",
     "collapsed": false,
     "input": [
      "report2 = graph.ml.als(input_edge_property_list=\"rating\",\n",
      "       input_edge_label=\"rates\",\n",
      "       output_vertex_property_list=\"als_p0,als_p1,als_p2,als_bias\",\n",
      "       vertex_type=\"vertex_type\",\n",
      "       edge_type =\"splits\",\n",
      "       max_supersteps=\"20\",\n",
      "       feature_dimension=\"3\",\n",
      "       convergence_threshold=\"0\",\n",
      "       als_lambda=\"0.065\",\n",
      "       learning_output_interval=\"1\",\n",
      "       bias_on=\"true\"\n",
      "      )"
     ],
     "language": "python",
     "metadata": {},
     "outputs": [
      {
       "html": [
        "\n",
        "            <div id=\"7a33d6f2-6d9d-4da1-aba5-27c3aaa1b1d8\" class='status'>\n",
        "                <span class=\"label span2\">Initialization</span>\n",
        "                <span class=\"span7 progress\">\n",
        "                      <div class=\"bar\" style= \"width:0%\">&nbsp;</div>\n",
        "                </span>\n",
        "            </div>\n",
        "            "
       ],
       "metadata": {},
       "output_type": "display_data",
       "text": [
        "<IPython.core.display.HTML at 0x2d7a750>"
       ]
      },
      {
       "javascript": [
        "$('#7a33d6f2-6d9d-4da1-aba5-27c3aaa1b1d8 span').last().addClass(\"progress-striped active\")"
       ],
       "metadata": {},
       "output_type": "display_data",
       "text": [
        "<IPython.core.display.Javascript at 0x2752610>"
       ]
      },
      {
       "javascript": [
        "$('#7a33d6f2-6d9d-4da1-aba5-27c3aaa1b1d8 div').first().width('100%')"
       ],
       "metadata": {},
       "output_type": "display_data",
       "text": [
        "<IPython.core.display.Javascript at 0x2752610>"
       ]
      },
      {
       "javascript": [
        "$('#7a33d6f2-6d9d-4da1-aba5-27c3aaa1b1d8 span').last().removeClass(\"progress-striped active\")"
       ],
       "metadata": {},
       "output_type": "display_data",
       "text": [
        "<IPython.core.display.Javascript at 0x2d7aad0>"
       ]
      },
      {
       "javascript": [
        "$('#7a33d6f2-6d9d-4da1-aba5-27c3aaa1b1d8 span').first().text('Initialization completed')"
       ],
       "metadata": {},
       "output_type": "display_data",
       "text": [
        "<IPython.core.display.Javascript at 0x2d7ab50>"
       ]
      },
      {
       "html": [
        "\n",
        "            <div id=\"9289705c-d20c-4f8d-9b9a-d9c5dfe04571\" class='status'>\n",
        "                <span class=\"label span2\">Step 1</span>\n",
        "                <span class=\"span7 progress\">\n",
        "                      <div class=\"bar\" style= \"width:0%\">&nbsp;</div>\n",
        "                </span>\n",
        "            </div>\n",
        "            "
       ],
       "metadata": {},
       "output_type": "display_data",
       "text": [
        "<IPython.core.display.HTML at 0x2d7aa10>"
       ]
      },
      {
       "javascript": [
        "$('#9289705c-d20c-4f8d-9b9a-d9c5dfe04571 div').first().width('0%')"
       ],
       "metadata": {},
       "output_type": "display_data",
       "text": [
        "<IPython.core.display.Javascript at 0x2d7ac10>"
       ]
      },
      {
       "javascript": [
        "$('#9289705c-d20c-4f8d-9b9a-d9c5dfe04571 div').first().width('100%')"
       ],
       "metadata": {},
       "output_type": "display_data",
       "text": [
        "<IPython.core.display.Javascript at 0x2d7ac10>"
       ]
      },
      {
       "javascript": [
        "$('#9289705c-d20c-4f8d-9b9a-d9c5dfe04571 span').first().text('Step 1 completed')"
       ],
       "metadata": {},
       "output_type": "display_data",
       "text": [
        "<IPython.core.display.Javascript at 0x2d7ac10>"
       ]
      },
      {
       "html": [
        "\n",
        "            <div id=\"41e68267-2a11-4e6d-9d9a-d279d2ea2911\" class='status'>\n",
        "                <span class=\"label span2\">Step 2</span>\n",
        "                <span class=\"span7 progress\">\n",
        "                      <div class=\"bar\" style= \"width:0%\">&nbsp;</div>\n",
        "                </span>\n",
        "            </div>\n",
        "            "
       ],
       "metadata": {},
       "output_type": "display_data",
       "text": [
        "<IPython.core.display.HTML at 0x2d7aa10>"
       ]
      },
      {
       "javascript": [
        "$('#41e68267-2a11-4e6d-9d9a-d279d2ea2911 span').last().addClass(\"progress-striped active\")"
       ],
       "metadata": {},
       "output_type": "display_data",
       "text": [
        "<IPython.core.display.Javascript at 0x2d7aa10>"
       ]
      },
      {
       "javascript": [
        "$('#41e68267-2a11-4e6d-9d9a-d279d2ea2911 div').first().width('100%')"
       ],
       "metadata": {},
       "output_type": "display_data",
       "text": [
        "<IPython.core.display.Javascript at 0x2d7aa10>"
       ]
      },
      {
       "javascript": [
        "$('#41e68267-2a11-4e6d-9d9a-d279d2ea2911 span').last().addClass(\"progress-striped active\")"
       ],
       "metadata": {},
       "output_type": "display_data",
       "text": [
        "<IPython.core.display.Javascript at 0x2d7aa10>"
       ]
      },
      {
       "javascript": [
        "$('#41e68267-2a11-4e6d-9d9a-d279d2ea2911 span').last().removeClass(\"progress-striped active\")"
       ],
       "metadata": {},
       "output_type": "display_data",
       "text": [
        "<IPython.core.display.Javascript at 0x2d7aa10>"
       ]
      },
      {
       "javascript": [
        "$('#41e68267-2a11-4e6d-9d9a-d279d2ea2911 span').first().text('Step 2 completed')"
       ],
       "metadata": {},
       "output_type": "display_data",
       "text": [
        "<IPython.core.display.Javascript at 0x2d7aa10>"
       ]
      },
      {
       "metadata": {},
       "output_type": "display_data",
       "png": "[encoded data removed]",
       "text": [
        "<matplotlib.figure.Figure at 0x2d7ab50>"
       ]
      }
     ],
     "prompt_number": 23
    },
    {
     "cell_type": "code",
     "collapsed": false,
     "input": [
      "report2.cost_train"
     ],
     "language": "python",
     "metadata": {},
     "outputs": [
      {
       "metadata": {},
       "output_type": "pyout",
       "prompt_number": 24,
       "text": [
        "['842.4995227409529',\n",
        " '658.3136537981824',\n",
        " '595.0890539390623',\n",
        " '552.2551898905667',\n",
        " '519.6778153769249',\n",
        " '494.3419871055086',\n",
        " '474.57420416757515',\n",
        " '458.40171096449103',\n",
        " '444.83394343572564',\n",
        " '433.3470632265239']"
       ]
      }
     ],
     "prompt_number": 24
    },
    {
     "cell_type": "code",
     "collapsed": false,
     "input": [
      "report2.rmse_validate"
     ],
     "language": "python",
     "metadata": {},
     "outputs": [
      {
       "metadata": {},
       "output_type": "pyout",
       "prompt_number": 25,
       "text": [
        "['1.3033874314075413',\n",
        " '1.2091642641936025',\n",
        " '1.1839833241022324',\n",
        " '1.163509949194824',\n",
        " '1.1475008679521168',\n",
        " '1.1382225471329575',\n",
        " '1.1326148363701276',\n",
        " '1.1279623141163997',\n",
        " '1.1240900350448855',\n",
        " '1.1204252814166202']"
       ]
      }
     ],
     "prompt_number": 25
    },
    {
     "cell_type": "code",
     "collapsed": false,
     "input": [
      "report2.rmse_test"
     ],
     "language": "python",
     "metadata": {},
     "outputs": [
      {
       "metadata": {},
       "output_type": "pyout",
       "prompt_number": 26,
       "text": [
        "['3.5492909539410995',\n",
        " '3.5635788198092158',\n",
        " '3.4231376843740673',\n",
        " '3.3820794978393343',\n",
        " '3.3427889890622935',\n",
        " '3.290585871512305',\n",
        " '3.2372070251414526',\n",
        " '3.1872726102483684',\n",
        " '3.145086897287726',\n",
        " '3.109407750740189']"
       ]
      }
     ],
     "prompt_number": 26
    },
    {
     "cell_type": "code",
     "collapsed": false,
     "input": [
      "report1.exec_time"
     ],
     "language": "python",
     "metadata": {},
     "outputs": [
      {
       "metadata": {},
       "output_type": "pyout",
       "prompt_number": 27,
       "text": [
        "'92.0480678082 seconds'"
       ]
      }
     ],
     "prompt_number": 27
    },
    {
     "cell_type": "code",
     "collapsed": false,
     "input": [
      "report2.exec_time"
     ],
     "language": "python",
     "metadata": {},
     "outputs": [
      {
       "metadata": {},
       "output_type": "pyout",
       "prompt_number": 28,
       "text": [
        "'98.1371181011 seconds'"
       ]
      }
     ],
     "prompt_number": 28
    },
    {
     "cell_type": "code",
     "collapsed": false,
     "input": [
      "report3 = graph.ml.cgd(input_edge_property_list=\"rating\",\n",
      "       input_edge_label=\"rates\",\n",
      "       output_vertex_property_list=\"cgd_p0,cgd_p1,cgd_p2,cgd_bias\",\n",
      "       vertex_type=\"vertex_type\",\n",
      "       edge_type =\"splits\",\n",
      "       max_supersteps=\"20\",\n",
      "       feature_dimension=\"3\",\n",
      "       convergence_threshold=\"0\",\n",
      "       cgd_lambda=\"0.065\",\n",
      "       learning_output_interval=\"1\",\n",
      "       bias_on=\"true\",\n",
      "       num_iters='3'\n",
      "      )"
     ],
     "language": "python",
     "metadata": {},
     "outputs": [
      {
       "html": [
        "\n",
        "            <div id=\"47b670a0-c263-49db-bddb-76d2de48209c\" class='status'>\n",
        "                <span class=\"label span2\">Initialization</span>\n",
        "                <span class=\"span7 progress\">\n",
        "                      <div class=\"bar\" style= \"width:0%\">&nbsp;</div>\n",
        "                </span>\n",
        "            </div>\n",
        "            "
       ],
       "metadata": {},
       "output_type": "display_data",
       "text": [
        "<IPython.core.display.HTML at 0x2bde610>"
       ]
      },
      {
       "javascript": [
        "$('#47b670a0-c263-49db-bddb-76d2de48209c span').last().addClass(\"progress-striped active\")"
       ],
       "metadata": {},
       "output_type": "display_data",
       "text": [
        "<IPython.core.display.Javascript at 0x2bde610>"
       ]
      },
      {
       "javascript": [
        "$('#47b670a0-c263-49db-bddb-76d2de48209c div').first().width('100%')"
       ],
       "metadata": {},
       "output_type": "display_data",
       "text": [
        "<IPython.core.display.Javascript at 0x2bde610>"
       ]
      },
      {
       "javascript": [
        "$('#47b670a0-c263-49db-bddb-76d2de48209c span').last().removeClass(\"progress-striped active\")"
       ],
       "metadata": {},
       "output_type": "display_data",
       "text": [
        "<IPython.core.display.Javascript at 0x2bb6d90>"
       ]
      },
      {
       "javascript": [
        "$('#47b670a0-c263-49db-bddb-76d2de48209c span').first().text('Initialization completed')"
       ],
       "metadata": {},
       "output_type": "display_data",
       "text": [
        "<IPython.core.display.Javascript at 0x2bb6b90>"
       ]
      },
      {
       "html": [
        "\n",
        "            <div id=\"770689e8-f4f3-4782-8497-de1f812169e5\" class='status'>\n",
        "                <span class=\"label span2\">Step 1</span>\n",
        "                <span class=\"span7 progress\">\n",
        "                      <div class=\"bar\" style= \"width:0%\">&nbsp;</div>\n",
        "                </span>\n",
        "            </div>\n",
        "            "
       ],
       "metadata": {},
       "output_type": "display_data",
       "text": [
        "<IPython.core.display.HTML at 0x2bb6a50>"
       ]
      },
      {
       "javascript": [
        "$('#770689e8-f4f3-4782-8497-de1f812169e5 div').first().width('0%')"
       ],
       "metadata": {},
       "output_type": "display_data",
       "text": [
        "<IPython.core.display.Javascript at 0x2bb6990>"
       ]
      },
      {
       "javascript": [
        "$('#770689e8-f4f3-4782-8497-de1f812169e5 div').first().width('33%')"
       ],
       "metadata": {},
       "output_type": "display_data",
       "text": [
        "<IPython.core.display.Javascript at 0x2bb6990>"
       ]
      },
      {
       "javascript": [
        "$('#770689e8-f4f3-4782-8497-de1f812169e5 div').first().width('100%')"
       ],
       "metadata": {},
       "output_type": "display_data",
       "text": [
        "<IPython.core.display.Javascript at 0x2bb6990>"
       ]
      },
      {
       "javascript": [
        "$('#770689e8-f4f3-4782-8497-de1f812169e5 span').first().text('Step 1 completed')"
       ],
       "metadata": {},
       "output_type": "display_data",
       "text": [
        "<IPython.core.display.Javascript at 0x2bb6990>"
       ]
      },
      {
       "html": [
        "\n",
        "            <div id=\"f378b73a-d079-46b9-bc1d-664c9290ac33\" class='status'>\n",
        "                <span class=\"label span2\">Step 2</span>\n",
        "                <span class=\"span7 progress\">\n",
        "                      <div class=\"bar\" style= \"width:0%\">&nbsp;</div>\n",
        "                </span>\n",
        "            </div>\n",
        "            "
       ],
       "metadata": {},
       "output_type": "display_data",
       "text": [
        "<IPython.core.display.HTML at 0x2bb6b90>"
       ]
      },
      {
       "javascript": [
        "$('#f378b73a-d079-46b9-bc1d-664c9290ac33 span').last().addClass(\"progress-striped active\")"
       ],
       "metadata": {},
       "output_type": "display_data",
       "text": [
        "<IPython.core.display.Javascript at 0x2bb6b90>"
       ]
      },
      {
       "javascript": [
        "$('#f378b73a-d079-46b9-bc1d-664c9290ac33 div').first().width('100%')"
       ],
       "metadata": {},
       "output_type": "display_data",
       "text": [
        "<IPython.core.display.Javascript at 0x2bb6b90>"
       ]
      },
      {
       "javascript": [
        "$('#f378b73a-d079-46b9-bc1d-664c9290ac33 span').last().addClass(\"progress-striped active\")"
       ],
       "metadata": {},
       "output_type": "display_data",
       "text": [
        "<IPython.core.display.Javascript at 0x2bb6b90>"
       ]
      },
      {
       "javascript": [
        "$('#f378b73a-d079-46b9-bc1d-664c9290ac33 span').last().removeClass(\"progress-striped active\")"
       ],
       "metadata": {},
       "output_type": "display_data",
       "text": [
        "<IPython.core.display.Javascript at 0x2bb6b90>"
       ]
      },
      {
       "javascript": [
        "$('#f378b73a-d079-46b9-bc1d-664c9290ac33 span').first().text('Step 2 completed')"
       ],
       "metadata": {},
       "output_type": "display_data",
       "text": [
        "<IPython.core.display.Javascript at 0x2bb6b90>"
       ]
      },
      {
       "metadata": {},
       "output_type": "display_data",
       "png": "[encoded data removed]",
       "text": [
        "<matplotlib.figure.Figure at 0x2bde610>"
       ]
      }
     ],
     "prompt_number": 29
    },
    {
     "cell_type": "code",
     "collapsed": false,
     "input": [
      "report3.cost_train"
     ],
     "language": "python",
     "metadata": {},
     "outputs": [
      {
       "metadata": {},
       "output_type": "pyout",
       "prompt_number": 30,
       "text": [
        "['865.622645519334',\n",
        " '769.1172463058037',\n",
        " '694.2267037381984',\n",
        " '640.7153433266442',\n",
        " '598.4117223397687',\n",
        " '564.313720199715',\n",
        " '535.8153014599758',\n",
        " '512.0499134686086',\n",
        " '492.24122790421774',\n",
        " '474.9743222557942']"
       ]
      }
     ],
     "prompt_number": 30
    },
    {
     "cell_type": "code",
     "collapsed": false,
     "input": [
      "report3.rmse_validate"
     ],
     "language": "python",
     "metadata": {},
     "outputs": [
      {
       "metadata": {},
       "output_type": "pyout",
       "prompt_number": 31,
       "text": [
        "['1.3632804823816822',\n",
        " '1.2716829385162332',\n",
        " '1.2231749756878447',\n",
        " '1.1889872529090417',\n",
        " '1.1688259188361938',\n",
        " '1.1512857729956723',\n",
        " '1.1470777668840393',\n",
        " '1.1400456742403173',\n",
        " '1.1354583273325278',\n",
        " '1.1296443000059302']"
       ]
      }
     ],
     "prompt_number": 31
    },
    {
     "cell_type": "code",
     "collapsed": false,
     "input": [
      "report3.rmse_test"
     ],
     "language": "python",
     "metadata": {},
     "outputs": [
      {
       "metadata": {},
       "output_type": "pyout",
       "prompt_number": 32,
       "text": [
        "['3.4931995324407024',\n",
        " '3.554321678396789',\n",
        " '3.5829749185732602',\n",
        " '3.625698101638093',\n",
        " '3.6085159425509983',\n",
        " '3.584251576801061',\n",
        " '3.5798261403171554',\n",
        " '3.609374794656656',\n",
        " '3.585564734200316',\n",
        " '3.5633598651070337']"
       ]
      }
     ],
     "prompt_number": 32
    },
    {
     "cell_type": "heading",
     "level": 2,
     "metadata": {},
     "source": [
      "Recommendation Based on Trained Model"
     ]
    },
    {
     "cell_type": "code",
     "collapsed": false,
     "input": [
      "rec1=graph.ml.recommend('10001')"
     ],
     "language": "python",
     "metadata": {},
     "outputs": [
      {
       "html": [
        "\n",
        "            <div id=\"e379b9e8-192c-4d2b-9884-945c3aefd310\" class='status'>\n",
        "                <span class=\"label span2\">Progress</span>\n",
        "                <span class=\"span7 progress\">\n",
        "                      <div class=\"bar\" style= \"width:0%\">&nbsp;</div>\n",
        "                </span>\n",
        "            </div>\n",
        "            "
       ],
       "metadata": {},
       "output_type": "display_data",
       "text": [
        "<IPython.core.display.HTML at 0x2f93e90>"
       ]
      },
      {
       "javascript": [
        "$('#e379b9e8-192c-4d2b-9884-945c3aefd310 span').last().addClass(\"progress-striped active\")"
       ],
       "metadata": {},
       "output_type": "display_data",
       "text": [
        "<IPython.core.display.Javascript at 0x1e60c90>"
       ]
      },
      {
       "javascript": [
        "$('#e379b9e8-192c-4d2b-9884-945c3aefd310 div').first().width('100%')"
       ],
       "metadata": {},
       "output_type": "display_data",
       "text": [
        "<IPython.core.display.Javascript at 0x1e60c90>"
       ]
      },
      {
       "javascript": [
        "$('#e379b9e8-192c-4d2b-9884-945c3aefd310 span').last().removeClass(\"progress-striped active\")"
       ],
       "metadata": {},
       "output_type": "display_data",
       "text": [
        "<IPython.core.display.Javascript at 0x2f93c10>"
       ]
      },
      {
       "javascript": [
        "$('#e379b9e8-192c-4d2b-9884-945c3aefd310 span').first().text('Execution completed')"
       ],
       "metadata": {},
       "output_type": "display_data",
       "text": [
        "<IPython.core.display.Javascript at 0x2f93c10>"
       ]
      },
      {
       "output_type": "stream",
       "stream": "stdout",
       "text": [
        "================Top 10 recommendations to user: 10001================"
       ]
      },
      {
       "output_type": "stream",
       "stream": "stdout",
       "text": [
        "\n",
        "movie      -121       =>         score      4.3260210931508825\n",
        "movie      -53        =>         score      4.024292938425667\n",
        "movie      -422       =>         score      3.9210754798644505\n",
        "movie      -323       =>         score      3.8966793904271175\n",
        "movie      -388       =>         score      3.893902641371471\n",
        "movie      -466       =>         score      3.585416688824728\n",
        "movie      -440       =>         score      3.5276047107506012\n",
        "movie      -351       =>         score      3.4914032297401536\n",
        "movie      -429       =>         score      3.4161701281950867\n",
        "movie      -395       =>         score      3.3798663930934083\n",
        "movie      -324       =>         score      3.355304843399546\n"
       ]
      }
     ],
     "prompt_number": 33
    },
    {
     "cell_type": "raw",
     "metadata": {},
     "source": []
    },
    {
     "cell_type": "code",
     "collapsed": false,
     "input": [
      "rec2=graph.ml.recommend('-92')"
     ],
     "language": "python",
     "metadata": {},
     "outputs": [
      {
       "html": [
        "\n",
        "            <div id=\"d1a01199-4d21-425e-a740-1f326259e54d\" class='status'>\n",
        "                <span class=\"label span2\">Progress</span>\n",
        "                <span class=\"span7 progress\">\n",
        "                      <div class=\"bar\" style= \"width:0%\">&nbsp;</div>\n",
        "                </span>\n",
        "            </div>\n",
        "            "
       ],
       "metadata": {},
       "output_type": "display_data",
       "text": [
        "<IPython.core.display.HTML at 0x2f93990>"
       ]
      },
      {
       "javascript": [
        "$('#d1a01199-4d21-425e-a740-1f326259e54d span').last().addClass(\"progress-striped active\")"
       ],
       "metadata": {},
       "output_type": "display_data",
       "text": [
        "<IPython.core.display.Javascript at 0x2f93990>"
       ]
      },
      {
       "javascript": [
        "$('#d1a01199-4d21-425e-a740-1f326259e54d div').first().width('100%')"
       ],
       "metadata": {},
       "output_type": "display_data",
       "text": [
        "<IPython.core.display.Javascript at 0x2f93990>"
       ]
      },
      {
       "javascript": [
        "$('#d1a01199-4d21-425e-a740-1f326259e54d span').last().removeClass(\"progress-striped active\")"
       ],
       "metadata": {},
       "output_type": "display_data",
       "text": [
        "<IPython.core.display.Javascript at 0x2f93290>"
       ]
      },
      {
       "javascript": [
        "$('#d1a01199-4d21-425e-a740-1f326259e54d span').first().text('Execution completed')"
       ],
       "metadata": {},
       "output_type": "display_data",
       "text": [
        "<IPython.core.display.Javascript at 0x2f93290>"
       ]
      },
      {
       "output_type": "stream",
       "stream": "stdout",
       "text": [
        "================Top 10 recommendations to movie: -92================"
       ]
      },
      {
       "output_type": "stream",
       "stream": "stdout",
       "text": [
        "\n",
        "user       8254       =>         score      8.005610487689978\n",
        "user       585        =>         score      7.448320569779113\n",
        "user       738        =>         score      7.40055228126067\n",
        "user       9640       =>         score      7.393521212749541\n",
        "user       9891       =>         score      7.382650802019277\n",
        "user       4603       =>         score      7.348525204203324\n",
        "user       7630       =>         score      7.259921191036423\n",
        "user       2120       =>         score      7.234183947783764\n",
        "user       7617       =>         score      7.1736304523913725\n",
        "user       8540       =>         score      7.158644326117683\n",
        "user       2057       =>         score      7.1346591693418455\n"
       ]
      }
     ],
     "prompt_number": 34
    },
    {
     "cell_type": "code",
     "collapsed": false,
     "input": [
      "rec3=graph.ml.recommend('60001')"
     ],
     "language": "python",
     "metadata": {},
     "outputs": [
      {
       "html": [
        "\n",
        "            <div id=\"dcd9ae2d-dab4-41fc-ba92-ee9cdee2907b\" class='status'>\n",
        "                <span class=\"label span2\">Progress</span>\n",
        "                <span class=\"span7 progress\">\n",
        "                      <div class=\"bar\" style= \"width:0%\">&nbsp;</div>\n",
        "                </span>\n",
        "            </div>\n",
        "            "
       ],
       "metadata": {},
       "output_type": "display_data",
       "text": [
        "<IPython.core.display.HTML at 0x2f93b90>"
       ]
      },
      {
       "javascript": [
        "$('#dcd9ae2d-dab4-41fc-ba92-ee9cdee2907b span').last().addClass(\"progress-striped active\")"
       ],
       "metadata": {},
       "output_type": "display_data",
       "text": [
        "<IPython.core.display.Javascript at 0x2f93b90>"
       ]
      },
      {
       "javascript": [
        "$('#dcd9ae2d-dab4-41fc-ba92-ee9cdee2907b div').first().width('100%')"
       ],
       "metadata": {},
       "output_type": "display_data",
       "text": [
        "<IPython.core.display.Javascript at 0x2f93b90>"
       ]
      },
      {
       "javascript": [
        "$('#dcd9ae2d-dab4-41fc-ba92-ee9cdee2907b span').first().text('Execution failed')"
       ],
       "metadata": {},
       "output_type": "display_data",
       "text": [
        "<IPython.core.display.Javascript at 0x2f93c10>"
       ]
      },
      {
       "javascript": [
        "$('#dcd9ae2d-dab4-41fc-ba92-ee9cdee2907b span').last().removeClass(\"progress-striped active\")"
       ],
       "metadata": {},
       "output_type": "display_data",
       "text": [
        "<IPython.core.display.Javascript at 0x2f93c10>"
       ]
      },
      {
       "javascript": [
        "$('#dcd9ae2d-dab4-41fc-ba92-ee9cdee2907b span').last().addClass(\"progress-danger\")"
       ],
       "metadata": {},
       "output_type": "display_data",
       "text": [
        "<IPython.core.display.Javascript at 0x2f93c10>"
       ]
      },
      {
       "output_type": "stream",
       "stream": "stdout",
       "text": [
        "javax.script.ScriptException: com.tinkerpop.pipes.util.FastNoSuchElementException\n",
        "\n"
       ]
      }
     ],
     "prompt_number": 35
    },
    {
     "cell_type": "heading",
     "level": 2,
     "metadata": {},
     "source": [
      "Compare Different Runs"
     ]
    },
    {
     "cell_type": "code",
     "collapsed": false,
     "input": [
      "report2.exec_time"
     ],
     "language": "python",
     "metadata": {},
     "outputs": [
      {
       "metadata": {},
       "output_type": "pyout",
       "prompt_number": 36,
       "text": [
        "'98.1371181011 seconds'"
       ]
      }
     ],
     "prompt_number": 36
    },
    {
     "cell_type": "code",
     "collapsed": false,
     "input": [
      "report3.exec_time"
     ],
     "language": "python",
     "metadata": {},
     "outputs": [
      {
       "metadata": {},
       "output_type": "pyout",
       "prompt_number": 37,
       "text": [
        "'97.5695130825 seconds'"
       ]
      }
     ],
     "prompt_number": 37
    },
    {
     "cell_type": "code",
     "collapsed": false,
     "input": [
      "report1.exec_time"
     ],
     "language": "python",
     "metadata": {},
     "outputs": [
      {
       "metadata": {},
       "output_type": "pyout",
       "prompt_number": 38,
       "text": [
        "'92.0480678082 seconds'"
       ]
      }
     ],
     "prompt_number": 38
    },
    {
     "cell_type": "code",
     "collapsed": false,
     "input": [
      "report1.start_time"
     ],
     "language": "python",
     "metadata": {},
     "outputs": [
      {
       "metadata": {},
       "output_type": "pyout",
       "prompt_number": 39,
       "text": [
        "'_2014-01-14-16-45-11'"
       ]
      }
     ],
     "prompt_number": 39
    },
    {
     "cell_type": "code",
     "collapsed": false,
     "input": [
      "print graph.ml.report[0].exec_time"
     ],
     "language": "python",
     "metadata": {},
     "outputs": [
      {
       "output_type": "stream",
       "stream": "stdout",
       "text": [
        "92.0480678082 seconds\n"
       ]
      }
     ],
     "prompt_number": 40
    },
    {
     "cell_type": "code",
     "collapsed": false,
     "input": [
      "print graph.ml.report[1].exec_time"
     ],
     "language": "python",
     "metadata": {},
     "outputs": [
      {
       "output_type": "stream",
       "stream": "stdout",
       "text": [
        "98.1371181011 seconds\n"
       ]
      }
     ],
     "prompt_number": 41
    },
    {
     "cell_type": "code",
     "collapsed": false,
     "input": [
      "print graph.ml.report[2].exec_time"
     ],
     "language": "python",
     "metadata": {},
     "outputs": [
      {
       "output_type": "stream",
       "stream": "stdout",
       "text": [
        "97.5695130825 seconds\n"
       ]
      }
     ],
     "prompt_number": 42
    },
    {
     "cell_type": "code",
     "collapsed": false,
     "input": [
      "report1.cost_train"
     ],
     "language": "python",
     "metadata": {},
     "outputs": [
      {
       "metadata": {},
       "output_type": "pyout",
       "prompt_number": 43,
       "text": [
        "['6260.252352223973',\n",
        " '1457.987232683666',\n",
        " '1318.6315499724637',\n",
        " '1308.229902956001',\n",
        " '1306.5014924869708',\n",
        " '1305.8392191584257',\n",
        " '1305.3720207742724',\n",
        " '1304.9479170631914',\n",
        " '1304.5342175127846',\n",
        " '1304.1232651910025']"
       ]
      }
     ],
     "prompt_number": 43
    },
    {
     "cell_type": "code",
     "collapsed": false,
     "input": [
      "report2.cost_train"
     ],
     "language": "python",
     "metadata": {},
     "outputs": [
      {
       "metadata": {},
       "output_type": "pyout",
       "prompt_number": 44,
       "text": [
        "['842.4995227409529',\n",
        " '658.3136537981824',\n",
        " '595.0890539390623',\n",
        " '552.2551898905667',\n",
        " '519.6778153769249',\n",
        " '494.3419871055086',\n",
        " '474.57420416757515',\n",
        " '458.40171096449103',\n",
        " '444.83394343572564',\n",
        " '433.3470632265239']"
       ]
      }
     ],
     "prompt_number": 44
    },
    {
     "cell_type": "code",
     "collapsed": false,
     "input": [
      "report3.cost_train"
     ],
     "language": "python",
     "metadata": {},
     "outputs": [
      {
       "metadata": {},
       "output_type": "pyout",
       "prompt_number": 45,
       "text": [
        "['865.622645519334',\n",
        " '769.1172463058037',\n",
        " '694.2267037381984',\n",
        " '640.7153433266442',\n",
        " '598.4117223397687',\n",
        " '564.313720199715',\n",
        " '535.8153014599758',\n",
        " '512.0499134686086',\n",
        " '492.24122790421774',\n",
        " '474.9743222557942']"
       ]
      }
     ],
     "prompt_number": 45
    },
    {
     "cell_type": "heading",
     "level": 2,
     "metadata": {},
     "source": [
      "Reuse Previously imported frame"
     ]
    },
    {
     "cell_type": "code",
     "collapsed": false,
     "input": [
      "from intel_analytics.table.bigdataframe import get_frame"
     ],
     "language": "python",
     "metadata": {},
     "outputs": [],
     "prompt_number": 46
    },
    {
     "cell_type": "code",
     "collapsed": false,
     "input": [
      "frame = get_frame(\"myframe\")"
     ],
     "language": "python",
     "metadata": {},
     "outputs": [],
     "prompt_number": 47
    },
    {
     "cell_type": "code",
     "collapsed": false,
     "input": [
      "HTML(frame.inspect_as_html())"
     ],
     "language": "python",
     "metadata": {},
     "outputs": [
      {
       "html": [
        "<table border=\"1\"><tr><th>movie</th><th>vertex_type</th><th>splits</th><th>user</th><th>rating</th></tr><tr><td>-314</td><td>L</td><td>tr</td><td>1</td><td>3</td></tr><tr><td>-384</td><td>L</td><td>tr</td><td>4</td><td>4</td></tr><tr><td>-371</td><td>L</td><td>tr</td><td>30</td><td>5</td></tr><tr><td>-193</td><td>L</td><td>tr</td><td>435</td><td>3</td></tr><tr><td>-304</td><td>L</td><td>tr</td><td>6661</td><td>3</td></tr><tr><td>-314</td><td>L</td><td>tr</td><td>6661</td><td>4</td></tr><tr><td>-316</td><td>L</td><td>tr</td><td>6661</td><td>2</td></tr><tr><td>-329</td><td>L</td><td>tr</td><td>6661</td><td>5</td></tr><tr><td>-332</td><td>L</td><td>tr</td><td>6661</td><td>5</td></tr><tr><td>-336</td><td>L</td><td>tr</td><td>6661</td><td>2</td></tr></table>"
       ],
       "metadata": {},
       "output_type": "pyout",
       "prompt_number": 48,
       "text": [
        "<IPython.core.display.HTML at 0x2fb2750>"
       ]
      }
     ],
     "prompt_number": 48
    },
    {
     "cell_type": "code",
     "collapsed": false,
     "input": [
      "frame.drop_columns(\"vertex_type\")"
     ],
     "language": "python",
     "metadata": {},
     "outputs": [
      {
       "html": [
        "\n",
        "            <div id=\"d46adb95-26fd-4f9f-a98c-6f2b1f6d04c7\" class='status'>\n",
        "                <span class=\"label span2\">Initialization</span>\n",
        "                <span class=\"span7 progress\">\n",
        "                      <div class=\"bar\" style= \"width:0%\">&nbsp;</div>\n",
        "                </span>\n",
        "            </div>\n",
        "            "
       ],
       "metadata": {},
       "output_type": "display_data",
       "text": [
        "<IPython.core.display.HTML at 0x2fb26d0>"
       ]
      },
      {
       "javascript": [
        "$('#d46adb95-26fd-4f9f-a98c-6f2b1f6d04c7 span').last().addClass(\"progress-striped active\")"
       ],
       "metadata": {},
       "output_type": "display_data",
       "text": [
        "<IPython.core.display.Javascript at 0x2fb26d0>"
       ]
      },
      {
       "javascript": [
        "$('#d46adb95-26fd-4f9f-a98c-6f2b1f6d04c7 div').first().width('100%')"
       ],
       "metadata": {},
       "output_type": "display_data",
       "text": [
        "<IPython.core.display.Javascript at 0x2fb26d0>"
       ]
      },
      {
       "javascript": [
        "$('#d46adb95-26fd-4f9f-a98c-6f2b1f6d04c7 span').last().removeClass(\"progress-striped active\")"
       ],
       "metadata": {},
       "output_type": "display_data",
       "text": [
        "<IPython.core.display.Javascript at 0x2fb28d0>"
       ]
      },
      {
       "javascript": [
        "$('#d46adb95-26fd-4f9f-a98c-6f2b1f6d04c7 span').first().text('Initialization completed')"
       ],
       "metadata": {},
       "output_type": "display_data",
       "text": [
        "<IPython.core.display.Javascript at 0x2fb2890>"
       ]
      },
      {
       "html": [
        "\n",
        "            <div id=\"11148dbf-8607-4017-bdaa-3039955c9ba9\" class='status'>\n",
        "                <span class=\"label span2\">Step 1</span>\n",
        "                <span class=\"span7 progress\">\n",
        "                      <div class=\"bar\" style= \"width:0%\">&nbsp;</div>\n",
        "                </span>\n",
        "            </div>\n",
        "            "
       ],
       "metadata": {},
       "output_type": "display_data",
       "text": [
        "<IPython.core.display.HTML at 0x2fb2890>"
       ]
      },
      {
       "javascript": [
        "$('#11148dbf-8607-4017-bdaa-3039955c9ba9 div').first().width('0%')"
       ],
       "metadata": {},
       "output_type": "display_data",
       "text": [
        "<IPython.core.display.Javascript at 0x2fb2890>"
       ]
      },
      {
       "javascript": [
        "$('#11148dbf-8607-4017-bdaa-3039955c9ba9 div').first().width('100%')"
       ],
       "metadata": {},
       "output_type": "display_data",
       "text": [
        "<IPython.core.display.Javascript at 0x2fb27d0>"
       ]
      },
      {
       "javascript": [
        "$('#11148dbf-8607-4017-bdaa-3039955c9ba9 span').first().text('Step 1 completed')"
       ],
       "metadata": {},
       "output_type": "display_data",
       "text": [
        "<IPython.core.display.Javascript at 0x2fb27d0>"
       ]
      }
     ],
     "prompt_number": 49
    },
    {
     "cell_type": "code",
     "collapsed": false,
     "input": [
      "print time.time() - start_time"
     ],
     "language": "python",
     "metadata": {},
     "outputs": [
      {
       "output_type": "stream",
       "stream": "stdout",
       "text": [
        "848.871343136\n"
       ]
      }
     ],
     "prompt_number": 50
    }
   ],
   "metadata": {}
  }
 ]
}